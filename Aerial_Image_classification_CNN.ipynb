{
  "cells": [
    {
      "cell_type": "markdown",
      "metadata": {
        "id": "view-in-github",
        "colab_type": "text"
      },
      "source": [
        "<a href=\"https://colab.research.google.com/github/OConnorsphysics/Data_Science_Machine_Learning/blob/main/Liams_Project2_CNN.ipynb\" target=\"_parent\"><img src=\"https://colab.research.google.com/assets/colab-badge.svg\" alt=\"Open In Colab\"/></a>"
      ]
    },
    {
      "cell_type": "markdown",
      "source": [
        "#<font color= 'lightblue'>**Identifying Location Class from Aerial Imagery** </font>"
      ],
      "metadata": {
        "id": "40bC546W_RTP"
      }
    },
    {
      "cell_type": "markdown",
      "source": [
        "\n",
        "<img src='http://drive.google.com/uc?export=view&id=1Fo2x1i7BvwMI2vPrQoQyl2Ks6mhcC1ta' width=500>"
      ],
      "metadata": {
        "id": "4VuIX__fIzUQ"
      }
    },
    {
      "cell_type": "markdown",
      "metadata": {
        "id": "kt6jqOUBkLJg"
      },
      "source": [
        "In this notebook we will be building varying neural networks to predict ground structures and vegetation using aerial imagery. Aerial scene classification is a large field of study within remote sensing, which requires large, diverse datasets. As more high quality satelitte imagery becomes publicly accesible there is a drive to build accurate models to predict, sort, and map ground targets. The ultimate question this leads to is:\n",
        "\n",
        "**Given any sattelite image, regardless of season, or time of day, can we use a neural network to accurately predict what we have imaged?**\n",
        "\n",
        "The dataset we will use in our model was compiled by Gui-Song Xia, Jingwen Hu, Fan Hu, Baoguang Shi, Xiang Bai, Yanfei Zhong, and Liangpei Zhang. These researchers co-authored a paper titled \"AID: A Benchmark Dataset for Performance Evaluation of Aerial Scene Classification\". The data set consists of 10 000 RGB images, that fall into 30 labelled classifications. The images are gathered from Google earth imagery, which uses multiple sensors for collection. The data set has high intra-class diversity as images were taken during different seasons, times of the day, and under varying lighting conditions. The majority of the photos are from China, the United States, England, France, Italy, Japan, Germany.\n",
        "\n",
        "We will build both a dense and convolutional neural network in hopes of accurately classifying the scenes. To compare the different models we will train them both on the same 80% of the dataset. We will withhold 20% for testing and validation of the models. \n"
      ]
    },
    {
      "cell_type": "code",
      "execution_count": null,
      "metadata": {
        "id": "ZikyzUINmtcP"
      },
      "outputs": [],
      "source": [
        "#load required packages\n",
        "from tensorflow import keras\n",
        "from tensorflow.keras import layers\n",
        "from tensorflow.keras.utils import plot_model\n",
        "\n",
        "import matplotlib.pyplot as plt\n",
        "import numpy as np"
      ]
    },
    {
      "cell_type": "markdown",
      "metadata": {
        "id": "uc0-QWfkDqRC"
      },
      "source": [
        "###<font color= 'lightblue'>**Importing Data & Preprocessing** </font>"
      ]
    },
    {
      "cell_type": "code",
      "execution_count": null,
      "metadata": {
        "colab": {
          "base_uri": "https://localhost:8080/"
        },
        "id": "ATdevFNZkfLa",
        "outputId": "2917752c-247d-4ff7-b15a-1d6e6b3dd947"
      },
      "outputs": [
        {
          "output_type": "stream",
          "name": "stdout",
          "text": [
            "Mounted at /content/gdrive\n"
          ]
        }
      ],
      "source": [
        "from google.colab import drive\n",
        "drive.mount('/content/gdrive')"
      ]
    },
    {
      "cell_type": "code",
      "source": [
        "!unzip gdrive/MyDrive/AerialImageDataset.zip"
      ],
      "metadata": {
        "id": "ElU8JE52CVzV"
      },
      "execution_count": null,
      "outputs": []
    },
    {
      "cell_type": "markdown",
      "metadata": {
        "id": "ynBbz4oTpK7d"
      },
      "source": [
        "## <font color='darkorange'>Preprocessing images</font>"
      ]
    },
    {
      "cell_type": "code",
      "source": [
        "pip install split-folders"
      ],
      "metadata": {
        "colab": {
          "base_uri": "https://localhost:8080/"
        },
        "id": "l8hYNrISoMh4",
        "outputId": "2f48d797-a70a-425d-97c8-0f7eabd57aa7"
      },
      "execution_count": null,
      "outputs": [
        {
          "output_type": "stream",
          "name": "stdout",
          "text": [
            "Looking in indexes: https://pypi.org/simple, https://us-python.pkg.dev/colab-wheels/public/simple/\n",
            "Collecting split-folders\n",
            "  Downloading split_folders-0.5.1-py3-none-any.whl (8.4 kB)\n",
            "Installing collected packages: split-folders\n",
            "Successfully installed split-folders-0.5.1\n"
          ]
        }
      ]
    },
    {
      "cell_type": "code",
      "source": [
        "import splitfolders # import splitfolders to automate the folder test/train splitting\n",
        "input_folder = \"/content/AID\"\n",
        "output = \"/content/split_data\" \n",
        "splitfolders.ratio(input_folder, output=output, seed=42, ratio=(.8, .1, .1))"
      ],
      "metadata": {
        "colab": {
          "base_uri": "https://localhost:8080/"
        },
        "id": "NcZUuVgjn4T-",
        "outputId": "71440f02-0c04-459e-bf27-51417a15e88d"
      },
      "execution_count": null,
      "outputs": [
        {
          "output_type": "stream",
          "name": "stderr",
          "text": [
            "Copying files: 10000 files [00:22, 443.30 files/s]\n"
          ]
        }
      ]
    },
    {
      "cell_type": "code",
      "source": [
        "from tensorflow.keras.utils import image_dataset_from_directory\n",
        "import pathlib, os\n",
        "\n",
        "#Set the path to the images\n",
        "new_base_dir = pathlib.Path(\"/content/split_data\")"
      ],
      "metadata": {
        "id": "GuZ7nIVlLV3J"
      },
      "execution_count": null,
      "outputs": []
    },
    {
      "cell_type": "code",
      "execution_count": null,
      "metadata": {
        "colab": {
          "base_uri": "https://localhost:8080/"
        },
        "id": "U36q7GqWsKAN",
        "outputId": "38f4a16a-591c-426e-ed76-cf1153ea94d1"
      },
      "outputs": [
        {
          "output_type": "stream",
          "name": "stdout",
          "text": [
            "Found 8000 files belonging to 30 classes.\n"
          ]
        }
      ],
      "source": [
        "#Training data\n",
        "train_dataset = image_dataset_from_directory(\n",
        "            new_base_dir / \"train\",\n",
        "            image_size=(180, 180),\n",
        "            batch_size=40)"
      ]
    },
    {
      "cell_type": "code",
      "execution_count": null,
      "metadata": {
        "colab": {
          "base_uri": "https://localhost:8080/"
        },
        "id": "-aTq0Bcbsctw",
        "outputId": "26cd99b2-69a5-4d6b-a9b1-b63412e057d2"
      },
      "outputs": [
        {
          "output_type": "stream",
          "name": "stdout",
          "text": [
            "Found 1000 files belonging to 30 classes.\n"
          ]
        }
      ],
      "source": [
        "#validation data\n",
        "validation_dataset = image_dataset_from_directory(\n",
        "            new_base_dir / \"val\",\n",
        "            image_size=(180, 180),\n",
        "            batch_size=40)\n",
        "\n"
      ]
    },
    {
      "cell_type": "code",
      "execution_count": null,
      "metadata": {
        "colab": {
          "base_uri": "https://localhost:8080/"
        },
        "id": "WTKCYsuh8msc",
        "outputId": "58be9733-5b11-4198-93a9-a634c8f2536b"
      },
      "outputs": [
        {
          "output_type": "stream",
          "name": "stdout",
          "text": [
            "Found 1000 files belonging to 30 classes.\n"
          ]
        }
      ],
      "source": [
        "#test data\n",
        "test_dataset = image_dataset_from_directory(\n",
        "            new_base_dir / \"test\",\n",
        "            image_size=(180, 180),\n",
        "            batch_size=1)"
      ]
    },
    {
      "cell_type": "code",
      "execution_count": null,
      "metadata": {
        "colab": {
          "base_uri": "https://localhost:8080/"
        },
        "id": "RyraFsay_RR-",
        "outputId": "a40ceff1-bbdf-4d30-be9f-a5fd0daf8840"
      },
      "outputs": [
        {
          "output_type": "stream",
          "name": "stdout",
          "text": [
            "data batch shape: (40, 180, 180, 3)\n",
            "labels batch shape: (40,)\n"
          ]
        }
      ],
      "source": [
        "for data_batch, labels_batch in train_dataset:\n",
        "  print(\"data batch shape:\", data_batch.shape)\n",
        "  print(\"labels batch shape:\", labels_batch.shape)\n",
        "  break"
      ]
    },
    {
      "cell_type": "markdown",
      "metadata": {
        "id": "alWeUnafpN-H"
      },
      "source": [
        "## <font color='darkorange'>Build a standard CNN</font>\n",
        "\n"
      ]
    },
    {
      "cell_type": "code",
      "source": [
        "#define all the layers of the model\n",
        "inputs = keras.Input(shape=(180, 180, 3))\n",
        "x = layers.Flatten()(inputs)\n",
        "x = layers.Rescaling(1.0/255)(x)\n",
        "x = layers.Dense(100, activation='relu')(x)\n",
        "x = layers.Dense(50, activation='relu')(x)\n",
        "#x = layers.Dense(20, activation='relu')(x)\n",
        "outputs = layers.Dense(30, activation=\"softmax\")(x)\n",
        "\n",
        "#build the model\n",
        "model = keras.Model(inputs=inputs, outputs=outputs)"
      ],
      "metadata": {
        "id": "iIce-J1nz1YX"
      },
      "execution_count": null,
      "outputs": []
    },
    {
      "cell_type": "code",
      "source": [
        "model.compile(optimizer=\"rmsprop\",\n",
        "              loss=\"sparse_categorical_crossentropy\",\n",
        "              metrics=[\"accuracy\"])"
      ],
      "metadata": {
        "id": "WGo9Wtocz1Ra"
      },
      "execution_count": null,
      "outputs": []
    },
    {
      "cell_type": "code",
      "source": [
        "#set the early stopping and model saving\n",
        "callbacks = [\n",
        "    keras.callbacks.ModelCheckpoint(\n",
        "    filepath=\"Dense_NN.keras\",\n",
        "    save_best_only=True,\n",
        "    monitor=\"val_loss\"),\n",
        "    \n",
        "    keras.callbacks.EarlyStopping(\n",
        "        monitor=\"val_accuracy\",\n",
        "        patience=5)\n",
        "]\n",
        "\n",
        "#fit the model\n",
        "history = model.fit(\n",
        "    train_dataset,\n",
        "    epochs=30,\n",
        "    validation_data=validation_dataset,\n",
        "    callbacks=callbacks)"
      ],
      "metadata": {
        "colab": {
          "base_uri": "https://localhost:8080/"
        },
        "id": "kcYAy50Gz1KH",
        "outputId": "63ef32c1-8d1d-4120-919e-5caa9d920e5f"
      },
      "execution_count": null,
      "outputs": [
        {
          "output_type": "stream",
          "name": "stdout",
          "text": [
            "Epoch 1/30\n",
            "200/200 [==============================] - 58s 281ms/step - loss: 7.6839 - accuracy: 0.0416 - val_loss: 3.3964 - val_accuracy: 0.0420\n",
            "Epoch 2/30\n",
            "200/200 [==============================] - 63s 304ms/step - loss: 3.4699 - accuracy: 0.0420 - val_loss: 3.3923 - val_accuracy: 0.0420\n",
            "Epoch 3/30\n",
            "200/200 [==============================] - 65s 317ms/step - loss: 3.4516 - accuracy: 0.0420 - val_loss: 3.3897 - val_accuracy: 0.0420\n",
            "Epoch 4/30\n",
            "200/200 [==============================] - 58s 285ms/step - loss: 3.4574 - accuracy: 0.0419 - val_loss: 3.3881 - val_accuracy: 0.0420\n",
            "Epoch 5/30\n",
            "200/200 [==============================] - 59s 291ms/step - loss: 3.4310 - accuracy: 0.0422 - val_loss: 3.3873 - val_accuracy: 0.0420\n",
            "Epoch 6/30\n",
            "200/200 [==============================] - 59s 289ms/step - loss: 3.3875 - accuracy: 0.0420 - val_loss: 3.3868 - val_accuracy: 0.0420\n"
          ]
        }
      ]
    },
    {
      "cell_type": "code",
      "source": [
        "#make the training and validation loss plot\n",
        "plt.plot(history.history['loss'], label=\"Training loss\")\n",
        "plt.plot(history.history['val_loss'], label=\"Validation loss\")\n",
        "plt.legend()"
      ],
      "metadata": {
        "colab": {
          "base_uri": "https://localhost:8080/",
          "height": 282
        },
        "id": "avz10QWOz8Wk",
        "outputId": "4253c227-acfa-4242-b95c-ed594abea954"
      },
      "execution_count": null,
      "outputs": [
        {
          "output_type": "execute_result",
          "data": {
            "text/plain": [
              "<matplotlib.legend.Legend at 0x7fb886bc7650>"
            ]
          },
          "metadata": {},
          "execution_count": 15
        },
        {
          "output_type": "display_data",
          "data": {
            "text/plain": [
              "<Figure size 432x288 with 1 Axes>"
            ],
            "image/png": "[encoded data removed]"
          },
          "metadata": {
            "needs_background": "light"
          }
        }
      ]
    },
    {
      "cell_type": "code",
      "source": [
        "#make the training and validation accuracy plot\n",
        "plt.plot(history.history['accuracy'], label=\"Training accuracy\")\n",
        "plt.plot(history.history['val_accuracy'], label=\"Validation accuracy\")\n",
        "plt.legend()"
      ],
      "metadata": {
        "colab": {
          "base_uri": "https://localhost:8080/",
          "height": 282
        },
        "id": "40rgpJi7z-qj",
        "outputId": "0c63ba3a-64d7-4fed-b20a-9d38817a717a"
      },
      "execution_count": null,
      "outputs": [
        {
          "output_type": "execute_result",
          "data": {
            "text/plain": [
              "<matplotlib.legend.Legend at 0x7fb88668a410>"
            ]
          },
          "metadata": {},
          "execution_count": 16
        },
        {
          "output_type": "display_data",
          "data": {
            "text/plain": [
              "<Figure size 432x288 with 1 Axes>"
            ],
            "image/png": "[encoded data removed]"
          },
          "metadata": {
            "needs_background": "light"
          }
        }
      ]
    },
    {
      "cell_type": "code",
      "source": [
        "round( max(history.history[\"val_accuracy\"]), 3)"
      ],
      "metadata": {
        "colab": {
          "base_uri": "https://localhost:8080/"
        },
        "id": "GMrA8ifz0A5t",
        "outputId": "9c918a9c-d714-4d44-aa4b-cbec8370a0f3"
      },
      "execution_count": null,
      "outputs": [
        {
          "output_type": "execute_result",
          "data": {
            "text/plain": [
              "0.042"
            ]
          },
          "metadata": {},
          "execution_count": 17
        }
      ]
    },
    {
      "cell_type": "markdown",
      "source": [
        "# Build Convolutional NN"
      ],
      "metadata": {
        "id": "YVwiD1OiztT8"
      }
    },
    {
      "cell_type": "code",
      "execution_count": null,
      "metadata": {
        "id": "CZren5PJ4enO"
      },
      "outputs": [],
      "source": [
        "data_augmentation = keras.Sequential(\n",
        "            [\n",
        "               layers.RandomFlip(\"horizontal\"),\n",
        "               layers.RandomRotation(0.1),\n",
        "               layers.RandomZoom(0.1),\n",
        "] )"
      ]
    },
    {
      "cell_type": "markdown",
      "source": [
        "Let's add this step to our model and see if it helps performance!"
      ],
      "metadata": {
        "id": "xLHsgP60mx2c"
      }
    },
    {
      "cell_type": "code",
      "execution_count": null,
      "metadata": {
        "id": "GhooFhyy4a1B"
      },
      "outputs": [],
      "source": [
        "\n",
        "#define all the layers of the model\n",
        "inputs = keras.Input(shape=(180, 180, 3))\n",
        "x = data_augmentation(inputs) #added data augmentation\n",
        "x = layers.Rescaling(1./255)(x)\n",
        "x = layers.Conv2D(filters=32, kernel_size=3, activation=\"relu\")(x)\n",
        "x = layers.MaxPooling2D(pool_size=2)(x)\n",
        "x = layers.Conv2D(filters=64, kernel_size=3, activation=\"relu\")(x)\n",
        "x = layers.MaxPooling2D(pool_size=2)(x)\n",
        "x = layers.Conv2D(filters=128, kernel_size=3, activation=\"relu\")(x)\n",
        "x = layers.MaxPooling2D(pool_size=2)(x)\n",
        "x = layers.Conv2D(filters=256, kernel_size=3, activation=\"relu\")(x)\n",
        "x = layers.MaxPooling2D(pool_size=2)(x)\n",
        "#x = layers.Conv2D(filters=512, kernel_size=3, activation=\"relu\")(x)       #with both these layers included the NN is too deep and gets caught at val_accuraccy=0.042 \n",
        "#x = layers.MaxPooling2D(pool_size=2)(x)\n",
        "x = layers.Flatten()(x)\n",
        "x = layers.Dropout(0.5)(x)\n",
        "outputs = layers.Dense(30, activation=\"softmax\")(x)\n",
        "\n",
        "#build the model\n",
        "model = keras.Model(inputs=inputs, outputs=outputs)\n"
      ]
    },
    {
      "cell_type": "code",
      "execution_count": null,
      "metadata": {
        "id": "0JN8IRAZ9vfz"
      },
      "outputs": [],
      "source": [
        "model.compile(optimizer=\"rmsprop\",\n",
        "              loss=\"sparse_categorical_crossentropy\",\n",
        "              metrics=[\"accuracy\"])"
      ]
    },
    {
      "cell_type": "markdown",
      "metadata": {
        "id": "BBwZA-t__zWW"
      },
      "source": [
        "Let's fit this new model"
      ]
    },
    {
      "cell_type": "code",
      "execution_count": null,
      "metadata": {
        "colab": {
          "base_uri": "https://localhost:8080/"
        },
        "id": "rec_UN6E_yCv",
        "outputId": "d144b8cf-7186-4420-a8da-b0a282e7a34f"
      },
      "outputs": [
        {
          "output_type": "stream",
          "name": "stdout",
          "text": [
            "Epoch 1/30\n",
            "200/200 [==============================] - 67s 257ms/step - loss: 2.8254 - accuracy: 0.1954 - val_loss: 2.6651 - val_accuracy: 0.3100\n",
            "Epoch 2/30\n",
            "200/200 [==============================] - 49s 240ms/step - loss: 1.9787 - accuracy: 0.4089 - val_loss: 1.6489 - val_accuracy: 0.5010\n",
            "Epoch 3/30\n",
            "200/200 [==============================] - 46s 220ms/step - loss: 1.6638 - accuracy: 0.5010 - val_loss: 1.8288 - val_accuracy: 0.4580\n",
            "Epoch 4/30\n",
            "200/200 [==============================] - 46s 225ms/step - loss: 1.4585 - accuracy: 0.5570 - val_loss: 1.8347 - val_accuracy: 0.5360\n",
            "Epoch 5/30\n",
            "200/200 [==============================] - 54s 265ms/step - loss: 1.3347 - accuracy: 0.5985 - val_loss: 1.4920 - val_accuracy: 0.5750\n",
            "Epoch 6/30\n",
            "200/200 [==============================] - 46s 221ms/step - loss: 1.2062 - accuracy: 0.6399 - val_loss: 1.1246 - val_accuracy: 0.6590\n",
            "Epoch 7/30\n",
            "200/200 [==============================] - 49s 240ms/step - loss: 1.0901 - accuracy: 0.6668 - val_loss: 0.9803 - val_accuracy: 0.6890\n",
            "Epoch 8/30\n",
            "200/200 [==============================] - 45s 215ms/step - loss: 1.0382 - accuracy: 0.6881 - val_loss: 0.9938 - val_accuracy: 0.6780\n",
            "Epoch 9/30\n",
            "200/200 [==============================] - 46s 222ms/step - loss: 0.9738 - accuracy: 0.7069 - val_loss: 0.8812 - val_accuracy: 0.7250\n",
            "Epoch 10/30\n",
            "200/200 [==============================] - 44s 216ms/step - loss: 0.9237 - accuracy: 0.7180 - val_loss: 1.2661 - val_accuracy: 0.6260\n",
            "Epoch 11/30\n",
            "200/200 [==============================] - 46s 223ms/step - loss: 0.8635 - accuracy: 0.7311 - val_loss: 0.8397 - val_accuracy: 0.7420\n",
            "Epoch 12/30\n",
            "200/200 [==============================] - 45s 216ms/step - loss: 0.8359 - accuracy: 0.7436 - val_loss: 1.1074 - val_accuracy: 0.6760\n",
            "Epoch 13/30\n",
            "200/200 [==============================] - 46s 222ms/step - loss: 0.7997 - accuracy: 0.7571 - val_loss: 1.1311 - val_accuracy: 0.6810\n",
            "Epoch 14/30\n",
            "200/200 [==============================] - 45s 219ms/step - loss: 0.7654 - accuracy: 0.7645 - val_loss: 1.0118 - val_accuracy: 0.7080\n",
            "Epoch 15/30\n",
            "200/200 [==============================] - 44s 214ms/step - loss: 0.7422 - accuracy: 0.7753 - val_loss: 0.9032 - val_accuracy: 0.7290\n",
            "Epoch 16/30\n",
            "200/200 [==============================] - 45s 221ms/step - loss: 0.7143 - accuracy: 0.7830 - val_loss: 0.9261 - val_accuracy: 0.7120\n"
          ]
        }
      ],
      "source": [
        "#set the early stopping and model saving\n",
        "callbacks = [\n",
        "    keras.callbacks.ModelCheckpoint(\n",
        "    filepath=\"Convnet_max_tools.keras\",\n",
        "    save_best_only=True,\n",
        "    monitor=\"val_loss\"),\n",
        "    \n",
        "    keras.callbacks.EarlyStopping(\n",
        "        monitor=\"val_accuracy\",\n",
        "        patience=5)\n",
        "]\n",
        "\n",
        "#fit the model\n",
        "history = model.fit(\n",
        "    train_dataset,\n",
        "    epochs=30,\n",
        "    validation_data=validation_dataset,\n",
        "    callbacks=callbacks)"
      ]
    },
    {
      "cell_type": "markdown",
      "metadata": {
        "id": "o7X4rVKh_2cm"
      },
      "source": [
        "Let's see how the model fit."
      ]
    },
    {
      "cell_type": "code",
      "execution_count": null,
      "metadata": {
        "id": "8pnR1ZlKAZ2b",
        "colab": {
          "base_uri": "https://localhost:8080/",
          "height": 282
        },
        "outputId": "43fff3d3-8b25-4ff1-86c9-808cfe63e30e"
      },
      "outputs": [
        {
          "output_type": "execute_result",
          "data": {
            "text/plain": [
              "<matplotlib.legend.Legend at 0x7fad10056c90>"
            ]
          },
          "metadata": {},
          "execution_count": 15
        },
        {
          "output_type": "display_data",
          "data": {
            "text/plain": [
              "<Figure size 432x288 with 1 Axes>"
            ],
            "image/png": "[encoded data removed]"
          },
          "metadata": {
            "needs_background": "light"
          }
        }
      ],
      "source": [
        "#make the training and validation loss plot\n",
        "plt.plot(history.history['loss'], label=\"Training loss\")\n",
        "plt.plot(history.history['val_loss'], label=\"Validation loss\")\n",
        "plt.legend()"
      ]
    },
    {
      "cell_type": "code",
      "execution_count": null,
      "metadata": {
        "id": "XBgDHuSfAZgC",
        "colab": {
          "base_uri": "https://localhost:8080/",
          "height": 282
        },
        "outputId": "a3411eb7-8075-4021-9d06-6de5656ef6cd"
      },
      "outputs": [
        {
          "output_type": "execute_result",
          "data": {
            "text/plain": [
              "<matplotlib.legend.Legend at 0x7faca67e1cd0>"
            ]
          },
          "metadata": {},
          "execution_count": 16
        },
        {
          "output_type": "display_data",
          "data": {
            "text/plain": [
              "<Figure size 432x288 with 1 Axes>"
            ],
            "image/png": "[encoded data removed]"
          },
          "metadata": {
            "needs_background": "light"
          }
        }
      ],
      "source": [
        "#make the training and validation accuracy plot\n",
        "plt.plot(history.history['accuracy'], label=\"Training accuracy\")\n",
        "plt.plot(history.history['val_accuracy'], label=\"Validation accuracy\")\n",
        "plt.legend()"
      ]
    },
    {
      "cell_type": "code",
      "source": [
        "round( max(history.history[\"val_accuracy\"]), 3)"
      ],
      "metadata": {
        "id": "DGzxUffJnZp0",
        "colab": {
          "base_uri": "https://localhost:8080/"
        },
        "outputId": "7a745c31-680f-4b2a-826f-09f183dbc66a"
      },
      "execution_count": null,
      "outputs": [
        {
          "output_type": "execute_result",
          "data": {
            "text/plain": [
              "0.742"
            ]
          },
          "metadata": {},
          "execution_count": 17
        }
      ]
    },
    {
      "cell_type": "markdown",
      "source": [
        "## <font color='lightblue'>Pretrained Model</font>\n"
      ],
      "metadata": {
        "id": "9HHYwjnpuD6R"
      }
    },
    {
      "cell_type": "code",
      "execution_count": null,
      "metadata": {
        "id": "IyqKnL-f6O3c",
        "colab": {
          "base_uri": "https://localhost:8080/"
        },
        "outputId": "f46e9f8a-cd13-4ca4-8bbb-5032d5c2daac"
      },
      "outputs": [
        {
          "output_type": "stream",
          "name": "stdout",
          "text": [
            "Downloading data from https://storage.googleapis.com/tensorflow/keras-applications/vgg16/vgg16_weights_tf_dim_ordering_tf_kernels_notop.h5\n",
            "58892288/58889256 [==============================] - 0s 0us/step\n",
            "58900480/58889256 [==============================] - 0s 0us/step\n"
          ]
        }
      ],
      "source": [
        "#load a pretreined model\n",
        "conv_base  = keras.applications.vgg16.VGG16(\n",
        "    weights=\"imagenet\",\n",
        "    include_top=False)\n"
      ]
    },
    {
      "cell_type": "code",
      "execution_count": null,
      "metadata": {
        "id": "rbhabLLs6dIP",
        "colab": {
          "base_uri": "https://localhost:8080/"
        },
        "outputId": "4db5b36a-cabd-4248-b04f-6f9cfcd13571"
      },
      "outputs": [
        {
          "output_type": "stream",
          "name": "stdout",
          "text": [
            "Model: \"vgg16\"\n",
            "_________________________________________________________________\n",
            " Layer (type)                Output Shape              Param #   \n",
            "=================================================================\n",
            " input_2 (InputLayer)        [(None, None, None, 3)]   0         \n",
            "                                                                 \n",
            " block1_conv1 (Conv2D)       (None, None, None, 64)    1792      \n",
            "                                                                 \n",
            " block1_conv2 (Conv2D)       (None, None, None, 64)    36928     \n",
            "                                                                 \n",
            " block1_pool (MaxPooling2D)  (None, None, None, 64)    0         \n",
            "                                                                 \n",
            " block2_conv1 (Conv2D)       (None, None, None, 128)   73856     \n",
            "                                                                 \n",
            " block2_conv2 (Conv2D)       (None, None, None, 128)   147584    \n",
            "                                                                 \n",
            " block2_pool (MaxPooling2D)  (None, None, None, 128)   0         \n",
            "                                                                 \n",
            " block3_conv1 (Conv2D)       (None, None, None, 256)   295168    \n",
            "                                                                 \n",
            " block3_conv2 (Conv2D)       (None, None, None, 256)   590080    \n",
            "                                                                 \n",
            " block3_conv3 (Conv2D)       (None, None, None, 256)   590080    \n",
            "                                                                 \n",
            " block3_pool (MaxPooling2D)  (None, None, None, 256)   0         \n",
            "                                                                 \n",
            " block4_conv1 (Conv2D)       (None, None, None, 512)   1180160   \n",
            "                                                                 \n",
            " block4_conv2 (Conv2D)       (None, None, None, 512)   2359808   \n",
            "                                                                 \n",
            " block4_conv3 (Conv2D)       (None, None, None, 512)   2359808   \n",
            "                                                                 \n",
            " block4_pool (MaxPooling2D)  (None, None, None, 512)   0         \n",
            "                                                                 \n",
            " block5_conv1 (Conv2D)       (None, None, None, 512)   2359808   \n",
            "                                                                 \n",
            " block5_conv2 (Conv2D)       (None, None, None, 512)   2359808   \n",
            "                                                                 \n",
            " block5_conv3 (Conv2D)       (None, None, None, 512)   2359808   \n",
            "                                                                 \n",
            " block5_pool (MaxPooling2D)  (None, None, None, 512)   0         \n",
            "                                                                 \n",
            "=================================================================\n",
            "Total params: 14,714,688\n",
            "Trainable params: 14,714,688\n",
            "Non-trainable params: 0\n",
            "_________________________________________________________________\n",
            "None\n"
          ]
        }
      ],
      "source": [
        "print(conv_base.summary() )"
      ]
    },
    {
      "cell_type": "code",
      "source": [
        "#Set all the weights to non-trainable\n",
        "conv_base.trainable = False"
      ],
      "metadata": {
        "id": "OFH78O27S2YV"
      },
      "execution_count": null,
      "outputs": []
    },
    {
      "cell_type": "code",
      "execution_count": null,
      "metadata": {
        "id": "IEJB_A7S69M_"
      },
      "outputs": [],
      "source": [
        "inputs = keras.Input(shape=(180, 180, 3))\n",
        "x = data_augmentation(inputs)\n",
        "x = keras.applications.vgg16.preprocess_input(x) #this prepairs the data for vgg16\n",
        "x = conv_base(x)\n",
        "x = layers.Flatten()(x)\n",
        "x = layers.Dense(256)(x)\n",
        "x = layers.Dropout(0.5)(x)\n",
        "outputs = layers.Dense(30, activation=\"softmax\")(x)\n",
        "model = keras.Model(inputs, outputs)"
      ]
    },
    {
      "cell_type": "code",
      "source": [
        "print(model.summary())"
      ],
      "metadata": {
        "id": "HVvCONQ8oJWs",
        "colab": {
          "base_uri": "https://localhost:8080/"
        },
        "outputId": "df0d1ec1-abef-455b-a3d2-c58bc437baf4"
      },
      "execution_count": null,
      "outputs": [
        {
          "output_type": "stream",
          "name": "stdout",
          "text": [
            "Model: \"model_1\"\n",
            "_________________________________________________________________\n",
            " Layer (type)                Output Shape              Param #   \n",
            "=================================================================\n",
            " input_3 (InputLayer)        [(None, 180, 180, 3)]     0         \n",
            "                                                                 \n",
            " sequential (Sequential)     (None, 180, 180, 3)       0         \n",
            "                                                                 \n",
            " tf.__operators__.getitem (S  (None, 180, 180, 3)      0         \n",
            " licingOpLambda)                                                 \n",
            "                                                                 \n",
            " tf.nn.bias_add (TFOpLambda)  (None, 180, 180, 3)      0         \n",
            "                                                                 \n",
            " vgg16 (Functional)          (None, None, None, 512)   14714688  \n",
            "                                                                 \n",
            " flatten_1 (Flatten)         (None, 12800)             0         \n",
            "                                                                 \n",
            " dense_1 (Dense)             (None, 256)               3277056   \n",
            "                                                                 \n",
            " dropout_1 (Dropout)         (None, 256)               0         \n",
            "                                                                 \n",
            " dense_2 (Dense)             (None, 30)                7710      \n",
            "                                                                 \n",
            "=================================================================\n",
            "Total params: 17,999,454\n",
            "Trainable params: 3,284,766\n",
            "Non-trainable params: 14,714,688\n",
            "_________________________________________________________________\n",
            "None\n"
          ]
        }
      ]
    },
    {
      "cell_type": "code",
      "execution_count": null,
      "metadata": {
        "id": "G2goxUi97B1_"
      },
      "outputs": [],
      "source": [
        "model.compile(optimizer=\"rmsprop\",\n",
        "              loss=\"sparse_categorical_crossentropy\",\n",
        "              metrics=[\"accuracy\"])"
      ]
    },
    {
      "cell_type": "code",
      "execution_count": null,
      "metadata": {
        "id": "3hTsC8sw7GRt"
      },
      "outputs": [],
      "source": [
        "callbacks = [\n",
        "    keras.callbacks.ModelCheckpoint(\n",
        "        filepath=\"feature_extraction_with_vgg16.keras\",\n",
        "        save_best_only=True,\n",
        "        monitor=\"val_loss\"),\n",
        "    keras.callbacks.EarlyStopping(\n",
        "        monitor=\"val_accuracy\",\n",
        "        patience=5)\n",
        "]"
      ]
    },
    {
      "cell_type": "code",
      "execution_count": null,
      "metadata": {
        "id": "8Ia-_vvJ7QVw",
        "colab": {
          "base_uri": "https://localhost:8080/",
          "height": 1000
        },
        "outputId": "7eb4fbc3-2019-46d1-aed0-a68d4e16f0d4"
      },
      "outputs": [
        {
          "output_type": "stream",
          "name": "stdout",
          "text": [
            "Epoch 1/50\n",
            "200/200 [==============================] - 54s 240ms/step - loss: 24.0240 - accuracy: 0.6384 - val_loss: 15.3781 - val_accuracy: 0.8030\n",
            "Epoch 2/50\n",
            "200/200 [==============================] - 48s 234ms/step - loss: 14.8056 - accuracy: 0.7778 - val_loss: 16.2275 - val_accuracy: 0.8300\n",
            "Epoch 3/50\n",
            "200/200 [==============================] - 48s 233ms/step - loss: 12.6030 - accuracy: 0.8185 - val_loss: 12.4591 - val_accuracy: 0.8650\n",
            "Epoch 4/50\n",
            "200/200 [==============================] - 49s 233ms/step - loss: 11.3340 - accuracy: 0.8426 - val_loss: 16.6035 - val_accuracy: 0.8440\n",
            "Epoch 5/50\n",
            "200/200 [==============================] - 50s 241ms/step - loss: 9.9866 - accuracy: 0.8583 - val_loss: 12.1053 - val_accuracy: 0.8440\n",
            "Epoch 6/50\n",
            "200/200 [==============================] - 48s 235ms/step - loss: 9.3348 - accuracy: 0.8649 - val_loss: 11.9100 - val_accuracy: 0.8750\n",
            "Epoch 7/50\n",
            "200/200 [==============================] - 50s 243ms/step - loss: 8.6880 - accuracy: 0.8795 - val_loss: 11.3345 - val_accuracy: 0.8860\n",
            "Epoch 8/50\n",
            "200/200 [==============================] - 49s 239ms/step - loss: 7.4343 - accuracy: 0.8881 - val_loss: 12.6859 - val_accuracy: 0.8730\n",
            "Epoch 9/50\n",
            "200/200 [==============================] - 48s 236ms/step - loss: 7.4552 - accuracy: 0.8869 - val_loss: 10.4400 - val_accuracy: 0.8880\n",
            "Epoch 10/50\n",
            "200/200 [==============================] - 49s 237ms/step - loss: 6.5760 - accuracy: 0.8996 - val_loss: 13.5512 - val_accuracy: 0.8670\n",
            "Epoch 11/50\n",
            "200/200 [==============================] - 47s 228ms/step - loss: 7.2059 - accuracy: 0.8978 - val_loss: 13.6556 - val_accuracy: 0.8710\n",
            "Epoch 12/50\n",
            "200/200 [==============================] - 47s 229ms/step - loss: 6.7806 - accuracy: 0.9016 - val_loss: 11.9888 - val_accuracy: 0.8920\n",
            "Epoch 13/50\n",
            "200/200 [==============================] - 48s 232ms/step - loss: 6.4021 - accuracy: 0.9071 - val_loss: 13.3544 - val_accuracy: 0.8740\n",
            "Epoch 14/50\n",
            "200/200 [==============================] - 48s 236ms/step - loss: 5.9951 - accuracy: 0.9059 - val_loss: 14.0054 - val_accuracy: 0.8860\n",
            "Epoch 15/50\n",
            "200/200 [==============================] - 47s 230ms/step - loss: 5.9618 - accuracy: 0.9129 - val_loss: 12.8304 - val_accuracy: 0.8790\n",
            "Epoch 16/50\n",
            "200/200 [==============================] - 48s 227ms/step - loss: 5.4144 - accuracy: 0.9119 - val_loss: 12.5990 - val_accuracy: 0.8770\n",
            "Epoch 17/50\n",
            "200/200 [==============================] - 48s 234ms/step - loss: 5.6673 - accuracy: 0.9165 - val_loss: 12.4253 - val_accuracy: 0.8930\n",
            "Epoch 18/50\n",
            "200/200 [==============================] - 48s 235ms/step - loss: 4.8006 - accuracy: 0.9194 - val_loss: 13.9217 - val_accuracy: 0.8800\n",
            "Epoch 19/50\n",
            "200/200 [==============================] - 46s 223ms/step - loss: 5.2970 - accuracy: 0.9172 - val_loss: 12.3486 - val_accuracy: 0.8920\n",
            "Epoch 20/50\n",
            "200/200 [==============================] - 46s 223ms/step - loss: 4.6440 - accuracy: 0.9245 - val_loss: 14.1483 - val_accuracy: 0.8820\n"
          ]
        },
        {
          "output_type": "error",
          "ename": "KeyboardInterrupt",
          "evalue": "ignored",
          "traceback": [
            "\u001b[0;31m---------------------------------------------------------------------------\u001b[0m",
            "\u001b[0;31mKeyboardInterrupt\u001b[0m                         Traceback (most recent call last)",
            "\u001b[0;32m<ipython-input-25-8459cf3c95ce>\u001b[0m in \u001b[0;36m<module>\u001b[0;34m()\u001b[0m\n\u001b[1;32m      3\u001b[0m             \u001b[0mepochs\u001b[0m\u001b[0;34m=\u001b[0m\u001b[0;36m50\u001b[0m\u001b[0;34m,\u001b[0m\u001b[0;34m\u001b[0m\u001b[0;34m\u001b[0m\u001b[0m\n\u001b[1;32m      4\u001b[0m             \u001b[0mvalidation_data\u001b[0m\u001b[0;34m=\u001b[0m\u001b[0mvalidation_dataset\u001b[0m\u001b[0;34m,\u001b[0m\u001b[0;34m\u001b[0m\u001b[0;34m\u001b[0m\u001b[0m\n\u001b[0;32m----> 5\u001b[0;31m             callbacks=callbacks)\n\u001b[0m",
            "\u001b[0;32m/usr/local/lib/python3.7/dist-packages/keras/utils/traceback_utils.py\u001b[0m in \u001b[0;36merror_handler\u001b[0;34m(*args, **kwargs)\u001b[0m\n\u001b[1;32m     62\u001b[0m     \u001b[0mfiltered_tb\u001b[0m \u001b[0;34m=\u001b[0m \u001b[0;32mNone\u001b[0m\u001b[0;34m\u001b[0m\u001b[0;34m\u001b[0m\u001b[0m\n\u001b[1;32m     63\u001b[0m     \u001b[0;32mtry\u001b[0m\u001b[0;34m:\u001b[0m\u001b[0;34m\u001b[0m\u001b[0;34m\u001b[0m\u001b[0m\n\u001b[0;32m---> 64\u001b[0;31m       \u001b[0;32mreturn\u001b[0m \u001b[0mfn\u001b[0m\u001b[0;34m(\u001b[0m\u001b[0;34m*\u001b[0m\u001b[0margs\u001b[0m\u001b[0;34m,\u001b[0m \u001b[0;34m**\u001b[0m\u001b[0mkwargs\u001b[0m\u001b[0;34m)\u001b[0m\u001b[0;34m\u001b[0m\u001b[0;34m\u001b[0m\u001b[0m\n\u001b[0m\u001b[1;32m     65\u001b[0m     \u001b[0;32mexcept\u001b[0m \u001b[0mException\u001b[0m \u001b[0;32mas\u001b[0m \u001b[0me\u001b[0m\u001b[0;34m:\u001b[0m  \u001b[0;31m# pylint: disable=broad-except\u001b[0m\u001b[0;34m\u001b[0m\u001b[0;34m\u001b[0m\u001b[0m\n\u001b[1;32m     66\u001b[0m       \u001b[0mfiltered_tb\u001b[0m \u001b[0;34m=\u001b[0m \u001b[0m_process_traceback_frames\u001b[0m\u001b[0;34m(\u001b[0m\u001b[0me\u001b[0m\u001b[0;34m.\u001b[0m\u001b[0m__traceback__\u001b[0m\u001b[0;34m)\u001b[0m\u001b[0;34m\u001b[0m\u001b[0;34m\u001b[0m\u001b[0m\n",
            "\u001b[0;32m/usr/local/lib/python3.7/dist-packages/keras/engine/training.py\u001b[0m in \u001b[0;36mfit\u001b[0;34m(self, x, y, batch_size, epochs, verbose, callbacks, validation_split, validation_data, shuffle, class_weight, sample_weight, initial_epoch, steps_per_epoch, validation_steps, validation_batch_size, validation_freq, max_queue_size, workers, use_multiprocessing)\u001b[0m\n\u001b[1;32m   1371\u001b[0m       \u001b[0mlogs\u001b[0m \u001b[0;34m=\u001b[0m \u001b[0;32mNone\u001b[0m\u001b[0;34m\u001b[0m\u001b[0;34m\u001b[0m\u001b[0m\n\u001b[1;32m   1372\u001b[0m       \u001b[0;32mfor\u001b[0m \u001b[0mepoch\u001b[0m\u001b[0;34m,\u001b[0m \u001b[0miterator\u001b[0m \u001b[0;32min\u001b[0m \u001b[0mdata_handler\u001b[0m\u001b[0;34m.\u001b[0m\u001b[0menumerate_epochs\u001b[0m\u001b[0;34m(\u001b[0m\u001b[0;34m)\u001b[0m\u001b[0;34m:\u001b[0m\u001b[0;34m\u001b[0m\u001b[0;34m\u001b[0m\u001b[0m\n\u001b[0;32m-> 1373\u001b[0;31m         \u001b[0mself\u001b[0m\u001b[0;34m.\u001b[0m\u001b[0mreset_metrics\u001b[0m\u001b[0;34m(\u001b[0m\u001b[0;34m)\u001b[0m\u001b[0;34m\u001b[0m\u001b[0;34m\u001b[0m\u001b[0m\n\u001b[0m\u001b[1;32m   1374\u001b[0m         \u001b[0mcallbacks\u001b[0m\u001b[0;34m.\u001b[0m\u001b[0mon_epoch_begin\u001b[0m\u001b[0;34m(\u001b[0m\u001b[0mepoch\u001b[0m\u001b[0;34m)\u001b[0m\u001b[0;34m\u001b[0m\u001b[0;34m\u001b[0m\u001b[0m\n\u001b[1;32m   1375\u001b[0m         \u001b[0;32mwith\u001b[0m \u001b[0mdata_handler\u001b[0m\u001b[0;34m.\u001b[0m\u001b[0mcatch_stop_iteration\u001b[0m\u001b[0;34m(\u001b[0m\u001b[0;34m)\u001b[0m\u001b[0;34m:\u001b[0m\u001b[0;34m\u001b[0m\u001b[0;34m\u001b[0m\u001b[0m\n",
            "\u001b[0;31mKeyboardInterrupt\u001b[0m: "
          ]
        }
      ],
      "source": [
        "history = model.fit(\n",
        "            train_dataset,\n",
        "            epochs=50,\n",
        "            validation_data=validation_dataset,\n",
        "            callbacks=callbacks)"
      ]
    },
    {
      "cell_type": "code",
      "source": [
        "#make the training and validation loss plot\n",
        "plt.plot(history.history['loss'], label=\"Training loss\")\n",
        "plt.plot(history.history['val_loss'], label=\"Validation loss\")\n",
        "plt.legend()"
      ],
      "metadata": {
        "id": "EdLM7kWVUbTZ",
        "colab": {
          "base_uri": "https://localhost:8080/",
          "height": 282
        },
        "outputId": "27bc0043-aa8b-44e4-c9f7-381b2a7b1a8e"
      },
      "execution_count": null,
      "outputs": [
        {
          "output_type": "execute_result",
          "data": {
            "text/plain": [
              "<matplotlib.legend.Legend at 0x7fac90d74610>"
            ]
          },
          "metadata": {},
          "execution_count": 26
        },
        {
          "output_type": "display_data",
          "data": {
            "text/plain": [
              "<Figure size 432x288 with 1 Axes>"
            ],
            "image/png": "[encoded data removed]"
          },
          "metadata": {
            "needs_background": "light"
          }
        }
      ]
    },
    {
      "cell_type": "code",
      "source": [
        "#make the training and validation accuracy plot\n",
        "plt.plot(history.history['accuracy'], label=\"Training accuracy\")\n",
        "plt.plot(history.history['val_accuracy'], label=\"Validation accuracy\")\n",
        "plt.legend()"
      ],
      "metadata": {
        "id": "8NdAtoieUW7M",
        "colab": {
          "base_uri": "https://localhost:8080/",
          "height": 282
        },
        "outputId": "63b1b73d-413d-482e-bca0-01e7a48394f3"
      },
      "execution_count": null,
      "outputs": [
        {
          "output_type": "execute_result",
          "data": {
            "text/plain": [
              "<matplotlib.legend.Legend at 0x7fad10110fd0>"
            ]
          },
          "metadata": {},
          "execution_count": 27
        },
        {
          "output_type": "display_data",
          "data": {
            "text/plain": [
              "<Figure size 432x288 with 1 Axes>"
            ],
            "image/png": "[encoded data removed]"
          },
          "metadata": {
            "needs_background": "light"
          }
        }
      ]
    },
    {
      "cell_type": "code",
      "source": [
        "round( max(history.history[\"val_accuracy\"]), 3)"
      ],
      "metadata": {
        "id": "ow9M2_2upOor",
        "colab": {
          "base_uri": "https://localhost:8080/"
        },
        "outputId": "c194f71e-d16b-4a17-eddc-b419fa349114"
      },
      "execution_count": null,
      "outputs": [
        {
          "output_type": "execute_result",
          "data": {
            "text/plain": [
              "0.742"
            ]
          },
          "metadata": {},
          "execution_count": 28
        }
      ]
    },
    {
      "cell_type": "markdown",
      "source": [
        "\n",
        "\n",
        "## <font color='lightblue'>Test and Explore our Best Model</font>"
      ],
      "metadata": {
        "id": "fF311N5MqmlF"
      }
    },
    {
      "cell_type": "code",
      "source": [
        "model = keras.models.load_model(\"feature_extraction_with_vgg16.keras\")\n",
        "\n",
        "model.evaluate(test_dataset)"
      ],
      "metadata": {
        "id": "tIIja7bReIQO",
        "colab": {
          "base_uri": "https://localhost:8080/"
        },
        "outputId": "77721a7b-35c3-4639-eb94-c05b2cc9fe0a"
      },
      "execution_count": null,
      "outputs": [
        {
          "output_type": "stream",
          "name": "stdout",
          "text": [
            "1000/1000 [==============================] - 16s 15ms/step - loss: 14.8300 - accuracy: 0.8660\n"
          ]
        },
        {
          "output_type": "execute_result",
          "data": {
            "text/plain": [
              "[14.830024719238281, 0.8659999966621399]"
            ]
          },
          "metadata": {},
          "execution_count": 29
        }
      ]
    },
    {
      "cell_type": "markdown",
      "source": [
        "Without full training of our VGG model we still achieve 86.5% accuracy."
      ],
      "metadata": {
        "id": "y9UzmD6p12MJ"
      }
    },
    {
      "cell_type": "code",
      "source": [
        "img_path = keras.utils.get_file(\n",
        "    fname=\"baseballfield_10.jpg\",\n",
        "    origin=\"/content/split_data/val/BaseballField/baseballfield_10.jpg\")"
      ],
      "metadata": {
        "colab": {
          "base_uri": "https://localhost:8080/",
          "height": 363
        },
        "id": "by3O_Tu-rawh",
        "outputId": "05be1619-68ba-45d0-e161-3135b13a2865"
      },
      "execution_count": null,
      "outputs": [
        {
          "output_type": "stream",
          "name": "stdout",
          "text": [
            "Downloading data from /content/split_data/val/BaseballField/baseballfield_10.jpg\n"
          ]
        },
        {
          "output_type": "error",
          "ename": "ValueError",
          "evalue": "ignored",
          "traceback": [
            "\u001b[0;31m---------------------------------------------------------------------------\u001b[0m",
            "\u001b[0;31mValueError\u001b[0m                                Traceback (most recent call last)",
            "\u001b[0;32m<ipython-input-30-08b8f990e691>\u001b[0m in \u001b[0;36m<module>\u001b[0;34m()\u001b[0m\n\u001b[1;32m      1\u001b[0m img_path = keras.utils.get_file(\n\u001b[1;32m      2\u001b[0m     \u001b[0mfname\u001b[0m\u001b[0;34m=\u001b[0m\u001b[0;34m\"baseballfield_10.jpg\"\u001b[0m\u001b[0;34m,\u001b[0m\u001b[0;34m\u001b[0m\u001b[0;34m\u001b[0m\u001b[0m\n\u001b[0;32m----> 3\u001b[0;31m     origin=\"/content/split_data/val/BaseballField/baseballfield_10.jpg\")\n\u001b[0m",
            "\u001b[0;32m/usr/local/lib/python3.7/dist-packages/keras/utils/data_utils.py\u001b[0m in \u001b[0;36mget_file\u001b[0;34m(fname, origin, untar, md5_hash, file_hash, cache_subdir, hash_algorithm, extract, archive_format, cache_dir)\u001b[0m\n\u001b[1;32m    275\u001b[0m     \u001b[0;32mtry\u001b[0m\u001b[0;34m:\u001b[0m\u001b[0;34m\u001b[0m\u001b[0;34m\u001b[0m\u001b[0m\n\u001b[1;32m    276\u001b[0m       \u001b[0;32mtry\u001b[0m\u001b[0;34m:\u001b[0m\u001b[0;34m\u001b[0m\u001b[0;34m\u001b[0m\u001b[0m\n\u001b[0;32m--> 277\u001b[0;31m         \u001b[0murlretrieve\u001b[0m\u001b[0;34m(\u001b[0m\u001b[0morigin\u001b[0m\u001b[0;34m,\u001b[0m \u001b[0mfpath\u001b[0m\u001b[0;34m,\u001b[0m \u001b[0mdl_progress\u001b[0m\u001b[0;34m)\u001b[0m\u001b[0;34m\u001b[0m\u001b[0;34m\u001b[0m\u001b[0m\n\u001b[0m\u001b[1;32m    278\u001b[0m       \u001b[0;32mexcept\u001b[0m \u001b[0murllib\u001b[0m\u001b[0;34m.\u001b[0m\u001b[0merror\u001b[0m\u001b[0;34m.\u001b[0m\u001b[0mHTTPError\u001b[0m \u001b[0;32mas\u001b[0m \u001b[0me\u001b[0m\u001b[0;34m:\u001b[0m\u001b[0;34m\u001b[0m\u001b[0;34m\u001b[0m\u001b[0m\n\u001b[1;32m    279\u001b[0m         \u001b[0;32mraise\u001b[0m \u001b[0mException\u001b[0m\u001b[0;34m(\u001b[0m\u001b[0merror_msg\u001b[0m\u001b[0;34m.\u001b[0m\u001b[0mformat\u001b[0m\u001b[0;34m(\u001b[0m\u001b[0morigin\u001b[0m\u001b[0;34m,\u001b[0m \u001b[0me\u001b[0m\u001b[0;34m.\u001b[0m\u001b[0mcode\u001b[0m\u001b[0;34m,\u001b[0m \u001b[0me\u001b[0m\u001b[0;34m.\u001b[0m\u001b[0mmsg\u001b[0m\u001b[0;34m)\u001b[0m\u001b[0;34m)\u001b[0m\u001b[0;34m\u001b[0m\u001b[0;34m\u001b[0m\u001b[0m\n",
            "\u001b[0;32m/usr/local/lib/python3.7/dist-packages/keras/utils/data_utils.py\u001b[0m in \u001b[0;36murlretrieve\u001b[0;34m(url, filename, reporthook, data)\u001b[0m\n\u001b[1;32m     80\u001b[0m           \u001b[0;32mbreak\u001b[0m\u001b[0;34m\u001b[0m\u001b[0;34m\u001b[0m\u001b[0m\n\u001b[1;32m     81\u001b[0m \u001b[0;34m\u001b[0m\u001b[0m\n\u001b[0;32m---> 82\u001b[0;31m     \u001b[0mresponse\u001b[0m \u001b[0;34m=\u001b[0m \u001b[0murlopen\u001b[0m\u001b[0;34m(\u001b[0m\u001b[0murl\u001b[0m\u001b[0;34m,\u001b[0m \u001b[0mdata\u001b[0m\u001b[0;34m)\u001b[0m\u001b[0;34m\u001b[0m\u001b[0;34m\u001b[0m\u001b[0m\n\u001b[0m\u001b[1;32m     83\u001b[0m     \u001b[0;32mwith\u001b[0m \u001b[0mopen\u001b[0m\u001b[0;34m(\u001b[0m\u001b[0mfilename\u001b[0m\u001b[0;34m,\u001b[0m \u001b[0;34m'wb'\u001b[0m\u001b[0;34m)\u001b[0m \u001b[0;32mas\u001b[0m \u001b[0mfd\u001b[0m\u001b[0;34m:\u001b[0m\u001b[0;34m\u001b[0m\u001b[0;34m\u001b[0m\u001b[0m\n\u001b[1;32m     84\u001b[0m       \u001b[0;32mfor\u001b[0m \u001b[0mchunk\u001b[0m \u001b[0;32min\u001b[0m \u001b[0mchunk_read\u001b[0m\u001b[0;34m(\u001b[0m\u001b[0mresponse\u001b[0m\u001b[0;34m,\u001b[0m \u001b[0mreporthook\u001b[0m\u001b[0;34m=\u001b[0m\u001b[0mreporthook\u001b[0m\u001b[0;34m)\u001b[0m\u001b[0;34m:\u001b[0m\u001b[0;34m\u001b[0m\u001b[0;34m\u001b[0m\u001b[0m\n",
            "\u001b[0;32m/usr/lib/python3.7/urllib/request.py\u001b[0m in \u001b[0;36murlopen\u001b[0;34m(url, data, timeout, cafile, capath, cadefault, context)\u001b[0m\n\u001b[1;32m    220\u001b[0m     \u001b[0;32melse\u001b[0m\u001b[0;34m:\u001b[0m\u001b[0;34m\u001b[0m\u001b[0;34m\u001b[0m\u001b[0m\n\u001b[1;32m    221\u001b[0m         \u001b[0mopener\u001b[0m \u001b[0;34m=\u001b[0m \u001b[0m_opener\u001b[0m\u001b[0;34m\u001b[0m\u001b[0;34m\u001b[0m\u001b[0m\n\u001b[0;32m--> 222\u001b[0;31m     \u001b[0;32mreturn\u001b[0m \u001b[0mopener\u001b[0m\u001b[0;34m.\u001b[0m\u001b[0mopen\u001b[0m\u001b[0;34m(\u001b[0m\u001b[0murl\u001b[0m\u001b[0;34m,\u001b[0m \u001b[0mdata\u001b[0m\u001b[0;34m,\u001b[0m \u001b[0mtimeout\u001b[0m\u001b[0;34m)\u001b[0m\u001b[0;34m\u001b[0m\u001b[0;34m\u001b[0m\u001b[0m\n\u001b[0m\u001b[1;32m    223\u001b[0m \u001b[0;34m\u001b[0m\u001b[0m\n\u001b[1;32m    224\u001b[0m \u001b[0;32mdef\u001b[0m \u001b[0minstall_opener\u001b[0m\u001b[0;34m(\u001b[0m\u001b[0mopener\u001b[0m\u001b[0;34m)\u001b[0m\u001b[0;34m:\u001b[0m\u001b[0;34m\u001b[0m\u001b[0;34m\u001b[0m\u001b[0m\n",
            "\u001b[0;32m/usr/lib/python3.7/urllib/request.py\u001b[0m in \u001b[0;36mopen\u001b[0;34m(self, fullurl, data, timeout)\u001b[0m\n\u001b[1;32m    508\u001b[0m         \u001b[0;31m# accept a URL or a Request object\u001b[0m\u001b[0;34m\u001b[0m\u001b[0;34m\u001b[0m\u001b[0;34m\u001b[0m\u001b[0m\n\u001b[1;32m    509\u001b[0m         \u001b[0;32mif\u001b[0m \u001b[0misinstance\u001b[0m\u001b[0;34m(\u001b[0m\u001b[0mfullurl\u001b[0m\u001b[0;34m,\u001b[0m \u001b[0mstr\u001b[0m\u001b[0;34m)\u001b[0m\u001b[0;34m:\u001b[0m\u001b[0;34m\u001b[0m\u001b[0;34m\u001b[0m\u001b[0m\n\u001b[0;32m--> 510\u001b[0;31m             \u001b[0mreq\u001b[0m \u001b[0;34m=\u001b[0m \u001b[0mRequest\u001b[0m\u001b[0;34m(\u001b[0m\u001b[0mfullurl\u001b[0m\u001b[0;34m,\u001b[0m \u001b[0mdata\u001b[0m\u001b[0;34m)\u001b[0m\u001b[0;34m\u001b[0m\u001b[0;34m\u001b[0m\u001b[0m\n\u001b[0m\u001b[1;32m    511\u001b[0m         \u001b[0;32melse\u001b[0m\u001b[0;34m:\u001b[0m\u001b[0;34m\u001b[0m\u001b[0;34m\u001b[0m\u001b[0m\n\u001b[1;32m    512\u001b[0m             \u001b[0mreq\u001b[0m \u001b[0;34m=\u001b[0m \u001b[0mfullurl\u001b[0m\u001b[0;34m\u001b[0m\u001b[0;34m\u001b[0m\u001b[0m\n",
            "\u001b[0;32m/usr/lib/python3.7/urllib/request.py\u001b[0m in \u001b[0;36m__init__\u001b[0;34m(self, url, data, headers, origin_req_host, unverifiable, method)\u001b[0m\n\u001b[1;32m    326\u001b[0m                  \u001b[0morigin_req_host\u001b[0m\u001b[0;34m=\u001b[0m\u001b[0;32mNone\u001b[0m\u001b[0;34m,\u001b[0m \u001b[0munverifiable\u001b[0m\u001b[0;34m=\u001b[0m\u001b[0;32mFalse\u001b[0m\u001b[0;34m,\u001b[0m\u001b[0;34m\u001b[0m\u001b[0;34m\u001b[0m\u001b[0m\n\u001b[1;32m    327\u001b[0m                  method=None):\n\u001b[0;32m--> 328\u001b[0;31m         \u001b[0mself\u001b[0m\u001b[0;34m.\u001b[0m\u001b[0mfull_url\u001b[0m \u001b[0;34m=\u001b[0m \u001b[0murl\u001b[0m\u001b[0;34m\u001b[0m\u001b[0;34m\u001b[0m\u001b[0m\n\u001b[0m\u001b[1;32m    329\u001b[0m         \u001b[0mself\u001b[0m\u001b[0;34m.\u001b[0m\u001b[0mheaders\u001b[0m \u001b[0;34m=\u001b[0m \u001b[0;34m{\u001b[0m\u001b[0;34m}\u001b[0m\u001b[0;34m\u001b[0m\u001b[0;34m\u001b[0m\u001b[0m\n\u001b[1;32m    330\u001b[0m         \u001b[0mself\u001b[0m\u001b[0;34m.\u001b[0m\u001b[0munredirected_hdrs\u001b[0m \u001b[0;34m=\u001b[0m \u001b[0;34m{\u001b[0m\u001b[0;34m}\u001b[0m\u001b[0;34m\u001b[0m\u001b[0;34m\u001b[0m\u001b[0m\n",
            "\u001b[0;32m/usr/lib/python3.7/urllib/request.py\u001b[0m in \u001b[0;36mfull_url\u001b[0;34m(self, url)\u001b[0m\n\u001b[1;32m    352\u001b[0m         \u001b[0mself\u001b[0m\u001b[0;34m.\u001b[0m\u001b[0m_full_url\u001b[0m \u001b[0;34m=\u001b[0m \u001b[0munwrap\u001b[0m\u001b[0;34m(\u001b[0m\u001b[0murl\u001b[0m\u001b[0;34m)\u001b[0m\u001b[0;34m\u001b[0m\u001b[0;34m\u001b[0m\u001b[0m\n\u001b[1;32m    353\u001b[0m         \u001b[0mself\u001b[0m\u001b[0;34m.\u001b[0m\u001b[0m_full_url\u001b[0m\u001b[0;34m,\u001b[0m \u001b[0mself\u001b[0m\u001b[0;34m.\u001b[0m\u001b[0mfragment\u001b[0m \u001b[0;34m=\u001b[0m \u001b[0msplittag\u001b[0m\u001b[0;34m(\u001b[0m\u001b[0mself\u001b[0m\u001b[0;34m.\u001b[0m\u001b[0m_full_url\u001b[0m\u001b[0;34m)\u001b[0m\u001b[0;34m\u001b[0m\u001b[0;34m\u001b[0m\u001b[0m\n\u001b[0;32m--> 354\u001b[0;31m         \u001b[0mself\u001b[0m\u001b[0;34m.\u001b[0m\u001b[0m_parse\u001b[0m\u001b[0;34m(\u001b[0m\u001b[0;34m)\u001b[0m\u001b[0;34m\u001b[0m\u001b[0;34m\u001b[0m\u001b[0m\n\u001b[0m\u001b[1;32m    355\u001b[0m \u001b[0;34m\u001b[0m\u001b[0m\n\u001b[1;32m    356\u001b[0m     \u001b[0;34m@\u001b[0m\u001b[0mfull_url\u001b[0m\u001b[0;34m.\u001b[0m\u001b[0mdeleter\u001b[0m\u001b[0;34m\u001b[0m\u001b[0;34m\u001b[0m\u001b[0m\n",
            "\u001b[0;32m/usr/lib/python3.7/urllib/request.py\u001b[0m in \u001b[0;36m_parse\u001b[0;34m(self)\u001b[0m\n\u001b[1;32m    381\u001b[0m         \u001b[0mself\u001b[0m\u001b[0;34m.\u001b[0m\u001b[0mtype\u001b[0m\u001b[0;34m,\u001b[0m \u001b[0mrest\u001b[0m \u001b[0;34m=\u001b[0m \u001b[0msplittype\u001b[0m\u001b[0;34m(\u001b[0m\u001b[0mself\u001b[0m\u001b[0;34m.\u001b[0m\u001b[0m_full_url\u001b[0m\u001b[0;34m)\u001b[0m\u001b[0;34m\u001b[0m\u001b[0;34m\u001b[0m\u001b[0m\n\u001b[1;32m    382\u001b[0m         \u001b[0;32mif\u001b[0m \u001b[0mself\u001b[0m\u001b[0;34m.\u001b[0m\u001b[0mtype\u001b[0m \u001b[0;32mis\u001b[0m \u001b[0;32mNone\u001b[0m\u001b[0;34m:\u001b[0m\u001b[0;34m\u001b[0m\u001b[0;34m\u001b[0m\u001b[0m\n\u001b[0;32m--> 383\u001b[0;31m             \u001b[0;32mraise\u001b[0m \u001b[0mValueError\u001b[0m\u001b[0;34m(\u001b[0m\u001b[0;34m\"unknown url type: %r\"\u001b[0m \u001b[0;34m%\u001b[0m \u001b[0mself\u001b[0m\u001b[0;34m.\u001b[0m\u001b[0mfull_url\u001b[0m\u001b[0;34m)\u001b[0m\u001b[0;34m\u001b[0m\u001b[0;34m\u001b[0m\u001b[0m\n\u001b[0m\u001b[1;32m    384\u001b[0m         \u001b[0mself\u001b[0m\u001b[0;34m.\u001b[0m\u001b[0mhost\u001b[0m\u001b[0;34m,\u001b[0m \u001b[0mself\u001b[0m\u001b[0;34m.\u001b[0m\u001b[0mselector\u001b[0m \u001b[0;34m=\u001b[0m \u001b[0msplithost\u001b[0m\u001b[0;34m(\u001b[0m\u001b[0mrest\u001b[0m\u001b[0;34m)\u001b[0m\u001b[0;34m\u001b[0m\u001b[0;34m\u001b[0m\u001b[0m\n\u001b[1;32m    385\u001b[0m         \u001b[0;32mif\u001b[0m \u001b[0mself\u001b[0m\u001b[0;34m.\u001b[0m\u001b[0mhost\u001b[0m\u001b[0;34m:\u001b[0m\u001b[0;34m\u001b[0m\u001b[0;34m\u001b[0m\u001b[0m\n",
            "\u001b[0;31mValueError\u001b[0m: unknown url type: '/content/split_data/val/BaseballField/baseballfield_10.jpg'"
          ]
        }
      ]
    },
    {
      "cell_type": "code",
      "source": [
        "#make the image fit into the model\n",
        "def get_img_array(img_path, target_size): \n",
        "  img = keras.utils.load_img(img_path, target_size=target_size)\n",
        "  array = keras.utils.img_to_array(img) \n",
        "  array = np.expand_dims(array, axis=0) \n",
        "  return array\n",
        "\n",
        "img_tensor = get_img_array(img_path, target_size=(180, 180))\n",
        "\n",
        "import matplotlib.pyplot as plt \n",
        "\n",
        "plt.axis(\"off\")\n",
        "plt.imshow(img_tensor[0].astype(\"uint8\")) \n",
        "plt.show()"
      ],
      "metadata": {
        "id": "rPmOuv6irhyk"
      },
      "execution_count": null,
      "outputs": []
    },
    {
      "cell_type": "code",
      "source": [
        "model_viz.layers"
      ],
      "metadata": {
        "id": "QBvslyrTrhtu"
      },
      "execution_count": null,
      "outputs": []
    },
    {
      "cell_type": "code",
      "source": [
        "depth = 11"
      ],
      "metadata": {
        "id": "x4eXhM7Urhoz"
      },
      "execution_count": null,
      "outputs": []
    },
    {
      "cell_type": "code",
      "source": [
        "activation_model = keras.Model(inputs=model_viz.inputs, outputs=model_viz.layers[depth].output)"
      ],
      "metadata": {
        "id": "2kNaEp0erhjP"
      },
      "execution_count": null,
      "outputs": []
    },
    {
      "cell_type": "code",
      "source": [
        "activations = activation_model.predict(img_tensor)"
      ],
      "metadata": {
        "id": "zhrY4ccYrhT1"
      },
      "execution_count": null,
      "outputs": []
    },
    {
      "cell_type": "code",
      "source": [
        "first_layer_activation = activations[0]"
      ],
      "metadata": {
        "id": "Cs4Em34crvAa"
      },
      "execution_count": null,
      "outputs": []
    },
    {
      "cell_type": "code",
      "source": [
        "print(first_layer_activation.shape)"
      ],
      "metadata": {
        "id": "g_WVVk_Qru-R"
      },
      "execution_count": null,
      "outputs": []
    },
    {
      "cell_type": "code",
      "source": [
        "import matplotlib.pyplot as plt \n",
        "plt.matshow(first_layer_activation[:, :, 12], cmap=\"viridis\")"
      ],
      "metadata": {
        "id": "FsLntSBOru8B"
      },
      "execution_count": null,
      "outputs": []
    },
    {
      "cell_type": "markdown",
      "source": [
        "Can we see some of the edge detection?"
      ],
      "metadata": {
        "id": "EFrT8fFXsiif"
      }
    },
    {
      "cell_type": "code",
      "source": [
        "train_ds = validation_dataset.unbatch()\n",
        "images = np.asarray(list(validation_dataset.map(lambda x, y: x)))\n",
        "labels = np.asarray(list(validation_dataset.map(lambda x, y: y)))"
      ],
      "metadata": {
        "id": "l2xCa-R-ru5n"
      },
      "execution_count": null,
      "outputs": []
    },
    {
      "cell_type": "code",
      "source": [
        "!pip install shap -U\n",
        "import shap"
      ],
      "metadata": {
        "colab": {
          "base_uri": "https://localhost:8080/"
        },
        "id": "KthyN4RDru3H",
        "outputId": "1bf380cc-66f0-43af-9bed-e18bfddabfa9"
      },
      "execution_count": null,
      "outputs": [
        {
          "output_type": "stream",
          "name": "stdout",
          "text": [
            "Looking in indexes: https://pypi.org/simple, https://us-python.pkg.dev/colab-wheels/public/simple/\n",
            "Collecting shap\n",
            "  Downloading shap-0.41.0-cp37-cp37m-manylinux_2_12_x86_64.manylinux2010_x86_64.whl (569 kB)\n",
            "\u001b[K     |████████████████████████████████| 569 kB 32.4 MB/s \n",
            "\u001b[?25hRequirement already satisfied: tqdm>4.25.0 in /usr/local/lib/python3.7/dist-packages (from shap) (4.64.0)\n",
            "Requirement already satisfied: numpy in /usr/local/lib/python3.7/dist-packages (from shap) (1.21.6)\n",
            "Requirement already satisfied: packaging>20.9 in /usr/local/lib/python3.7/dist-packages (from shap) (21.3)\n",
            "Requirement already satisfied: scikit-learn in /usr/local/lib/python3.7/dist-packages (from shap) (1.0.2)\n",
            "Requirement already satisfied: scipy in /usr/local/lib/python3.7/dist-packages (from shap) (1.7.3)\n",
            "Requirement already satisfied: cloudpickle in /usr/local/lib/python3.7/dist-packages (from shap) (1.3.0)\n",
            "Requirement already satisfied: numba in /usr/local/lib/python3.7/dist-packages (from shap) (0.56.0)\n",
            "Requirement already satisfied: pandas in /usr/local/lib/python3.7/dist-packages (from shap) (1.3.5)\n",
            "Collecting slicer==0.0.7\n",
            "  Downloading slicer-0.0.7-py3-none-any.whl (14 kB)\n",
            "Requirement already satisfied: pyparsing!=3.0.5,>=2.0.2 in /usr/local/lib/python3.7/dist-packages (from packaging>20.9->shap) (3.0.9)\n",
            "Requirement already satisfied: llvmlite<0.40,>=0.39.0dev0 in /usr/local/lib/python3.7/dist-packages (from numba->shap) (0.39.0)\n",
            "Requirement already satisfied: setuptools in /usr/local/lib/python3.7/dist-packages (from numba->shap) (57.4.0)\n",
            "Requirement already satisfied: importlib-metadata in /usr/local/lib/python3.7/dist-packages (from numba->shap) (4.12.0)\n",
            "Requirement already satisfied: typing-extensions>=3.6.4 in /usr/local/lib/python3.7/dist-packages (from importlib-metadata->numba->shap) (4.1.1)\n",
            "Requirement already satisfied: zipp>=0.5 in /usr/local/lib/python3.7/dist-packages (from importlib-metadata->numba->shap) (3.8.1)\n",
            "Requirement already satisfied: pytz>=2017.3 in /usr/local/lib/python3.7/dist-packages (from pandas->shap) (2022.1)\n",
            "Requirement already satisfied: python-dateutil>=2.7.3 in /usr/local/lib/python3.7/dist-packages (from pandas->shap) (2.8.2)\n",
            "Requirement already satisfied: six>=1.5 in /usr/local/lib/python3.7/dist-packages (from python-dateutil>=2.7.3->pandas->shap) (1.15.0)\n",
            "Requirement already satisfied: threadpoolctl>=2.0.0 in /usr/local/lib/python3.7/dist-packages (from scikit-learn->shap) (3.1.0)\n",
            "Requirement already satisfied: joblib>=0.11 in /usr/local/lib/python3.7/dist-packages (from scikit-learn->shap) (1.1.0)\n",
            "Installing collected packages: slicer, shap\n",
            "Successfully installed shap-0.41.0 slicer-0.0.7\n"
          ]
        }
      ]
    },
    {
      "cell_type": "code",
      "source": [
        "# Build explainer to help explain predictions of the model\n",
        "explainer = shap.GradientExplainer(model_viz, images[1,:,:,:,:])\n",
        "\n",
        "# compute shap values\n",
        "shap_values = explainer.shap_values(images[1,:,:,:,:])\n"
      ],
      "metadata": {
        "colab": {
          "base_uri": "https://localhost:8080/",
          "height": 235
        },
        "id": "aRZlneVVruzH",
        "outputId": "ace75391-b12e-4c1a-fc9a-d7624408bbdb"
      },
      "execution_count": null,
      "outputs": [
        {
          "output_type": "error",
          "ename": "NameError",
          "evalue": "ignored",
          "traceback": [
            "\u001b[0;31m---------------------------------------------------------------------------\u001b[0m",
            "\u001b[0;31mNameError\u001b[0m                                 Traceback (most recent call last)",
            "\u001b[0;32m<ipython-input-33-be5448752f93>\u001b[0m in \u001b[0;36m<module>\u001b[0;34m()\u001b[0m\n\u001b[1;32m      1\u001b[0m \u001b[0;31m# Build explainer to help explain predictions of the model\u001b[0m\u001b[0;34m\u001b[0m\u001b[0;34m\u001b[0m\u001b[0;34m\u001b[0m\u001b[0m\n\u001b[0;32m----> 2\u001b[0;31m \u001b[0mexplainer\u001b[0m \u001b[0;34m=\u001b[0m \u001b[0mshap\u001b[0m\u001b[0;34m.\u001b[0m\u001b[0mGradientExplainer\u001b[0m\u001b[0;34m(\u001b[0m\u001b[0mmodel_viz\u001b[0m\u001b[0;34m,\u001b[0m \u001b[0mimages\u001b[0m\u001b[0;34m[\u001b[0m\u001b[0;36m1\u001b[0m\u001b[0;34m,\u001b[0m\u001b[0;34m:\u001b[0m\u001b[0;34m,\u001b[0m\u001b[0;34m:\u001b[0m\u001b[0;34m,\u001b[0m\u001b[0;34m:\u001b[0m\u001b[0;34m,\u001b[0m\u001b[0;34m:\u001b[0m\u001b[0;34m]\u001b[0m\u001b[0;34m)\u001b[0m\u001b[0;34m\u001b[0m\u001b[0;34m\u001b[0m\u001b[0m\n\u001b[0m\u001b[1;32m      3\u001b[0m \u001b[0;34m\u001b[0m\u001b[0m\n\u001b[1;32m      4\u001b[0m \u001b[0;31m# compute shap values\u001b[0m\u001b[0;34m\u001b[0m\u001b[0;34m\u001b[0m\u001b[0;34m\u001b[0m\u001b[0m\n\u001b[1;32m      5\u001b[0m \u001b[0mshap_values\u001b[0m \u001b[0;34m=\u001b[0m \u001b[0mexplainer\u001b[0m\u001b[0;34m.\u001b[0m\u001b[0mshap_values\u001b[0m\u001b[0;34m(\u001b[0m\u001b[0mimages\u001b[0m\u001b[0;34m[\u001b[0m\u001b[0;36m1\u001b[0m\u001b[0;34m,\u001b[0m\u001b[0;34m:\u001b[0m\u001b[0;34m,\u001b[0m\u001b[0;34m:\u001b[0m\u001b[0;34m,\u001b[0m\u001b[0;34m:\u001b[0m\u001b[0;34m,\u001b[0m\u001b[0;34m:\u001b[0m\u001b[0;34m]\u001b[0m\u001b[0;34m)\u001b[0m\u001b[0;34m\u001b[0m\u001b[0;34m\u001b[0m\u001b[0m\n",
            "\u001b[0;31mNameError\u001b[0m: name 'model_viz' is not defined"
          ]
        }
      ]
    },
    {
      "cell_type": "code",
      "source": [
        "# plot SHAP values\n",
        "shap.image_plot(shap_values,images[1,20:21,:,:,:]/255)"
      ],
      "metadata": {
        "id": "sAYtS6NSrusf"
      },
      "execution_count": null,
      "outputs": []
    },
    {
      "cell_type": "markdown",
      "source": [
        ""
      ],
      "metadata": {
        "id": "d2LdWqAIs9lk"
      }
    },
    {
      "cell_type": "markdown",
      "source": [
        "## <font color='lightblue'>Discussion</font>\n",
        "\n",
        "###*Compare* the results of the dense and convolutional approach to model building. \n",
        "\n",
        "> Q7. Does one model outperform the other? (Marks: 1)"
      ],
      "metadata": {
        "id": "ZfDyxgSmHv_d"
      }
    },
    {
      "cell_type": "markdown",
      "source": [
        "The dense model was only able to return an accuracy of 4%. With 30 classes random selection would result in 3%. As the validation accuracy didn't change with epoch as trained it is assumed the model is failing to train properly. The issue is likely a result of the flatten layer not passing the data in a shape the model expects. \n",
        "\n",
        "The convolutional model, without VGG trasnfered learning, had a maximum validation accuracy score of 80%. This model utilized data augmentation, as well as a dropout layer. The AID researchers reported an overall acuraccy of 89.64% using VGG-VD-16, when training on 50% of the dataset."
      ],
      "metadata": {
        "id": "kp6bJiTHHwxd"
      }
    },
    {
      "cell_type": "markdown",
      "source": [
        "###Justify your choice of model architecture for the convolutional neural network (Marks:4)\n",
        "\n",
        "> **Q3: Why did you choose the types of layers you did?**\n",
        "\n",
        "A data augmentation layer was added at the beginning of the neural net in hopes of avoiding the model learning unwanted patterns. By scaling and rotating random images we can introduce stochasticity. This helps ensure the model only learns patterns that are caused by image artifacts. After the data augmentation layer we scale all our RGB values to be between 0 and 1. This reduces computational load and improves model performance. A series of Conv2D and MaxPooling layers were then added to create an expanding hypothesis space. The separableConv2D layer was originally implemented but reduced acuraccy by ~4%. This lets us infer that some correlation between colour layers is useful for predicting landscape and scenery. \n",
        "\n",
        "One attempt was made to create a deeper net, which used 512 filter Conv2D layer. This created issues with back propagation causing the model to not be able to train over 4%. This depth may be possible with added residual connections, but no solution could be found that warranted the added complexity. \n",
        "\n",
        "> **Q4: Why did you choose the size of layers you did?**\n",
        "\n",
        "Early in the architecture we want our model to learn fewer filters, increasing in number as we go deep into the model. This helps expand the patterns the model identifies, starting with small edges and curve and ending with defined shapes. \n",
        "\n",
        "> **Q5: Why did you organize the layers the way you did?**\n",
        "\n",
        "Each layer has a growing number of filters to learn higher level patterns. After each Conv2D layer a MaxPooling layer is used to reduce the spatial dimension of the output volume. Kernel size was set to 3, resulting in a 3x3 pixel filter for each layer.\n",
        "\n",
        " With more computational power it would be of interest to run the images uncompressed, 600x600, and larger filters to see how results vary. The intuition behind this is that many of the buildings and natural features are large in respect to the 600x600 pixel image, thus requiring larger filters to be recognized. To do this the first layer would be set to a kernel size of 7, the second layer set to 5, and all following layers set to 3.\n",
        "\n",
        "> **Q6: Why did you choose the output layer size and activation function that you did?**\n",
        "\n",
        "As we are trying to predict the probability that an image falls into a certain classification \"softmax\" was chosen. We used 30 nodes at the output layer, one corresponding to each class."
      ],
      "metadata": {
        "id": "RVltrC2g21Lm"
      }
    },
    {
      "cell_type": "markdown",
      "source": [
        "## <font color='lightblue'>Citations</font>\n",
        "AID: A Benchmark Dataset for Performance Evaluation of Aerial Scene Classification\n",
        "Gui-Song Xia1, Jingwen Hu1,2, Fan Hu1,2, Baoguang Shi3, Xiang Bai3, Yanfei Zhong1, Liangpei Zhang1\n",
        "\n",
        "1. State Key Lab. LIESMARS, Wuhan University, Wuhan 430079, China\n",
        "2. EIS, Wuhan University, Wuhan, 430079, China\n",
        "3. EIC, Huazhong University of Science and Technology, Wuhan 430074, China.\n",
        "\n",
        "published on IEEE Trans. on Geoscience and Remote Sensing, Vol. 55, No.7, pp.3965 - 3981, 2017.\n",
        "https://captain-whu.github.io/AID/"
      ],
      "metadata": {
        "id": "SjGIh7w8Ew7P"
      }
    }
  ],
  "metadata": {
    "colab": {
      "collapsed_sections": [],
      "name": "Liams_Project2_CNN.ipynb",
      "provenance": [],
      "include_colab_link": true
    },
    "gpuClass": "standard",
    "kernelspec": {
      "display_name": "Python 3",
      "name": "python3"
    },
    "language_info": {
      "name": "python"
    },
    "accelerator": "GPU"
  },
  "nbformat": 4,
  "nbformat_minor": 0
}
