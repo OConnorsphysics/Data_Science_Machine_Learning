{
  "nbformat": 4,
  "nbformat_minor": 0,
  "metadata": {
    "colab": {
      "name": "Liams_EDA_Project1.ipynb",
      "provenance": [],
      "collapsed_sections": [],
      "include_colab_link": true
    },
    "kernelspec": {
      "name": "python3",
      "display_name": "Python 3"
    }
  },
  "cells": [
    {
      "cell_type": "markdown",
      "metadata": {
        "id": "view-in-github",
        "colab_type": "text"
      },
      "source": [
        "<a href=\"https://colab.research.google.com/github/OConnorsphysics/Uleth_Data_Science/blob/main/Liams_EDA_Project1.ipynb\" target=\"_parent\"><img src=\"https://colab.research.google.com/assets/colab-badge.svg\" alt=\"Open In Colab\"/></a>"
      ]
    },
    {
      "cell_type": "markdown",
      "metadata": {
        "id": "DqPzbMV5v_NQ"
      },
      "source": [
        "<img src='http://drive.google.com/uc?export=view&id=1Lv8NU_SuGQ9uVjU8N6_NwNi72qbSnbQL'>"
      ]
    },
    {
      "cell_type": "markdown",
      "metadata": {
        "id": "vAAwrni29gHo"
      },
      "source": [
        "# <font color='lightblue'>Exploritory Data Analysis</font>"
      ]
    },
    {
      "cell_type": "markdown",
      "metadata": {
        "id": "jyHOvgcK2Oj0"
      },
      "source": [
        "In this project you will perform an exploritory data analysis (EDA) using visualizations and correlations. You may choose from one of the datasets within the [class shared data folder](https://drive.google.com/drive/folders/1s2Civxvys_SR1sFF7D2ept1GSmFbICQb?usp=sharing), or search for a dataset that interests you the most! [Kaggle](https://www.kaggle.com/datasets?fileType=csv) is a good place to start, as they often have relatively clean and easy to use datasets, but feel free to explore other places. There is a lot of data out there!\n",
        "\n",
        "In this project you will:\n",
        "\n",
        "1.  Choose and download a dataset\n",
        "2.  Get summary statistics for key variables\n",
        "3.  Create visuals to help understand your data\n",
        "4.  Use correlation to measure relationships between key variables\n",
        "5.  Summarise how EDA helped (or not!) in understanding your dataset\n",
        "\n"
      ]
    },
    {
      "cell_type": "markdown",
      "metadata": {
        "id": "wBv_U2EwAWFS"
      },
      "source": [
        "Import python libraries\n"
      ]
    },
    {
      "cell_type": "code",
      "metadata": {
        "id": "npo0C3reAbqn"
      },
      "source": [
        "\n",
        "import pandas as pd\n",
        "import matplotlib.pyplot as plt\n",
        "import seaborn as sns\n",
        "import plotly.express as px\n"
      ],
      "execution_count": null,
      "outputs": []
    },
    {
      "cell_type": "markdown",
      "metadata": {
        "id": "KvGK8HSV-lql"
      },
      "source": [
        "## <font color='lightblue'>1. Data </font>"
      ]
    },
    {
      "cell_type": "markdown",
      "metadata": {
        "id": "M2r3E549wJZL"
      },
      "source": [
        "**Action:** Import your data into colaboratory.\n"
      ]
    },
    {
      "cell_type": "markdown",
      "source": [
        "I chose a top spotify hits dataset from kaggle as my first set of data to explore. This set includes the top 2000 tracks from 2000-2019. I selected it as it had a high usability rating and was sizeable in both dimensions. It is imported as a .csv file from the kaggle link below. A detailed description of each column is given on kaggle.\n",
        " \n",
        "https://www.kaggle.com/datasets/paradisejoy/top-hits-spotify-from-20002019\n",
        "\n",
        "\n",
        "\n"
      ],
      "metadata": {
        "id": "JEycDCyK19Mf"
      }
    },
    {
      "cell_type": "code",
      "metadata": {
        "id": "sobqsVEo4tyE",
        "outputId": "2e7e2e63-3ec1-4cf9-d122-66a87488e688",
        "colab": {
          "base_uri": "https://localhost:8080/",
          "height": 765
        }
      },
      "source": [
        "df_songs = pd.read_csv('/content/songs_normalize.csv')\n",
        "df_songs"
      ],
      "execution_count": null,
      "outputs": [
        {
          "output_type": "execute_result",
          "data": {
            "text/plain": [
              "              artist                                    song  duration_ms  \\\n",
              "0     Britney Spears                  Oops!...I Did It Again       211160   \n",
              "1          blink-182                    All The Small Things       167066   \n",
              "2         Faith Hill                                 Breathe       250546   \n",
              "3           Bon Jovi                            It's My Life       224493   \n",
              "4             *NSYNC                             Bye Bye Bye       200560   \n",
              "...              ...                                     ...          ...   \n",
              "1995  Jonas Brothers                                  Sucker       181026   \n",
              "1996    Taylor Swift                            Cruel Summer       178426   \n",
              "1997    Blanco Brown                              The Git Up       200593   \n",
              "1998       Sam Smith  Dancing With A Stranger (with Normani)       171029   \n",
              "1999     Post Malone                                 Circles       215280   \n",
              "\n",
              "      explicit  year  popularity  danceability  energy  key  loudness  mode  \\\n",
              "0        False  2000          77         0.751   0.834    1    -5.444     0   \n",
              "1        False  1999          79         0.434   0.897    0    -4.918     1   \n",
              "2        False  1999          66         0.529   0.496    7    -9.007     1   \n",
              "3        False  2000          78         0.551   0.913    0    -4.063     0   \n",
              "4        False  2000          65         0.614   0.928    8    -4.806     0   \n",
              "...        ...   ...         ...           ...     ...  ...       ...   ...   \n",
              "1995     False  2019          79         0.842   0.734    1    -5.065     0   \n",
              "1996     False  2019          78         0.552   0.702    9    -5.707     1   \n",
              "1997     False  2019          69         0.847   0.678    9    -8.635     1   \n",
              "1998     False  2019          75         0.741   0.520    8    -7.513     1   \n",
              "1999     False  2019          85         0.695   0.762    0    -3.497     1   \n",
              "\n",
              "      speechiness  acousticness  instrumentalness  liveness  valence    tempo  \\\n",
              "0          0.0437        0.3000          0.000018    0.3550    0.894   95.053   \n",
              "1          0.0488        0.0103          0.000000    0.6120    0.684  148.726   \n",
              "2          0.0290        0.1730          0.000000    0.2510    0.278  136.859   \n",
              "3          0.0466        0.0263          0.000013    0.3470    0.544  119.992   \n",
              "4          0.0516        0.0408          0.001040    0.0845    0.879  172.656   \n",
              "...           ...           ...               ...       ...      ...      ...   \n",
              "1995       0.0588        0.0427          0.000000    0.1060    0.952  137.958   \n",
              "1996       0.1570        0.1170          0.000021    0.1050    0.564  169.994   \n",
              "1997       0.1090        0.0669          0.000000    0.2740    0.811   97.984   \n",
              "1998       0.0656        0.4500          0.000002    0.2220    0.347  102.998   \n",
              "1999       0.0395        0.1920          0.002440    0.0863    0.553  120.042   \n",
              "\n",
              "                 genre  \n",
              "0                  pop  \n",
              "1            rock, pop  \n",
              "2         pop, country  \n",
              "3          rock, metal  \n",
              "4                  pop  \n",
              "...                ...  \n",
              "1995               pop  \n",
              "1996               pop  \n",
              "1997  hip hop, country  \n",
              "1998               pop  \n",
              "1999           hip hop  \n",
              "\n",
              "[2000 rows x 18 columns]"
            ],
            "text/html": [
              "\n",
              "  <div id=\"df-9c3ee264-51fe-4ea5-9551-828cc84bdc16\">\n",
              "    <div class=\"colab-df-container\">\n",
              "      <div>\n",
              "<style scoped>\n",
              "    .dataframe tbody tr th:only-of-type {\n",
              "        vertical-align: middle;\n",
              "    }\n",
              "\n",
              "    .dataframe tbody tr th {\n",
              "        vertical-align: top;\n",
              "    }\n",
              "\n",
              "    .dataframe thead th {\n",
              "        text-align: right;\n",
              "    }\n",
              "</style>\n",
              "<table border=\"1\" class=\"dataframe\">\n",
              "  <thead>\n",
              "    <tr style=\"text-align: right;\">\n",
              "      <th></th>\n",
              "      <th>artist</th>\n",
              "      <th>song</th>\n",
              "      <th>duration_ms</th>\n",
              "      <th>explicit</th>\n",
              "      <th>year</th>\n",
              "      <th>popularity</th>\n",
              "      <th>danceability</th>\n",
              "      <th>energy</th>\n",
              "      <th>key</th>\n",
              "      <th>loudness</th>\n",
              "      <th>mode</th>\n",
              "      <th>speechiness</th>\n",
              "      <th>acousticness</th>\n",
              "      <th>instrumentalness</th>\n",
              "      <th>liveness</th>\n",
              "      <th>valence</th>\n",
              "      <th>tempo</th>\n",
              "      <th>genre</th>\n",
              "    </tr>\n",
              "  </thead>\n",
              "  <tbody>\n",
              "    <tr>\n",
              "      <th>0</th>\n",
              "      <td>Britney Spears</td>\n",
              "      <td>Oops!...I Did It Again</td>\n",
              "      <td>211160</td>\n",
              "      <td>False</td>\n",
              "      <td>2000</td>\n",
              "      <td>77</td>\n",
              "      <td>0.751</td>\n",
              "      <td>0.834</td>\n",
              "      <td>1</td>\n",
              "      <td>-5.444</td>\n",
              "      <td>0</td>\n",
              "      <td>0.0437</td>\n",
              "      <td>0.3000</td>\n",
              "      <td>0.000018</td>\n",
              "      <td>0.3550</td>\n",
              "      <td>0.894</td>\n",
              "      <td>95.053</td>\n",
              "      <td>pop</td>\n",
              "    </tr>\n",
              "    <tr>\n",
              "      <th>1</th>\n",
              "      <td>blink-182</td>\n",
              "      <td>All The Small Things</td>\n",
              "      <td>167066</td>\n",
              "      <td>False</td>\n",
              "      <td>1999</td>\n",
              "      <td>79</td>\n",
              "      <td>0.434</td>\n",
              "      <td>0.897</td>\n",
              "      <td>0</td>\n",
              "      <td>-4.918</td>\n",
              "      <td>1</td>\n",
              "      <td>0.0488</td>\n",
              "      <td>0.0103</td>\n",
              "      <td>0.000000</td>\n",
              "      <td>0.6120</td>\n",
              "      <td>0.684</td>\n",
              "      <td>148.726</td>\n",
              "      <td>rock, pop</td>\n",
              "    </tr>\n",
              "    <tr>\n",
              "      <th>2</th>\n",
              "      <td>Faith Hill</td>\n",
              "      <td>Breathe</td>\n",
              "      <td>250546</td>\n",
              "      <td>False</td>\n",
              "      <td>1999</td>\n",
              "      <td>66</td>\n",
              "      <td>0.529</td>\n",
              "      <td>0.496</td>\n",
              "      <td>7</td>\n",
              "      <td>-9.007</td>\n",
              "      <td>1</td>\n",
              "      <td>0.0290</td>\n",
              "      <td>0.1730</td>\n",
              "      <td>0.000000</td>\n",
              "      <td>0.2510</td>\n",
              "      <td>0.278</td>\n",
              "      <td>136.859</td>\n",
              "      <td>pop, country</td>\n",
              "    </tr>\n",
              "    <tr>\n",
              "      <th>3</th>\n",
              "      <td>Bon Jovi</td>\n",
              "      <td>It's My Life</td>\n",
              "      <td>224493</td>\n",
              "      <td>False</td>\n",
              "      <td>2000</td>\n",
              "      <td>78</td>\n",
              "      <td>0.551</td>\n",
              "      <td>0.913</td>\n",
              "      <td>0</td>\n",
              "      <td>-4.063</td>\n",
              "      <td>0</td>\n",
              "      <td>0.0466</td>\n",
              "      <td>0.0263</td>\n",
              "      <td>0.000013</td>\n",
              "      <td>0.3470</td>\n",
              "      <td>0.544</td>\n",
              "      <td>119.992</td>\n",
              "      <td>rock, metal</td>\n",
              "    </tr>\n",
              "    <tr>\n",
              "      <th>4</th>\n",
              "      <td>*NSYNC</td>\n",
              "      <td>Bye Bye Bye</td>\n",
              "      <td>200560</td>\n",
              "      <td>False</td>\n",
              "      <td>2000</td>\n",
              "      <td>65</td>\n",
              "      <td>0.614</td>\n",
              "      <td>0.928</td>\n",
              "      <td>8</td>\n",
              "      <td>-4.806</td>\n",
              "      <td>0</td>\n",
              "      <td>0.0516</td>\n",
              "      <td>0.0408</td>\n",
              "      <td>0.001040</td>\n",
              "      <td>0.0845</td>\n",
              "      <td>0.879</td>\n",
              "      <td>172.656</td>\n",
              "      <td>pop</td>\n",
              "    </tr>\n",
              "    <tr>\n",
              "      <th>...</th>\n",
              "      <td>...</td>\n",
              "      <td>...</td>\n",
              "      <td>...</td>\n",
              "      <td>...</td>\n",
              "      <td>...</td>\n",
              "      <td>...</td>\n",
              "      <td>...</td>\n",
              "      <td>...</td>\n",
              "      <td>...</td>\n",
              "      <td>...</td>\n",
              "      <td>...</td>\n",
              "      <td>...</td>\n",
              "      <td>...</td>\n",
              "      <td>...</td>\n",
              "      <td>...</td>\n",
              "      <td>...</td>\n",
              "      <td>...</td>\n",
              "      <td>...</td>\n",
              "    </tr>\n",
              "    <tr>\n",
              "      <th>1995</th>\n",
              "      <td>Jonas Brothers</td>\n",
              "      <td>Sucker</td>\n",
              "      <td>181026</td>\n",
              "      <td>False</td>\n",
              "      <td>2019</td>\n",
              "      <td>79</td>\n",
              "      <td>0.842</td>\n",
              "      <td>0.734</td>\n",
              "      <td>1</td>\n",
              "      <td>-5.065</td>\n",
              "      <td>0</td>\n",
              "      <td>0.0588</td>\n",
              "      <td>0.0427</td>\n",
              "      <td>0.000000</td>\n",
              "      <td>0.1060</td>\n",
              "      <td>0.952</td>\n",
              "      <td>137.958</td>\n",
              "      <td>pop</td>\n",
              "    </tr>\n",
              "    <tr>\n",
              "      <th>1996</th>\n",
              "      <td>Taylor Swift</td>\n",
              "      <td>Cruel Summer</td>\n",
              "      <td>178426</td>\n",
              "      <td>False</td>\n",
              "      <td>2019</td>\n",
              "      <td>78</td>\n",
              "      <td>0.552</td>\n",
              "      <td>0.702</td>\n",
              "      <td>9</td>\n",
              "      <td>-5.707</td>\n",
              "      <td>1</td>\n",
              "      <td>0.1570</td>\n",
              "      <td>0.1170</td>\n",
              "      <td>0.000021</td>\n",
              "      <td>0.1050</td>\n",
              "      <td>0.564</td>\n",
              "      <td>169.994</td>\n",
              "      <td>pop</td>\n",
              "    </tr>\n",
              "    <tr>\n",
              "      <th>1997</th>\n",
              "      <td>Blanco Brown</td>\n",
              "      <td>The Git Up</td>\n",
              "      <td>200593</td>\n",
              "      <td>False</td>\n",
              "      <td>2019</td>\n",
              "      <td>69</td>\n",
              "      <td>0.847</td>\n",
              "      <td>0.678</td>\n",
              "      <td>9</td>\n",
              "      <td>-8.635</td>\n",
              "      <td>1</td>\n",
              "      <td>0.1090</td>\n",
              "      <td>0.0669</td>\n",
              "      <td>0.000000</td>\n",
              "      <td>0.2740</td>\n",
              "      <td>0.811</td>\n",
              "      <td>97.984</td>\n",
              "      <td>hip hop, country</td>\n",
              "    </tr>\n",
              "    <tr>\n",
              "      <th>1998</th>\n",
              "      <td>Sam Smith</td>\n",
              "      <td>Dancing With A Stranger (with Normani)</td>\n",
              "      <td>171029</td>\n",
              "      <td>False</td>\n",
              "      <td>2019</td>\n",
              "      <td>75</td>\n",
              "      <td>0.741</td>\n",
              "      <td>0.520</td>\n",
              "      <td>8</td>\n",
              "      <td>-7.513</td>\n",
              "      <td>1</td>\n",
              "      <td>0.0656</td>\n",
              "      <td>0.4500</td>\n",
              "      <td>0.000002</td>\n",
              "      <td>0.2220</td>\n",
              "      <td>0.347</td>\n",
              "      <td>102.998</td>\n",
              "      <td>pop</td>\n",
              "    </tr>\n",
              "    <tr>\n",
              "      <th>1999</th>\n",
              "      <td>Post Malone</td>\n",
              "      <td>Circles</td>\n",
              "      <td>215280</td>\n",
              "      <td>False</td>\n",
              "      <td>2019</td>\n",
              "      <td>85</td>\n",
              "      <td>0.695</td>\n",
              "      <td>0.762</td>\n",
              "      <td>0</td>\n",
              "      <td>-3.497</td>\n",
              "      <td>1</td>\n",
              "      <td>0.0395</td>\n",
              "      <td>0.1920</td>\n",
              "      <td>0.002440</td>\n",
              "      <td>0.0863</td>\n",
              "      <td>0.553</td>\n",
              "      <td>120.042</td>\n",
              "      <td>hip hop</td>\n",
              "    </tr>\n",
              "  </tbody>\n",
              "</table>\n",
              "<p>2000 rows × 18 columns</p>\n",
              "</div>\n",
              "      <button class=\"colab-df-convert\" onclick=\"convertToInteractive('df-9c3ee264-51fe-4ea5-9551-828cc84bdc16')\"\n",
              "              title=\"Convert this dataframe to an interactive table.\"\n",
              "              style=\"display:none;\">\n",
              "        \n",
              "  <svg xmlns=\"http://www.w3.org/2000/svg\" height=\"24px\"viewBox=\"0 0 24 24\"\n",
              "       width=\"24px\">\n",
              "    <path d=\"M0 0h24v24H0V0z\" fill=\"none\"/>\n",
              "    <path d=\"M18.56 5.44l.94 2.06.94-2.06 2.06-.94-2.06-.94-.94-2.06-.94 2.06-2.06.94zm-11 1L8.5 8.5l.94-2.06 2.06-.94-2.06-.94L8.5 2.5l-.94 2.06-2.06.94zm10 10l.94 2.06.94-2.06 2.06-.94-2.06-.94-.94-2.06-.94 2.06-2.06.94z\"/><path d=\"M17.41 7.96l-1.37-1.37c-.4-.4-.92-.59-1.43-.59-.52 0-1.04.2-1.43.59L10.3 9.45l-7.72 7.72c-.78.78-.78 2.05 0 2.83L4 21.41c.39.39.9.59 1.41.59.51 0 1.02-.2 1.41-.59l7.78-7.78 2.81-2.81c.8-.78.8-2.07 0-2.86zM5.41 20L4 18.59l7.72-7.72 1.47 1.35L5.41 20z\"/>\n",
              "  </svg>\n",
              "      </button>\n",
              "      \n",
              "  <style>\n",
              "    .colab-df-container {\n",
              "      display:flex;\n",
              "      flex-wrap:wrap;\n",
              "      gap: 12px;\n",
              "    }\n",
              "\n",
              "    .colab-df-convert {\n",
              "      background-color: #E8F0FE;\n",
              "      border: none;\n",
              "      border-radius: 50%;\n",
              "      cursor: pointer;\n",
              "      display: none;\n",
              "      fill: #1967D2;\n",
              "      height: 32px;\n",
              "      padding: 0 0 0 0;\n",
              "      width: 32px;\n",
              "    }\n",
              "\n",
              "    .colab-df-convert:hover {\n",
              "      background-color: #E2EBFA;\n",
              "      box-shadow: 0px 1px 2px rgba(60, 64, 67, 0.3), 0px 1px 3px 1px rgba(60, 64, 67, 0.15);\n",
              "      fill: #174EA6;\n",
              "    }\n",
              "\n",
              "    [theme=dark] .colab-df-convert {\n",
              "      background-color: #3B4455;\n",
              "      fill: #D2E3FC;\n",
              "    }\n",
              "\n",
              "    [theme=dark] .colab-df-convert:hover {\n",
              "      background-color: #434B5C;\n",
              "      box-shadow: 0px 1px 3px 1px rgba(0, 0, 0, 0.15);\n",
              "      filter: drop-shadow(0px 1px 2px rgba(0, 0, 0, 0.3));\n",
              "      fill: #FFFFFF;\n",
              "    }\n",
              "  </style>\n",
              "\n",
              "      <script>\n",
              "        const buttonEl =\n",
              "          document.querySelector('#df-9c3ee264-51fe-4ea5-9551-828cc84bdc16 button.colab-df-convert');\n",
              "        buttonEl.style.display =\n",
              "          google.colab.kernel.accessAllowed ? 'block' : 'none';\n",
              "\n",
              "        async function convertToInteractive(key) {\n",
              "          const element = document.querySelector('#df-9c3ee264-51fe-4ea5-9551-828cc84bdc16');\n",
              "          const dataTable =\n",
              "            await google.colab.kernel.invokeFunction('convertToInteractive',\n",
              "                                                     [key], {});\n",
              "          if (!dataTable) return;\n",
              "\n",
              "          const docLinkHtml = 'Like what you see? Visit the ' +\n",
              "            '<a target=\"_blank\" href=https://colab.research.google.com/notebooks/data_table.ipynb>data table notebook</a>'\n",
              "            + ' to learn more about interactive tables.';\n",
              "          element.innerHTML = '';\n",
              "          dataTable['output_type'] = 'display_data';\n",
              "          await google.colab.output.renderOutput(dataTable, element);\n",
              "          const docLink = document.createElement('div');\n",
              "          docLink.innerHTML = docLinkHtml;\n",
              "          element.appendChild(docLink);\n",
              "        }\n",
              "      </script>\n",
              "    </div>\n",
              "  </div>\n",
              "  "
            ]
          },
          "metadata": {},
          "execution_count": 4
        }
      ]
    },
    {
      "cell_type": "markdown",
      "metadata": {
        "id": "BFMyKInr-YxM"
      },
      "source": [
        "**Action:** Determine the types of data are you dealing with."
      ]
    },
    {
      "cell_type": "code",
      "source": [
        "df_songs.info()"
      ],
      "metadata": {
        "id": "toIuSgUp5MOu",
        "outputId": "8a23a60c-d76f-4ff5-d958-070231aec735",
        "colab": {
          "base_uri": "https://localhost:8080/"
        }
      },
      "execution_count": null,
      "outputs": [
        {
          "output_type": "stream",
          "name": "stdout",
          "text": [
            "<class 'pandas.core.frame.DataFrame'>\n",
            "RangeIndex: 2000 entries, 0 to 1999\n",
            "Data columns (total 18 columns):\n",
            " #   Column            Non-Null Count  Dtype  \n",
            "---  ------            --------------  -----  \n",
            " 0   artist            2000 non-null   object \n",
            " 1   song              2000 non-null   object \n",
            " 2   duration_ms       2000 non-null   int64  \n",
            " 3   explicit          2000 non-null   bool   \n",
            " 4   year              2000 non-null   int64  \n",
            " 5   popularity        2000 non-null   int64  \n",
            " 6   danceability      2000 non-null   float64\n",
            " 7   energy            2000 non-null   float64\n",
            " 8   key               2000 non-null   int64  \n",
            " 9   loudness          2000 non-null   float64\n",
            " 10  mode              2000 non-null   int64  \n",
            " 11  speechiness       2000 non-null   float64\n",
            " 12  acousticness      2000 non-null   float64\n",
            " 13  instrumentalness  2000 non-null   float64\n",
            " 14  liveness          2000 non-null   float64\n",
            " 15  valence           2000 non-null   float64\n",
            " 16  tempo             2000 non-null   float64\n",
            " 17  genre             2000 non-null   object \n",
            "dtypes: bool(1), float64(9), int64(5), object(3)\n",
            "memory usage: 267.7+ KB\n"
          ]
        }
      ]
    },
    {
      "cell_type": "markdown",
      "metadata": {
        "id": "kVDi_3vBEkkm"
      },
      "source": [
        "## <font color='lightblue'>2. Summary statistics</font>"
      ]
    },
    {
      "cell_type": "markdown",
      "source": [
        "Below I use Dataframe.describe() to get an initial idea of the ranges of values to expect from each column."
      ],
      "metadata": {
        "id": "S3XAuAsW85Q1"
      }
    },
    {
      "cell_type": "code",
      "source": [
        "df_songs['duration'] = df_songs.duration_ms/1000"
      ],
      "metadata": {
        "id": "gPvQxierP_O5"
      },
      "execution_count": null,
      "outputs": []
    },
    {
      "cell_type": "code",
      "source": [
        "df_songs.describe()"
      ],
      "metadata": {
        "id": "RuqJpzjg7mRx",
        "outputId": "2e096359-f7fa-4b51-ac2d-bdaf29278575",
        "colab": {
          "base_uri": "https://localhost:8080/",
          "height": 364
        }
      },
      "execution_count": null,
      "outputs": [
        {
          "output_type": "execute_result",
          "data": {
            "text/plain": [
              "         duration_ms        year   popularity  danceability       energy  \\\n",
              "count    2000.000000  2000.00000  2000.000000   2000.000000  2000.000000   \n",
              "mean   228748.124500  2009.49400    59.872500      0.667437     0.720366   \n",
              "std     39136.569008     5.85996    21.335577      0.140416     0.152745   \n",
              "min    113000.000000  1998.00000     0.000000      0.129000     0.054900   \n",
              "25%    203580.000000  2004.00000    56.000000      0.581000     0.622000   \n",
              "50%    223279.500000  2010.00000    65.500000      0.676000     0.736000   \n",
              "75%    248133.000000  2015.00000    73.000000      0.764000     0.839000   \n",
              "max    484146.000000  2020.00000    89.000000      0.975000     0.999000   \n",
              "\n",
              "               key     loudness         mode  speechiness  acousticness  \\\n",
              "count  2000.000000  2000.000000  2000.000000  2000.000000   2000.000000   \n",
              "mean      5.378000    -5.512435     0.553500     0.103568      0.128955   \n",
              "std       3.615059     1.933482     0.497254     0.096159      0.173346   \n",
              "min       0.000000   -20.514000     0.000000     0.023200      0.000019   \n",
              "25%       2.000000    -6.490250     0.000000     0.039600      0.014000   \n",
              "50%       6.000000    -5.285000     1.000000     0.059850      0.055700   \n",
              "75%       8.000000    -4.167750     1.000000     0.129000      0.176250   \n",
              "max      11.000000    -0.276000     1.000000     0.576000      0.976000   \n",
              "\n",
              "       instrumentalness     liveness      valence        tempo     duration  \n",
              "count       2000.000000  2000.000000  2000.000000  2000.000000  2000.000000  \n",
              "mean           0.015226     0.181216     0.551690   120.122558   228.748125  \n",
              "std            0.087771     0.140669     0.220864    26.967112    39.136569  \n",
              "min            0.000000     0.021500     0.038100    60.019000   113.000000  \n",
              "25%            0.000000     0.088100     0.386750    98.985750   203.580000  \n",
              "50%            0.000000     0.124000     0.557500   120.021500   223.279500  \n",
              "75%            0.000068     0.241000     0.730000   134.265500   248.133000  \n",
              "max            0.985000     0.853000     0.973000   210.851000   484.146000  "
            ],
            "text/html": [
              "\n",
              "  <div id=\"df-6814d1a9-af1d-43d5-a9f2-a4717bd7e0ad\">\n",
              "    <div class=\"colab-df-container\">\n",
              "      <div>\n",
              "<style scoped>\n",
              "    .dataframe tbody tr th:only-of-type {\n",
              "        vertical-align: middle;\n",
              "    }\n",
              "\n",
              "    .dataframe tbody tr th {\n",
              "        vertical-align: top;\n",
              "    }\n",
              "\n",
              "    .dataframe thead th {\n",
              "        text-align: right;\n",
              "    }\n",
              "</style>\n",
              "<table border=\"1\" class=\"dataframe\">\n",
              "  <thead>\n",
              "    <tr style=\"text-align: right;\">\n",
              "      <th></th>\n",
              "      <th>duration_ms</th>\n",
              "      <th>year</th>\n",
              "      <th>popularity</th>\n",
              "      <th>danceability</th>\n",
              "      <th>energy</th>\n",
              "      <th>key</th>\n",
              "      <th>loudness</th>\n",
              "      <th>mode</th>\n",
              "      <th>speechiness</th>\n",
              "      <th>acousticness</th>\n",
              "      <th>instrumentalness</th>\n",
              "      <th>liveness</th>\n",
              "      <th>valence</th>\n",
              "      <th>tempo</th>\n",
              "      <th>duration</th>\n",
              "    </tr>\n",
              "  </thead>\n",
              "  <tbody>\n",
              "    <tr>\n",
              "      <th>count</th>\n",
              "      <td>2000.000000</td>\n",
              "      <td>2000.00000</td>\n",
              "      <td>2000.000000</td>\n",
              "      <td>2000.000000</td>\n",
              "      <td>2000.000000</td>\n",
              "      <td>2000.000000</td>\n",
              "      <td>2000.000000</td>\n",
              "      <td>2000.000000</td>\n",
              "      <td>2000.000000</td>\n",
              "      <td>2000.000000</td>\n",
              "      <td>2000.000000</td>\n",
              "      <td>2000.000000</td>\n",
              "      <td>2000.000000</td>\n",
              "      <td>2000.000000</td>\n",
              "      <td>2000.000000</td>\n",
              "    </tr>\n",
              "    <tr>\n",
              "      <th>mean</th>\n",
              "      <td>228748.124500</td>\n",
              "      <td>2009.49400</td>\n",
              "      <td>59.872500</td>\n",
              "      <td>0.667437</td>\n",
              "      <td>0.720366</td>\n",
              "      <td>5.378000</td>\n",
              "      <td>-5.512435</td>\n",
              "      <td>0.553500</td>\n",
              "      <td>0.103568</td>\n",
              "      <td>0.128955</td>\n",
              "      <td>0.015226</td>\n",
              "      <td>0.181216</td>\n",
              "      <td>0.551690</td>\n",
              "      <td>120.122558</td>\n",
              "      <td>228.748125</td>\n",
              "    </tr>\n",
              "    <tr>\n",
              "      <th>std</th>\n",
              "      <td>39136.569008</td>\n",
              "      <td>5.85996</td>\n",
              "      <td>21.335577</td>\n",
              "      <td>0.140416</td>\n",
              "      <td>0.152745</td>\n",
              "      <td>3.615059</td>\n",
              "      <td>1.933482</td>\n",
              "      <td>0.497254</td>\n",
              "      <td>0.096159</td>\n",
              "      <td>0.173346</td>\n",
              "      <td>0.087771</td>\n",
              "      <td>0.140669</td>\n",
              "      <td>0.220864</td>\n",
              "      <td>26.967112</td>\n",
              "      <td>39.136569</td>\n",
              "    </tr>\n",
              "    <tr>\n",
              "      <th>min</th>\n",
              "      <td>113000.000000</td>\n",
              "      <td>1998.00000</td>\n",
              "      <td>0.000000</td>\n",
              "      <td>0.129000</td>\n",
              "      <td>0.054900</td>\n",
              "      <td>0.000000</td>\n",
              "      <td>-20.514000</td>\n",
              "      <td>0.000000</td>\n",
              "      <td>0.023200</td>\n",
              "      <td>0.000019</td>\n",
              "      <td>0.000000</td>\n",
              "      <td>0.021500</td>\n",
              "      <td>0.038100</td>\n",
              "      <td>60.019000</td>\n",
              "      <td>113.000000</td>\n",
              "    </tr>\n",
              "    <tr>\n",
              "      <th>25%</th>\n",
              "      <td>203580.000000</td>\n",
              "      <td>2004.00000</td>\n",
              "      <td>56.000000</td>\n",
              "      <td>0.581000</td>\n",
              "      <td>0.622000</td>\n",
              "      <td>2.000000</td>\n",
              "      <td>-6.490250</td>\n",
              "      <td>0.000000</td>\n",
              "      <td>0.039600</td>\n",
              "      <td>0.014000</td>\n",
              "      <td>0.000000</td>\n",
              "      <td>0.088100</td>\n",
              "      <td>0.386750</td>\n",
              "      <td>98.985750</td>\n",
              "      <td>203.580000</td>\n",
              "    </tr>\n",
              "    <tr>\n",
              "      <th>50%</th>\n",
              "      <td>223279.500000</td>\n",
              "      <td>2010.00000</td>\n",
              "      <td>65.500000</td>\n",
              "      <td>0.676000</td>\n",
              "      <td>0.736000</td>\n",
              "      <td>6.000000</td>\n",
              "      <td>-5.285000</td>\n",
              "      <td>1.000000</td>\n",
              "      <td>0.059850</td>\n",
              "      <td>0.055700</td>\n",
              "      <td>0.000000</td>\n",
              "      <td>0.124000</td>\n",
              "      <td>0.557500</td>\n",
              "      <td>120.021500</td>\n",
              "      <td>223.279500</td>\n",
              "    </tr>\n",
              "    <tr>\n",
              "      <th>75%</th>\n",
              "      <td>248133.000000</td>\n",
              "      <td>2015.00000</td>\n",
              "      <td>73.000000</td>\n",
              "      <td>0.764000</td>\n",
              "      <td>0.839000</td>\n",
              "      <td>8.000000</td>\n",
              "      <td>-4.167750</td>\n",
              "      <td>1.000000</td>\n",
              "      <td>0.129000</td>\n",
              "      <td>0.176250</td>\n",
              "      <td>0.000068</td>\n",
              "      <td>0.241000</td>\n",
              "      <td>0.730000</td>\n",
              "      <td>134.265500</td>\n",
              "      <td>248.133000</td>\n",
              "    </tr>\n",
              "    <tr>\n",
              "      <th>max</th>\n",
              "      <td>484146.000000</td>\n",
              "      <td>2020.00000</td>\n",
              "      <td>89.000000</td>\n",
              "      <td>0.975000</td>\n",
              "      <td>0.999000</td>\n",
              "      <td>11.000000</td>\n",
              "      <td>-0.276000</td>\n",
              "      <td>1.000000</td>\n",
              "      <td>0.576000</td>\n",
              "      <td>0.976000</td>\n",
              "      <td>0.985000</td>\n",
              "      <td>0.853000</td>\n",
              "      <td>0.973000</td>\n",
              "      <td>210.851000</td>\n",
              "      <td>484.146000</td>\n",
              "    </tr>\n",
              "  </tbody>\n",
              "</table>\n",
              "</div>\n",
              "      <button class=\"colab-df-convert\" onclick=\"convertToInteractive('df-6814d1a9-af1d-43d5-a9f2-a4717bd7e0ad')\"\n",
              "              title=\"Convert this dataframe to an interactive table.\"\n",
              "              style=\"display:none;\">\n",
              "        \n",
              "  <svg xmlns=\"http://www.w3.org/2000/svg\" height=\"24px\"viewBox=\"0 0 24 24\"\n",
              "       width=\"24px\">\n",
              "    <path d=\"M0 0h24v24H0V0z\" fill=\"none\"/>\n",
              "    <path d=\"M18.56 5.44l.94 2.06.94-2.06 2.06-.94-2.06-.94-.94-2.06-.94 2.06-2.06.94zm-11 1L8.5 8.5l.94-2.06 2.06-.94-2.06-.94L8.5 2.5l-.94 2.06-2.06.94zm10 10l.94 2.06.94-2.06 2.06-.94-2.06-.94-.94-2.06-.94 2.06-2.06.94z\"/><path d=\"M17.41 7.96l-1.37-1.37c-.4-.4-.92-.59-1.43-.59-.52 0-1.04.2-1.43.59L10.3 9.45l-7.72 7.72c-.78.78-.78 2.05 0 2.83L4 21.41c.39.39.9.59 1.41.59.51 0 1.02-.2 1.41-.59l7.78-7.78 2.81-2.81c.8-.78.8-2.07 0-2.86zM5.41 20L4 18.59l7.72-7.72 1.47 1.35L5.41 20z\"/>\n",
              "  </svg>\n",
              "      </button>\n",
              "      \n",
              "  <style>\n",
              "    .colab-df-container {\n",
              "      display:flex;\n",
              "      flex-wrap:wrap;\n",
              "      gap: 12px;\n",
              "    }\n",
              "\n",
              "    .colab-df-convert {\n",
              "      background-color: #E8F0FE;\n",
              "      border: none;\n",
              "      border-radius: 50%;\n",
              "      cursor: pointer;\n",
              "      display: none;\n",
              "      fill: #1967D2;\n",
              "      height: 32px;\n",
              "      padding: 0 0 0 0;\n",
              "      width: 32px;\n",
              "    }\n",
              "\n",
              "    .colab-df-convert:hover {\n",
              "      background-color: #E2EBFA;\n",
              "      box-shadow: 0px 1px 2px rgba(60, 64, 67, 0.3), 0px 1px 3px 1px rgba(60, 64, 67, 0.15);\n",
              "      fill: #174EA6;\n",
              "    }\n",
              "\n",
              "    [theme=dark] .colab-df-convert {\n",
              "      background-color: #3B4455;\n",
              "      fill: #D2E3FC;\n",
              "    }\n",
              "\n",
              "    [theme=dark] .colab-df-convert:hover {\n",
              "      background-color: #434B5C;\n",
              "      box-shadow: 0px 1px 3px 1px rgba(0, 0, 0, 0.15);\n",
              "      filter: drop-shadow(0px 1px 2px rgba(0, 0, 0, 0.3));\n",
              "      fill: #FFFFFF;\n",
              "    }\n",
              "  </style>\n",
              "\n",
              "      <script>\n",
              "        const buttonEl =\n",
              "          document.querySelector('#df-6814d1a9-af1d-43d5-a9f2-a4717bd7e0ad button.colab-df-convert');\n",
              "        buttonEl.style.display =\n",
              "          google.colab.kernel.accessAllowed ? 'block' : 'none';\n",
              "\n",
              "        async function convertToInteractive(key) {\n",
              "          const element = document.querySelector('#df-6814d1a9-af1d-43d5-a9f2-a4717bd7e0ad');\n",
              "          const dataTable =\n",
              "            await google.colab.kernel.invokeFunction('convertToInteractive',\n",
              "                                                     [key], {});\n",
              "          if (!dataTable) return;\n",
              "\n",
              "          const docLinkHtml = 'Like what you see? Visit the ' +\n",
              "            '<a target=\"_blank\" href=https://colab.research.google.com/notebooks/data_table.ipynb>data table notebook</a>'\n",
              "            + ' to learn more about interactive tables.';\n",
              "          element.innerHTML = '';\n",
              "          dataTable['output_type'] = 'display_data';\n",
              "          await google.colab.output.renderOutput(dataTable, element);\n",
              "          const docLink = document.createElement('div');\n",
              "          docLink.innerHTML = docLinkHtml;\n",
              "          element.appendChild(docLink);\n",
              "        }\n",
              "      </script>\n",
              "    </div>\n",
              "  </div>\n",
              "  "
            ]
          },
          "metadata": {},
          "execution_count": 7
        }
      ]
    },
    {
      "cell_type": "markdown",
      "source": [
        "From the .describe() function we can see all counts are equal, therefore we shouldn't have to deal with any NaN or false zero values. \n",
        "The mean song length is 228748 ms or 3 minutes and 48 seconds. "
      ],
      "metadata": {
        "id": "W9z6OBnC9K7w"
      }
    },
    {
      "cell_type": "markdown",
      "metadata": {
        "id": "9bKY19_k-tlK"
      },
      "source": [
        "## <font color='lightblue'>3. Visualize the data</font>"
      ]
    },
    {
      "cell_type": "markdown",
      "metadata": {
        "id": "Qz3sEa35-yva"
      },
      "source": [
        "**Action:** Visualize the distribution of values for some key variables"
      ]
    },
    {
      "cell_type": "markdown",
      "metadata": {
        "id": "ZSAzW3WtEtrR"
      },
      "source": [
        "**Q1:** Explain your choice of plots using the five visualization components: \n",
        "1. Data component -- what kinds of data are you dealing with?\n",
        "2. Graphical component -- what kinds of plot can you use?\n",
        "3. Label component -- what should be on the plot axis?\n",
        "4. Esthetic component -- what should you plot say, and how best to do this?\n",
        "5. Ethical component -- Is the graph misleading, what is left out?"
      ]
    },
    {
      "cell_type": "markdown",
      "source": [
        "I want to get a visual of which artists have multiple hit songs in our top 2000. First I'll build a new dataframe using value_counts method and then visualize the counts per artist with a scatter plot. In this case a histogram or packed circle chart would also work."
      ],
      "metadata": {
        "id": "T4ztwAFUgU10"
      }
    },
    {
      "cell_type": "code",
      "source": [
        "df_artist = df_songs.artist.value_counts().to_frame('counts').reset_index()\n",
        "df_artist.columns = ['artist', 'counts']\n",
        "print(df_artist[df_artist.counts >5])"
      ],
      "metadata": {
        "colab": {
          "base_uri": "https://localhost:8080/"
        },
        "id": "CoaCoPkbfOGs",
        "outputId": "9d8293ae-6dcf-4298-c449-9446db7b1e0c"
      },
      "execution_count": null,
      "outputs": [
        {
          "output_type": "stream",
          "name": "stdout",
          "text": [
            "                   artist  counts\n",
            "0                 Rihanna      25\n",
            "1                   Drake      23\n",
            "2                  Eminem      21\n",
            "3           Calvin Harris      20\n",
            "4          Britney Spears      19\n",
            "..                    ...     ...\n",
            "69         Ellie Goulding       6\n",
            "70          Mary J. Blige       6\n",
            "71                Ashanti       6\n",
            "72            Alicia Keys       6\n",
            "73  Red Hot Chili Peppers       6\n",
            "\n",
            "[74 rows x 2 columns]\n"
          ]
        }
      ]
    },
    {
      "cell_type": "markdown",
      "source": [
        "I plotted the number of top 2000 for each artist who had more than 15 hits. There are over 800 unique artists in the list, most having less than 5 hits. "
      ],
      "metadata": {
        "id": "xvas_Z9Ajb8O"
      }
    },
    {
      "cell_type": "code",
      "source": [
        "sns.scatterplot(data=df_artist[df_artist.counts >15], x='artist', y='counts').set(xlabel='Artist',ylabel='Number of Hits')\n",
        "plt.xticks(rotation=-90)\n",
        "plt.title('Artists With Over 15 Songs In The Top 2000 (2000-2020)')"
      ],
      "metadata": {
        "colab": {
          "base_uri": "https://localhost:8080/",
          "height": 389
        },
        "id": "Ak8d3gc2a3mb",
        "outputId": "6bfb3d75-7661-44c9-b20d-2387dbc77700"
      },
      "execution_count": null,
      "outputs": [
        {
          "output_type": "execute_result",
          "data": {
            "text/plain": [
              "Text(0.5, 1.0, 'Artists With Over 15 Songs In The Top 2000 (2000-2020)')"
            ]
          },
          "metadata": {},
          "execution_count": 85
        },
        {
          "output_type": "display_data",
          "data": {
            "text/plain": [
              "<Figure size 432x288 with 1 Axes>"
            ],
            "image/png": "[encoded data removed]"
          },
          "metadata": {}
        }
      ]
    },
    {
      "cell_type": "markdown",
      "source": [
        "We can see there are only eleven artists with more than 15 songs in our dataframe. When all artist's song counts are plotted it appears to fall off exponentially. At first glance it may convey to the viewer that Katy Perry is not a very successful musician. As these names are well known we know this not to be true. If the dataset was dealing with lesser known variables and categories this could become misleading. "
      ],
      "metadata": {
        "id": "__xCnAM6qDq-"
      }
    },
    {
      "cell_type": "code",
      "metadata": {
        "id": "AtEp7bth-2hF",
        "outputId": "217dedda-c241-4367-c4ee-ad58ae0527a3",
        "colab": {
          "base_uri": "https://localhost:8080/",
          "height": 956
        }
      },
      "source": [
        "sns.set()\n",
        "sns.set_style('ticks')\n",
        "sns.set_palette(\"bright\")\n",
        "fig, axes = plt.subplots(3, 3, figsize=(20,15))\n",
        "fig.suptitle('Distribution of Hit Songs Based on Sound Attributes')\n",
        "\n",
        "sns.histplot(data=df_songs, ax=axes[0,0], x=df_songs['year'], binwidth=1)\n",
        "\n",
        "sns.histplot(data=df_songs, ax=axes[0,1], x=df_songs['danceability'], binwidth=0.02)\n",
        "\n",
        "sns.histplot(data=df_songs, ax=axes[0,2], x=df_songs['energy'], binwidth=0.02)\n",
        "\n",
        "sns.histplot(data=df_songs, ax=axes[1,0], x=df_songs['key'], binwidth=1)\n",
        "\n",
        "sns.histplot(data=df_songs, ax=axes[1,1], x=df_songs['loudness'], binwidth=1)\n",
        "\n",
        "sns.histplot(data=df_songs, ax=axes[1,2], x=df_songs['acousticness'], binwidth=0.01)\n",
        "\n",
        "sns.histplot(data=df_songs, ax=axes[2,0], x=df_songs['liveness'], binwidth=0.02)\n",
        "\n",
        "sns.histplot(data=df_songs, ax=axes[2,1], x=df_songs['valence'], binwidth=0.02)\n",
        "\n",
        "sns.histplot(data=df_songs, ax=axes[2,2], x=df_songs['tempo'], binwidth=2)"
      ],
      "execution_count": null,
      "outputs": [
        {
          "output_type": "execute_result",
          "data": {
            "text/plain": [
              "<matplotlib.axes._subplots.AxesSubplot at 0x7f7d71230f90>"
            ]
          },
          "metadata": {},
          "execution_count": 8
        },
        {
          "output_type": "display_data",
          "data": {
            "text/plain": [
              "<Figure size 1440x1080 with 9 Axes>"
            ],
            "image/png": "[encoded data removed]"
          },
          "metadata": {}
        }
      ]
    },
    {
      "cell_type": "markdown",
      "source": [
        "I chose to use a histogram to display the majority of the variables. In using a histogram I am hoping to display a quick look at the distribution of each variable. This will tell us if a certain attribute can be connected to being a popular, hit song. \n",
        "\n",
        " Some vairables were not included as they seemed redundant. For example, Speechiness is a measure of how much spoken word is in a song, and instrumentalness is a measure of the lack of words.  "
      ],
      "metadata": {
        "id": "e9_sxamZKg73"
      }
    },
    {
      "cell_type": "code",
      "source": [
        "sns.lineplot(data=df_songs, x='year',y='duration', ci = None)\n",
        "plt.xlabel(\"Year\")\n",
        "plt.ylabel(\"Duration (s)\")\n",
        "plt.title('Songs Getting Shorter Through 2000\\'s')\n",
        "plt.axhline(df_songs['duration'].mean(), ls='--') "
      ],
      "metadata": {
        "id": "SJxtpV4GO7mB",
        "outputId": "cccf78bd-15fe-47bf-8b4b-32f6dde354d8",
        "colab": {
          "base_uri": "https://localhost:8080/",
          "height": 318
        }
      },
      "execution_count": null,
      "outputs": [
        {
          "output_type": "execute_result",
          "data": {
            "text/plain": [
              "<matplotlib.lines.Line2D at 0x7f7d714fbe10>"
            ]
          },
          "metadata": {},
          "execution_count": 9
        },
        {
          "output_type": "display_data",
          "data": {
            "text/plain": [
              "<Figure size 432x288 with 1 Axes>"
            ],
            "image/png": "[encoded data removed]"
          },
          "metadata": {}
        }
      ]
    },
    {
      "cell_type": "markdown",
      "source": [
        "This simple line plot shows that over the last 20 years popular songs tend to be of shorter duration. This is until 2020 when we see a large uptick in duration. It also appears that songs before the 2000's were preferred to be shorter. This seems misleading as when you investigate the number of songs frome each year (below) you see there are only 3 songs from 2020, and 1 from 1988. It is likely that these songs are not a good representation of the data for those years. "
      ],
      "metadata": {
        "id": "aR0owjjoTz96"
      }
    },
    {
      "cell_type": "code",
      "source": [
        "df_songs.year.value_counts()"
      ],
      "metadata": {
        "id": "XTxJi0yUTRRg",
        "outputId": "903fa5ca-cb73-491c-bbef-ce451cdd44f3",
        "colab": {
          "base_uri": "https://localhost:8080/"
        }
      },
      "execution_count": null,
      "outputs": [
        {
          "output_type": "execute_result",
          "data": {
            "text/plain": [
              "2012    115\n",
              "2017    111\n",
              "2001    108\n",
              "2018    107\n",
              "2010    107\n",
              "2014    104\n",
              "2005    104\n",
              "2011     99\n",
              "2016     99\n",
              "2015     99\n",
              "2003     97\n",
              "2008     97\n",
              "2004     96\n",
              "2006     95\n",
              "2007     94\n",
              "2002     90\n",
              "2019     89\n",
              "2013     89\n",
              "2009     84\n",
              "2000     74\n",
              "1999     38\n",
              "2020      3\n",
              "1998      1\n",
              "Name: year, dtype: int64"
            ]
          },
          "metadata": {},
          "execution_count": 10
        }
      ]
    },
    {
      "cell_type": "markdown",
      "metadata": {
        "id": "X3j3SzCVGJ8V"
      },
      "source": [
        "## <font color='lightblue'>4. Correlations</font>"
      ]
    },
    {
      "cell_type": "markdown",
      "metadata": {
        "id": "8YYsjvaB-27-"
      },
      "source": [
        "**Action:** Use correlation to estimate the relationship between some of the key variables. Try exploring for interesting relationships using heatmaps."
      ]
    },
    {
      "cell_type": "code",
      "metadata": {
        "id": "lMeA3Tdx_NY3",
        "outputId": "fe20793b-f0fc-42fb-b3b8-85dc686f8582",
        "colab": {
          "base_uri": "https://localhost:8080/",
          "height": 615
        }
      },
      "source": [
        "df_songs.corr().round(decimals=1)"
      ],
      "execution_count": null,
      "outputs": [
        {
          "output_type": "execute_result",
          "data": {
            "text/plain": [
              "                  duration_ms  explicit  year  popularity  danceability  \\\n",
              "duration_ms               1.0       0.1  -0.3         0.1          -0.1   \n",
              "explicit                  0.1       1.0   0.1         0.0           0.2   \n",
              "year                     -0.3       0.1   1.0        -0.0           0.0   \n",
              "popularity                0.1       0.0  -0.0         1.0          -0.0   \n",
              "danceability             -0.1       0.2   0.0        -0.0           1.0   \n",
              "energy                   -0.1      -0.2  -0.1        -0.0          -0.1   \n",
              "key                      -0.0       0.0   0.0         0.0           0.0   \n",
              "loudness                 -0.1      -0.1   0.0         0.0          -0.0   \n",
              "mode                     -0.0       0.0  -0.0        -0.0          -0.1   \n",
              "speechiness               0.1       0.4   0.0         0.0           0.1   \n",
              "acousticness              0.0      -0.0   0.0         0.0          -0.1   \n",
              "instrumentalness         -0.0      -0.1  -0.1        -0.0           0.0   \n",
              "liveness                  0.0       0.0  -0.0        -0.0          -0.1   \n",
              "valence                  -0.1      -0.0  -0.2        -0.0           0.4   \n",
              "tempo                    -0.0       0.0   0.1         0.0          -0.2   \n",
              "duration                  1.0       0.1  -0.3         0.1          -0.1   \n",
              "\n",
              "                  energy  key  loudness  mode  speechiness  acousticness  \\\n",
              "duration_ms         -0.1 -0.0      -0.1  -0.0          0.1           0.0   \n",
              "explicit            -0.2  0.0      -0.1   0.0          0.4          -0.0   \n",
              "year                -0.1  0.0       0.0  -0.0          0.0           0.0   \n",
              "popularity          -0.0  0.0       0.0  -0.0          0.0           0.0   \n",
              "danceability        -0.1  0.0      -0.0  -0.1          0.1          -0.1   \n",
              "energy               1.0 -0.0       0.7  -0.0         -0.1          -0.4   \n",
              "key                 -0.0  1.0      -0.0  -0.2          0.0           0.0   \n",
              "loudness             0.7 -0.0       1.0  -0.0         -0.1          -0.3   \n",
              "mode                -0.0 -0.2      -0.0   1.0         -0.0           0.0   \n",
              "speechiness         -0.1  0.0      -0.1  -0.0          1.0           0.0   \n",
              "acousticness        -0.4  0.0      -0.3   0.0          0.0           1.0   \n",
              "instrumentalness     0.0 -0.0      -0.1  -0.0         -0.1          -0.0   \n",
              "liveness             0.2 -0.0       0.1   0.0          0.1          -0.1   \n",
              "valence              0.3  0.0       0.2  -0.1          0.1          -0.1   \n",
              "tempo                0.2 -0.0       0.1   0.0          0.1          -0.1   \n",
              "duration            -0.1 -0.0      -0.1  -0.0          0.1           0.0   \n",
              "\n",
              "                  instrumentalness  liveness  valence  tempo  duration  \n",
              "duration_ms                   -0.0       0.0     -0.1   -0.0       1.0  \n",
              "explicit                      -0.1       0.0     -0.0    0.0       0.1  \n",
              "year                          -0.1      -0.0     -0.2    0.1      -0.3  \n",
              "popularity                    -0.0      -0.0     -0.0    0.0       0.1  \n",
              "danceability                   0.0      -0.1      0.4   -0.2      -0.1  \n",
              "energy                         0.0       0.2      0.3    0.2      -0.1  \n",
              "key                           -0.0      -0.0      0.0   -0.0      -0.0  \n",
              "loudness                      -0.1       0.1      0.2    0.1      -0.1  \n",
              "mode                          -0.0       0.0     -0.1    0.0      -0.0  \n",
              "speechiness                   -0.1       0.1      0.1    0.1       0.1  \n",
              "acousticness                  -0.0      -0.1     -0.1   -0.1       0.0  \n",
              "instrumentalness               1.0      -0.0     -0.0    0.0      -0.0  \n",
              "liveness                      -0.0       1.0      0.0    0.0       0.0  \n",
              "valence                       -0.0       0.0      1.0   -0.0      -0.1  \n",
              "tempo                          0.0       0.0     -0.0    1.0      -0.0  \n",
              "duration                      -0.0       0.0     -0.1   -0.0       1.0  "
            ],
            "text/html": [
              "\n",
              "  <div id=\"df-cab1b6e3-af08-4112-80a9-ea0b0bce6b5e\">\n",
              "    <div class=\"colab-df-container\">\n",
              "      <div>\n",
              "<style scoped>\n",
              "    .dataframe tbody tr th:only-of-type {\n",
              "        vertical-align: middle;\n",
              "    }\n",
              "\n",
              "    .dataframe tbody tr th {\n",
              "        vertical-align: top;\n",
              "    }\n",
              "\n",
              "    .dataframe thead th {\n",
              "        text-align: right;\n",
              "    }\n",
              "</style>\n",
              "<table border=\"1\" class=\"dataframe\">\n",
              "  <thead>\n",
              "    <tr style=\"text-align: right;\">\n",
              "      <th></th>\n",
              "      <th>duration_ms</th>\n",
              "      <th>explicit</th>\n",
              "      <th>year</th>\n",
              "      <th>popularity</th>\n",
              "      <th>danceability</th>\n",
              "      <th>energy</th>\n",
              "      <th>key</th>\n",
              "      <th>loudness</th>\n",
              "      <th>mode</th>\n",
              "      <th>speechiness</th>\n",
              "      <th>acousticness</th>\n",
              "      <th>instrumentalness</th>\n",
              "      <th>liveness</th>\n",
              "      <th>valence</th>\n",
              "      <th>tempo</th>\n",
              "      <th>duration</th>\n",
              "    </tr>\n",
              "  </thead>\n",
              "  <tbody>\n",
              "    <tr>\n",
              "      <th>duration_ms</th>\n",
              "      <td>1.0</td>\n",
              "      <td>0.1</td>\n",
              "      <td>-0.3</td>\n",
              "      <td>0.1</td>\n",
              "      <td>-0.1</td>\n",
              "      <td>-0.1</td>\n",
              "      <td>-0.0</td>\n",
              "      <td>-0.1</td>\n",
              "      <td>-0.0</td>\n",
              "      <td>0.1</td>\n",
              "      <td>0.0</td>\n",
              "      <td>-0.0</td>\n",
              "      <td>0.0</td>\n",
              "      <td>-0.1</td>\n",
              "      <td>-0.0</td>\n",
              "      <td>1.0</td>\n",
              "    </tr>\n",
              "    <tr>\n",
              "      <th>explicit</th>\n",
              "      <td>0.1</td>\n",
              "      <td>1.0</td>\n",
              "      <td>0.1</td>\n",
              "      <td>0.0</td>\n",
              "      <td>0.2</td>\n",
              "      <td>-0.2</td>\n",
              "      <td>0.0</td>\n",
              "      <td>-0.1</td>\n",
              "      <td>0.0</td>\n",
              "      <td>0.4</td>\n",
              "      <td>-0.0</td>\n",
              "      <td>-0.1</td>\n",
              "      <td>0.0</td>\n",
              "      <td>-0.0</td>\n",
              "      <td>0.0</td>\n",
              "      <td>0.1</td>\n",
              "    </tr>\n",
              "    <tr>\n",
              "      <th>year</th>\n",
              "      <td>-0.3</td>\n",
              "      <td>0.1</td>\n",
              "      <td>1.0</td>\n",
              "      <td>-0.0</td>\n",
              "      <td>0.0</td>\n",
              "      <td>-0.1</td>\n",
              "      <td>0.0</td>\n",
              "      <td>0.0</td>\n",
              "      <td>-0.0</td>\n",
              "      <td>0.0</td>\n",
              "      <td>0.0</td>\n",
              "      <td>-0.1</td>\n",
              "      <td>-0.0</td>\n",
              "      <td>-0.2</td>\n",
              "      <td>0.1</td>\n",
              "      <td>-0.3</td>\n",
              "    </tr>\n",
              "    <tr>\n",
              "      <th>popularity</th>\n",
              "      <td>0.1</td>\n",
              "      <td>0.0</td>\n",
              "      <td>-0.0</td>\n",
              "      <td>1.0</td>\n",
              "      <td>-0.0</td>\n",
              "      <td>-0.0</td>\n",
              "      <td>0.0</td>\n",
              "      <td>0.0</td>\n",
              "      <td>-0.0</td>\n",
              "      <td>0.0</td>\n",
              "      <td>0.0</td>\n",
              "      <td>-0.0</td>\n",
              "      <td>-0.0</td>\n",
              "      <td>-0.0</td>\n",
              "      <td>0.0</td>\n",
              "      <td>0.1</td>\n",
              "    </tr>\n",
              "    <tr>\n",
              "      <th>danceability</th>\n",
              "      <td>-0.1</td>\n",
              "      <td>0.2</td>\n",
              "      <td>0.0</td>\n",
              "      <td>-0.0</td>\n",
              "      <td>1.0</td>\n",
              "      <td>-0.1</td>\n",
              "      <td>0.0</td>\n",
              "      <td>-0.0</td>\n",
              "      <td>-0.1</td>\n",
              "      <td>0.1</td>\n",
              "      <td>-0.1</td>\n",
              "      <td>0.0</td>\n",
              "      <td>-0.1</td>\n",
              "      <td>0.4</td>\n",
              "      <td>-0.2</td>\n",
              "      <td>-0.1</td>\n",
              "    </tr>\n",
              "    <tr>\n",
              "      <th>energy</th>\n",
              "      <td>-0.1</td>\n",
              "      <td>-0.2</td>\n",
              "      <td>-0.1</td>\n",
              "      <td>-0.0</td>\n",
              "      <td>-0.1</td>\n",
              "      <td>1.0</td>\n",
              "      <td>-0.0</td>\n",
              "      <td>0.7</td>\n",
              "      <td>-0.0</td>\n",
              "      <td>-0.1</td>\n",
              "      <td>-0.4</td>\n",
              "      <td>0.0</td>\n",
              "      <td>0.2</td>\n",
              "      <td>0.3</td>\n",
              "      <td>0.2</td>\n",
              "      <td>-0.1</td>\n",
              "    </tr>\n",
              "    <tr>\n",
              "      <th>key</th>\n",
              "      <td>-0.0</td>\n",
              "      <td>0.0</td>\n",
              "      <td>0.0</td>\n",
              "      <td>0.0</td>\n",
              "      <td>0.0</td>\n",
              "      <td>-0.0</td>\n",
              "      <td>1.0</td>\n",
              "      <td>-0.0</td>\n",
              "      <td>-0.2</td>\n",
              "      <td>0.0</td>\n",
              "      <td>0.0</td>\n",
              "      <td>-0.0</td>\n",
              "      <td>-0.0</td>\n",
              "      <td>0.0</td>\n",
              "      <td>-0.0</td>\n",
              "      <td>-0.0</td>\n",
              "    </tr>\n",
              "    <tr>\n",
              "      <th>loudness</th>\n",
              "      <td>-0.1</td>\n",
              "      <td>-0.1</td>\n",
              "      <td>0.0</td>\n",
              "      <td>0.0</td>\n",
              "      <td>-0.0</td>\n",
              "      <td>0.7</td>\n",
              "      <td>-0.0</td>\n",
              "      <td>1.0</td>\n",
              "      <td>-0.0</td>\n",
              "      <td>-0.1</td>\n",
              "      <td>-0.3</td>\n",
              "      <td>-0.1</td>\n",
              "      <td>0.1</td>\n",
              "      <td>0.2</td>\n",
              "      <td>0.1</td>\n",
              "      <td>-0.1</td>\n",
              "    </tr>\n",
              "    <tr>\n",
              "      <th>mode</th>\n",
              "      <td>-0.0</td>\n",
              "      <td>0.0</td>\n",
              "      <td>-0.0</td>\n",
              "      <td>-0.0</td>\n",
              "      <td>-0.1</td>\n",
              "      <td>-0.0</td>\n",
              "      <td>-0.2</td>\n",
              "      <td>-0.0</td>\n",
              "      <td>1.0</td>\n",
              "      <td>-0.0</td>\n",
              "      <td>0.0</td>\n",
              "      <td>-0.0</td>\n",
              "      <td>0.0</td>\n",
              "      <td>-0.1</td>\n",
              "      <td>0.0</td>\n",
              "      <td>-0.0</td>\n",
              "    </tr>\n",
              "    <tr>\n",
              "      <th>speechiness</th>\n",
              "      <td>0.1</td>\n",
              "      <td>0.4</td>\n",
              "      <td>0.0</td>\n",
              "      <td>0.0</td>\n",
              "      <td>0.1</td>\n",
              "      <td>-0.1</td>\n",
              "      <td>0.0</td>\n",
              "      <td>-0.1</td>\n",
              "      <td>-0.0</td>\n",
              "      <td>1.0</td>\n",
              "      <td>0.0</td>\n",
              "      <td>-0.1</td>\n",
              "      <td>0.1</td>\n",
              "      <td>0.1</td>\n",
              "      <td>0.1</td>\n",
              "      <td>0.1</td>\n",
              "    </tr>\n",
              "    <tr>\n",
              "      <th>acousticness</th>\n",
              "      <td>0.0</td>\n",
              "      <td>-0.0</td>\n",
              "      <td>0.0</td>\n",
              "      <td>0.0</td>\n",
              "      <td>-0.1</td>\n",
              "      <td>-0.4</td>\n",
              "      <td>0.0</td>\n",
              "      <td>-0.3</td>\n",
              "      <td>0.0</td>\n",
              "      <td>0.0</td>\n",
              "      <td>1.0</td>\n",
              "      <td>-0.0</td>\n",
              "      <td>-0.1</td>\n",
              "      <td>-0.1</td>\n",
              "      <td>-0.1</td>\n",
              "      <td>0.0</td>\n",
              "    </tr>\n",
              "    <tr>\n",
              "      <th>instrumentalness</th>\n",
              "      <td>-0.0</td>\n",
              "      <td>-0.1</td>\n",
              "      <td>-0.1</td>\n",
              "      <td>-0.0</td>\n",
              "      <td>0.0</td>\n",
              "      <td>0.0</td>\n",
              "      <td>-0.0</td>\n",
              "      <td>-0.1</td>\n",
              "      <td>-0.0</td>\n",
              "      <td>-0.1</td>\n",
              "      <td>-0.0</td>\n",
              "      <td>1.0</td>\n",
              "      <td>-0.0</td>\n",
              "      <td>-0.0</td>\n",
              "      <td>0.0</td>\n",
              "      <td>-0.0</td>\n",
              "    </tr>\n",
              "    <tr>\n",
              "      <th>liveness</th>\n",
              "      <td>0.0</td>\n",
              "      <td>0.0</td>\n",
              "      <td>-0.0</td>\n",
              "      <td>-0.0</td>\n",
              "      <td>-0.1</td>\n",
              "      <td>0.2</td>\n",
              "      <td>-0.0</td>\n",
              "      <td>0.1</td>\n",
              "      <td>0.0</td>\n",
              "      <td>0.1</td>\n",
              "      <td>-0.1</td>\n",
              "      <td>-0.0</td>\n",
              "      <td>1.0</td>\n",
              "      <td>0.0</td>\n",
              "      <td>0.0</td>\n",
              "      <td>0.0</td>\n",
              "    </tr>\n",
              "    <tr>\n",
              "      <th>valence</th>\n",
              "      <td>-0.1</td>\n",
              "      <td>-0.0</td>\n",
              "      <td>-0.2</td>\n",
              "      <td>-0.0</td>\n",
              "      <td>0.4</td>\n",
              "      <td>0.3</td>\n",
              "      <td>0.0</td>\n",
              "      <td>0.2</td>\n",
              "      <td>-0.1</td>\n",
              "      <td>0.1</td>\n",
              "      <td>-0.1</td>\n",
              "      <td>-0.0</td>\n",
              "      <td>0.0</td>\n",
              "      <td>1.0</td>\n",
              "      <td>-0.0</td>\n",
              "      <td>-0.1</td>\n",
              "    </tr>\n",
              "    <tr>\n",
              "      <th>tempo</th>\n",
              "      <td>-0.0</td>\n",
              "      <td>0.0</td>\n",
              "      <td>0.1</td>\n",
              "      <td>0.0</td>\n",
              "      <td>-0.2</td>\n",
              "      <td>0.2</td>\n",
              "      <td>-0.0</td>\n",
              "      <td>0.1</td>\n",
              "      <td>0.0</td>\n",
              "      <td>0.1</td>\n",
              "      <td>-0.1</td>\n",
              "      <td>0.0</td>\n",
              "      <td>0.0</td>\n",
              "      <td>-0.0</td>\n",
              "      <td>1.0</td>\n",
              "      <td>-0.0</td>\n",
              "    </tr>\n",
              "    <tr>\n",
              "      <th>duration</th>\n",
              "      <td>1.0</td>\n",
              "      <td>0.1</td>\n",
              "      <td>-0.3</td>\n",
              "      <td>0.1</td>\n",
              "      <td>-0.1</td>\n",
              "      <td>-0.1</td>\n",
              "      <td>-0.0</td>\n",
              "      <td>-0.1</td>\n",
              "      <td>-0.0</td>\n",
              "      <td>0.1</td>\n",
              "      <td>0.0</td>\n",
              "      <td>-0.0</td>\n",
              "      <td>0.0</td>\n",
              "      <td>-0.1</td>\n",
              "      <td>-0.0</td>\n",
              "      <td>1.0</td>\n",
              "    </tr>\n",
              "  </tbody>\n",
              "</table>\n",
              "</div>\n",
              "      <button class=\"colab-df-convert\" onclick=\"convertToInteractive('df-cab1b6e3-af08-4112-80a9-ea0b0bce6b5e')\"\n",
              "              title=\"Convert this dataframe to an interactive table.\"\n",
              "              style=\"display:none;\">\n",
              "        \n",
              "  <svg xmlns=\"http://www.w3.org/2000/svg\" height=\"24px\"viewBox=\"0 0 24 24\"\n",
              "       width=\"24px\">\n",
              "    <path d=\"M0 0h24v24H0V0z\" fill=\"none\"/>\n",
              "    <path d=\"M18.56 5.44l.94 2.06.94-2.06 2.06-.94-2.06-.94-.94-2.06-.94 2.06-2.06.94zm-11 1L8.5 8.5l.94-2.06 2.06-.94-2.06-.94L8.5 2.5l-.94 2.06-2.06.94zm10 10l.94 2.06.94-2.06 2.06-.94-2.06-.94-.94-2.06-.94 2.06-2.06.94z\"/><path d=\"M17.41 7.96l-1.37-1.37c-.4-.4-.92-.59-1.43-.59-.52 0-1.04.2-1.43.59L10.3 9.45l-7.72 7.72c-.78.78-.78 2.05 0 2.83L4 21.41c.39.39.9.59 1.41.59.51 0 1.02-.2 1.41-.59l7.78-7.78 2.81-2.81c.8-.78.8-2.07 0-2.86zM5.41 20L4 18.59l7.72-7.72 1.47 1.35L5.41 20z\"/>\n",
              "  </svg>\n",
              "      </button>\n",
              "      \n",
              "  <style>\n",
              "    .colab-df-container {\n",
              "      display:flex;\n",
              "      flex-wrap:wrap;\n",
              "      gap: 12px;\n",
              "    }\n",
              "\n",
              "    .colab-df-convert {\n",
              "      background-color: #E8F0FE;\n",
              "      border: none;\n",
              "      border-radius: 50%;\n",
              "      cursor: pointer;\n",
              "      display: none;\n",
              "      fill: #1967D2;\n",
              "      height: 32px;\n",
              "      padding: 0 0 0 0;\n",
              "      width: 32px;\n",
              "    }\n",
              "\n",
              "    .colab-df-convert:hover {\n",
              "      background-color: #E2EBFA;\n",
              "      box-shadow: 0px 1px 2px rgba(60, 64, 67, 0.3), 0px 1px 3px 1px rgba(60, 64, 67, 0.15);\n",
              "      fill: #174EA6;\n",
              "    }\n",
              "\n",
              "    [theme=dark] .colab-df-convert {\n",
              "      background-color: #3B4455;\n",
              "      fill: #D2E3FC;\n",
              "    }\n",
              "\n",
              "    [theme=dark] .colab-df-convert:hover {\n",
              "      background-color: #434B5C;\n",
              "      box-shadow: 0px 1px 3px 1px rgba(0, 0, 0, 0.15);\n",
              "      filter: drop-shadow(0px 1px 2px rgba(0, 0, 0, 0.3));\n",
              "      fill: #FFFFFF;\n",
              "    }\n",
              "  </style>\n",
              "\n",
              "      <script>\n",
              "        const buttonEl =\n",
              "          document.querySelector('#df-cab1b6e3-af08-4112-80a9-ea0b0bce6b5e button.colab-df-convert');\n",
              "        buttonEl.style.display =\n",
              "          google.colab.kernel.accessAllowed ? 'block' : 'none';\n",
              "\n",
              "        async function convertToInteractive(key) {\n",
              "          const element = document.querySelector('#df-cab1b6e3-af08-4112-80a9-ea0b0bce6b5e');\n",
              "          const dataTable =\n",
              "            await google.colab.kernel.invokeFunction('convertToInteractive',\n",
              "                                                     [key], {});\n",
              "          if (!dataTable) return;\n",
              "\n",
              "          const docLinkHtml = 'Like what you see? Visit the ' +\n",
              "            '<a target=\"_blank\" href=https://colab.research.google.com/notebooks/data_table.ipynb>data table notebook</a>'\n",
              "            + ' to learn more about interactive tables.';\n",
              "          element.innerHTML = '';\n",
              "          dataTable['output_type'] = 'display_data';\n",
              "          await google.colab.output.renderOutput(dataTable, element);\n",
              "          const docLink = document.createElement('div');\n",
              "          docLink.innerHTML = docLinkHtml;\n",
              "          element.appendChild(docLink);\n",
              "        }\n",
              "      </script>\n",
              "    </div>\n",
              "  </div>\n",
              "  "
            ]
          },
          "metadata": {},
          "execution_count": 11
        }
      ]
    },
    {
      "cell_type": "code",
      "source": [
        "f, ax = plt.subplots(figsize=(15, 15))\n",
        "sns.heatmap(df_songs.corr().round(decimals=1), annot=True)\n",
        "plt.title('Correlation Between Song Attributes In Top 2000 Songs (2000-2020)')"
      ],
      "metadata": {
        "id": "hbO_LcXf-wfR",
        "outputId": "f55d4354-0740-4c11-9389-a8f7d7e752da",
        "colab": {
          "base_uri": "https://localhost:8080/",
          "height": 985
        }
      },
      "execution_count": null,
      "outputs": [
        {
          "output_type": "execute_result",
          "data": {
            "text/plain": [
              "Text(0.5, 1.0, 'Correlation Between Song Attributes In Top 2000 Songs (2000-2020)')"
            ]
          },
          "metadata": {},
          "execution_count": 86
        },
        {
          "output_type": "display_data",
          "data": {
            "text/plain": [
              "<Figure size 1080x1080 with 2 Axes>"
            ],
            "image/png": "[encoded data removed]"
          },
          "metadata": {}
        }
      ]
    },
    {
      "cell_type": "markdown",
      "metadata": {
        "id": "HM0Hi7VUGe14"
      },
      "source": [
        "**Q2:** Choose one or two correlations and describe what the magnitude and direction of the correlation suggests about the relationship between the two variables."
      ]
    },
    {
      "cell_type": "markdown",
      "source": [
        "The first interesting take away from the correlation heatmap is that the populariy variable has little correlation with any other variable. I assume this is because all the songs in our dataset have a high popularity. With a more diverse range of songs we may see different trends emerge. If one was trying to determine the best metrics for song creation getting data of songs with verying popularity may improve the accuracy of a model. \n",
        "\n",
        "Some unsuprising correlations are the strong positive correlation between loudness and energy. Another non supprising correlation is the weak negative correlation showing that acoustic songs are less energetic and less loud, on average. Looking at explicitness and speechiness one should not be suprised to some a weak positive correlation. Not all songs will have explicit language, but songs without words can't have any at all. "
      ],
      "metadata": {
        "id": "9QvyjMR1_XcO"
      }
    },
    {
      "cell_type": "markdown",
      "metadata": {
        "id": "D8nlQspTG8Ll"
      },
      "source": [
        "## <font color='lightblue'>5. Discussion</font>\n",
        "\n",
        "**Q3:** Did this exploritory data analysis help you better understand your chosen dataset? If so how? Is there still parts that don't make sense? \n",
        "> The idea with this question is not to see if you know everything about this dataset, just how EDA might have helped (or not!)."
      ]
    },
    {
      "cell_type": "markdown",
      "source": [
        "Yes, I understand most aspects of the dataset better. I think I may need a stronger understanding of music to understand the intricacies of variables such as key, mode, and tempo. Other than those variables it is easy to see from the correlation heatmap what variables influence similar trends. I initially approached the dataset as though I was intending to create the \"perfect song\" algorithmically. I believe if you wanted to use machine learning to do this you would need a dataset with a larger range of popularity values. I would also be interested in which genres would be considered favourable, and how that has evolved over time. "
      ],
      "metadata": {
        "id": "SxvQMUCSZIyL"
      }
    },
    {
      "cell_type": "markdown",
      "source": [
        "\n",
        "### Convert to PDF"
      ],
      "metadata": {
        "id": "D5u0DKSvuz5W"
      }
    },
    {
      "cell_type": "code",
      "source": [
        "!sudo apt-get install texlive-xetex texlive-fonts-recommended texlive-plain-generic\n"
      ],
      "metadata": {
        "id": "XNMJLfRqvGSL",
        "colab": {
          "base_uri": "https://localhost:8080/"
        },
        "outputId": "c007df79-cd87-401a-e2b1-f81abab24482"
      },
      "execution_count": null,
      "outputs": [
        {
          "output_type": "stream",
          "name": "stdout",
          "text": [
            "Reading package lists... Done\n",
            "Building dependency tree       \n",
            "Reading state information... Done\n",
            "texlive-fonts-recommended is already the newest version (2017.20180305-1).\n",
            "texlive-plain-generic is already the newest version (2017.20180305-2).\n",
            "texlive-xetex is already the newest version (2017.20180305-1).\n",
            "The following package was automatically installed and is no longer required:\n",
            "  libnvidia-common-460\n",
            "Use 'sudo apt autoremove' to remove it.\n",
            "0 upgraded, 0 newly installed, 0 to remove and 42 not upgraded.\n"
          ]
        }
      ]
    },
    {
      "cell_type": "code",
      "source": [
        "!jupyter nbconvert --to pdf /content/Liams_EDA_Project1.ipynb"
      ],
      "metadata": {
        "colab": {
          "base_uri": "https://localhost:8080/"
        },
        "id": "k-aEE8_YvVNO",
        "outputId": "dd0dc82f-fb90-4f08-ba44-ce772a9c9de3"
      },
      "execution_count": 93,
      "outputs": [
        {
          "output_type": "stream",
          "name": "stdout",
          "text": [
            "[NbConvertApp] Converting notebook /content/Liams_EDA_Project1.ipynb to pdf\n",
            "[NbConvertApp] Support files will be in Liams_EDA_Project1_files/\n",
            "[NbConvertApp] Making directory ./Liams_EDA_Project1_files\n",
            "[NbConvertApp] Making directory ./Liams_EDA_Project1_files\n",
            "[NbConvertApp] Making directory ./Liams_EDA_Project1_files\n",
            "[NbConvertApp] Making directory ./Liams_EDA_Project1_files\n",
            "[NbConvertApp] Writing 60530 bytes to ./notebook.tex\n",
            "[NbConvertApp] Building PDF\n",
            "[NbConvertApp] Running xelatex 3 times: ['xelatex', './notebook.tex', '-quiet']\n",
            "[NbConvertApp] Running bibtex 1 time: ['bibtex', './notebook']\n",
            "[NbConvertApp] WARNING | bibtex had problems, most likely because there were no citations\n",
            "[NbConvertApp] PDF successfully created\n",
            "[NbConvertApp] Writing 221197 bytes to /content/Liams_EDA_Project1.pdf\n"
          ]
        }
      ]
    },
    {
      "cell_type": "code",
      "source": [
        ""
      ],
      "metadata": {
        "id": "07oFpWFcwB-a"
      },
      "execution_count": null,
      "outputs": []
    }
  ]
}