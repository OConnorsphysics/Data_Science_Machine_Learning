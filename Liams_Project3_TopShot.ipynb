{
  "nbformat": 4,
  "nbformat_minor": 0,
  "metadata": {
    "colab": {
      "name": "Liams_Project3_TopShot.ipynb",
      "provenance": [],
      "collapsed_sections": [],
      "include_colab_link": true
    },
    "kernelspec": {
      "name": "python3",
      "display_name": "Python 3"
    }
  },
  "cells": [
    {
      "cell_type": "markdown",
      "metadata": {
        "id": "view-in-github",
        "colab_type": "text"
      },
      "source": [
        "<a href=\"https://colab.research.google.com/github/OConnorsphysics/Uleth_Data_Science/blob/main/Liams_Project3_TopShot.ipynb\" target=\"_parent\"><img src=\"https://colab.research.google.com/assets/colab-badge.svg\" alt=\"Open In Colab\"/></a>"
      ]
    },
    {
      "cell_type": "markdown",
      "metadata": {
        "id": "vAAwrni29gHo"
      },
      "source": [
        "# <font color='lightblue'>Can We Accurately Predict NBA Digital Card Prices?</font>"
      ]
    },
    {
      "cell_type": "markdown",
      "source": [
        "![picture](https://drive.google.com/uc?export=view&id=1eXpMZeXVoQIAIRE12_w3Fbj4rTAasbgs)\n"
      ],
      "metadata": {
        "id": "qQ3f9TskGRj4"
      }
    },
    {
      "cell_type": "markdown",
      "metadata": {
        "id": "jyHOvgcK2Oj0"
      },
      "source": [
        "In this project we will take on the roll of an advisor working for a rich basketball collector. We have been tasked with analyzing the values of NBA digital trading cards, called moments, on NBAtopshot.com. Our collector wants to find cards on the marketplace that are underpriced. Our task will be to develop a machine learning model that can correctly predict the value of a moment, based off the current market floor prices. \n"
      ]
    },
    {
      "cell_type": "markdown",
      "metadata": {
        "id": "wBv_U2EwAWFS"
      },
      "source": [
        "Import python libraries\n"
      ]
    },
    {
      "cell_type": "code",
      "metadata": {
        "id": "npo0C3reAbqn"
      },
      "source": [
        "import sklearn as sk\n",
        "import pandas as pd\n",
        "import seaborn as sns\n",
        "import matplotlib.pyplot as plt\n",
        "from sklearn.model_selection import train_test_split\n",
        "import csv\n",
        "from sklearn.preprocessing import OrdinalEncoder"
      ],
      "execution_count": null,
      "outputs": []
    },
    {
      "cell_type": "markdown",
      "metadata": {
        "id": "KvGK8HSV-lql"
      },
      "source": [
        "## <font color='lightblue'>Data Understanding </font>"
      ]
    },
    {
      "cell_type": "markdown",
      "source": [
        "I am importing a dataset of listing info for digital NBA trading cards. The price of moments is set by the current owner where the 'Lowest Ask' column is the price of the lowest card version for sale on the marketplace. Prices fluctuate wildly based on player, play type, team and other factors. I chose this dataset as it is quite complete, with no missing values. The challenges will come from the dataset having many classes and high value fluctuations. Data was taken from user RickyDC01 on Kaggle. Who scraped this data in July 2021 from the NBA TopShot Marketplace, as well as a secondary analysis site (evaluate.market)."
      ],
      "metadata": {
        "id": "0k2hT7Sn34Em"
      }
    },
    {
      "cell_type": "markdown",
      "metadata": {
        "id": "M2r3E549wJZL"
      },
      "source": [
        "Import our data into colaboratory.\n"
      ]
    },
    {
      "cell_type": "code",
      "source": [
        "df_topshot = pd.read_csv('/content/series_info_final.csv')\n",
        "df_topshot.info()"
      ],
      "metadata": {
        "id": "JG0cWLOQwY1J",
        "outputId": "9433f682-8c16-4ba1-fc1c-4e99f2e22931",
        "colab": {
          "base_uri": "https://localhost:8080/"
        }
      },
      "execution_count": null,
      "outputs": [
        {
          "output_type": "stream",
          "name": "stdout",
          "text": [
            "<class 'pandas.core.frame.DataFrame'>\n",
            "RangeIndex: 885 entries, 0 to 884\n",
            "Data columns (total 11 columns):\n",
            " #   Column           Non-Null Count  Dtype \n",
            "---  ------           --------------  ----- \n",
            " 0   Unnamed: 0       885 non-null    object\n",
            " 1   Moment Type      885 non-null    object\n",
            " 2   Link             885 non-null    object\n",
            " 3   Moment Date      885 non-null    object\n",
            " 4   Team             885 non-null    object\n",
            " 5   Lowest Ask       885 non-null    int64 \n",
            " 6   Num Listings     885 non-null    int64 \n",
            " 7   Moment Rarity    885 non-null    object\n",
            " 8   Edition Size     885 non-null    int64 \n",
            " 9   Limited Edition  885 non-null    bool  \n",
            " 10  Series           885 non-null    object\n",
            "dtypes: bool(1), int64(3), object(7)\n",
            "memory usage: 70.1+ KB\n"
          ]
        }
      ]
    },
    {
      "cell_type": "code",
      "source": [
        "df_topshot"
      ],
      "metadata": {
        "id": "mc8k93U1xTQd",
        "outputId": "ffe14bda-c2c4-498e-da02-2f47e23d0a47",
        "colab": {
          "base_uri": "https://localhost:8080/",
          "height": 606
        }
      },
      "execution_count": null,
      "outputs": [
        {
          "output_type": "execute_result",
          "data": {
            "text/plain": [
              "           Unnamed: 0 Moment Type  \\\n",
              "0         DANNY GREEN      Assist   \n",
              "1         TYLER HERRO       Layup   \n",
              "2        LEBRON JAMES        Dunk   \n",
              "3        JIMMY BUTLER        Dunk   \n",
              "4         RAJON RONDO      Assist   \n",
              "..                ...         ...   \n",
              "880  DONOVAN MITCHELL      Assist   \n",
              "881       CJ MCCOLLUM   Jump Shot   \n",
              "882     RUI HACHIMURA       Layup   \n",
              "883      JIMMY BUTLER       Layup   \n",
              "884  D'ANGELO RUSSELL       Layup   \n",
              "\n",
              "                                                  Link   Moment Date  Team  \\\n",
              "0    https://www.nbatopshot.com/listings/p2p/320cae...    Oct 2 2020   LAL   \n",
              "1    https://www.nbatopshot.com/listings/p2p/320cae...    Oct 4 2020   MIA   \n",
              "2    https://www.nbatopshot.com/listings/p2p/320cae...   Oct 11 2020   LAL   \n",
              "3    https://www.nbatopshot.com/listings/p2p/320cae...    Oct 4 2020   MIA   \n",
              "4    https://www.nbatopshot.com/listings/p2p/320cae...    Oct 2 2020   LAL   \n",
              "..                                                 ...           ...   ...   \n",
              "880  https://www.nbatopshot.com/listings/p2p/0a528e...   Jan 19 2021   UTA   \n",
              "881  https://www.nbatopshot.com/listings/p2p/0a528e...    Jan 9 2021   POR   \n",
              "882  https://www.nbatopshot.com/listings/p2p/0a528e...    Feb 2 2021   WAS   \n",
              "883  https://www.nbatopshot.com/listings/p2p/0a528e...    Jan 6 2021   MIA   \n",
              "884  https://www.nbatopshot.com/listings/p2p/0a528e...   Jan 13 2021   MIN   \n",
              "\n",
              "     Lowest Ask  Num Listings Moment Rarity  Edition Size  Limited Edition  \\\n",
              "0          4875            15     Legendary            79             True   \n",
              "1         13999            12     Legendary            79             True   \n",
              "2         70000             7     Legendary            79             True   \n",
              "3         10995            11     Legendary            79             True   \n",
              "4          7995             9     Legendary            79             True   \n",
              "..          ...           ...           ...           ...              ...   \n",
              "880         140           583        Common          8888             True   \n",
              "881          97           593        Common          8888             True   \n",
              "882          90           581        Common          8888             True   \n",
              "883         102           611        Common          8888             True   \n",
              "884          81           673        Common          8888             True   \n",
              "\n",
              "                         Series  \n",
              "0    2020 NBA Finals (Series 1)  \n",
              "1    2020 NBA Finals (Series 1)  \n",
              "2    2020 NBA Finals (Series 1)  \n",
              "3    2020 NBA Finals (Series 1)  \n",
              "4    2020 NBA Finals (Series 1)  \n",
              "..                          ...  \n",
              "880         The Gift (Series 2)  \n",
              "881         The Gift (Series 2)  \n",
              "882         The Gift (Series 2)  \n",
              "883         The Gift (Series 2)  \n",
              "884         The Gift (Series 2)  \n",
              "\n",
              "[885 rows x 11 columns]"
            ],
            "text/html": [
              "\n",
              "  <div id=\"df-18f2d4ed-ccd7-4832-9981-1eea82e27db4\">\n",
              "    <div class=\"colab-df-container\">\n",
              "      <div>\n",
              "<style scoped>\n",
              "    .dataframe tbody tr th:only-of-type {\n",
              "        vertical-align: middle;\n",
              "    }\n",
              "\n",
              "    .dataframe tbody tr th {\n",
              "        vertical-align: top;\n",
              "    }\n",
              "\n",
              "    .dataframe thead th {\n",
              "        text-align: right;\n",
              "    }\n",
              "</style>\n",
              "<table border=\"1\" class=\"dataframe\">\n",
              "  <thead>\n",
              "    <tr style=\"text-align: right;\">\n",
              "      <th></th>\n",
              "      <th>Unnamed: 0</th>\n",
              "      <th>Moment Type</th>\n",
              "      <th>Link</th>\n",
              "      <th>Moment Date</th>\n",
              "      <th>Team</th>\n",
              "      <th>Lowest Ask</th>\n",
              "      <th>Num Listings</th>\n",
              "      <th>Moment Rarity</th>\n",
              "      <th>Edition Size</th>\n",
              "      <th>Limited Edition</th>\n",
              "      <th>Series</th>\n",
              "    </tr>\n",
              "  </thead>\n",
              "  <tbody>\n",
              "    <tr>\n",
              "      <th>0</th>\n",
              "      <td>DANNY GREEN</td>\n",
              "      <td>Assist</td>\n",
              "      <td>https://www.nbatopshot.com/listings/p2p/320cae...</td>\n",
              "      <td>Oct 2 2020</td>\n",
              "      <td>LAL</td>\n",
              "      <td>4875</td>\n",
              "      <td>15</td>\n",
              "      <td>Legendary</td>\n",
              "      <td>79</td>\n",
              "      <td>True</td>\n",
              "      <td>2020 NBA Finals (Series 1)</td>\n",
              "    </tr>\n",
              "    <tr>\n",
              "      <th>1</th>\n",
              "      <td>TYLER HERRO</td>\n",
              "      <td>Layup</td>\n",
              "      <td>https://www.nbatopshot.com/listings/p2p/320cae...</td>\n",
              "      <td>Oct 4 2020</td>\n",
              "      <td>MIA</td>\n",
              "      <td>13999</td>\n",
              "      <td>12</td>\n",
              "      <td>Legendary</td>\n",
              "      <td>79</td>\n",
              "      <td>True</td>\n",
              "      <td>2020 NBA Finals (Series 1)</td>\n",
              "    </tr>\n",
              "    <tr>\n",
              "      <th>2</th>\n",
              "      <td>LEBRON JAMES</td>\n",
              "      <td>Dunk</td>\n",
              "      <td>https://www.nbatopshot.com/listings/p2p/320cae...</td>\n",
              "      <td>Oct 11 2020</td>\n",
              "      <td>LAL</td>\n",
              "      <td>70000</td>\n",
              "      <td>7</td>\n",
              "      <td>Legendary</td>\n",
              "      <td>79</td>\n",
              "      <td>True</td>\n",
              "      <td>2020 NBA Finals (Series 1)</td>\n",
              "    </tr>\n",
              "    <tr>\n",
              "      <th>3</th>\n",
              "      <td>JIMMY BUTLER</td>\n",
              "      <td>Dunk</td>\n",
              "      <td>https://www.nbatopshot.com/listings/p2p/320cae...</td>\n",
              "      <td>Oct 4 2020</td>\n",
              "      <td>MIA</td>\n",
              "      <td>10995</td>\n",
              "      <td>11</td>\n",
              "      <td>Legendary</td>\n",
              "      <td>79</td>\n",
              "      <td>True</td>\n",
              "      <td>2020 NBA Finals (Series 1)</td>\n",
              "    </tr>\n",
              "    <tr>\n",
              "      <th>4</th>\n",
              "      <td>RAJON RONDO</td>\n",
              "      <td>Assist</td>\n",
              "      <td>https://www.nbatopshot.com/listings/p2p/320cae...</td>\n",
              "      <td>Oct 2 2020</td>\n",
              "      <td>LAL</td>\n",
              "      <td>7995</td>\n",
              "      <td>9</td>\n",
              "      <td>Legendary</td>\n",
              "      <td>79</td>\n",
              "      <td>True</td>\n",
              "      <td>2020 NBA Finals (Series 1)</td>\n",
              "    </tr>\n",
              "    <tr>\n",
              "      <th>...</th>\n",
              "      <td>...</td>\n",
              "      <td>...</td>\n",
              "      <td>...</td>\n",
              "      <td>...</td>\n",
              "      <td>...</td>\n",
              "      <td>...</td>\n",
              "      <td>...</td>\n",
              "      <td>...</td>\n",
              "      <td>...</td>\n",
              "      <td>...</td>\n",
              "      <td>...</td>\n",
              "    </tr>\n",
              "    <tr>\n",
              "      <th>880</th>\n",
              "      <td>DONOVAN MITCHELL</td>\n",
              "      <td>Assist</td>\n",
              "      <td>https://www.nbatopshot.com/listings/p2p/0a528e...</td>\n",
              "      <td>Jan 19 2021</td>\n",
              "      <td>UTA</td>\n",
              "      <td>140</td>\n",
              "      <td>583</td>\n",
              "      <td>Common</td>\n",
              "      <td>8888</td>\n",
              "      <td>True</td>\n",
              "      <td>The Gift (Series 2)</td>\n",
              "    </tr>\n",
              "    <tr>\n",
              "      <th>881</th>\n",
              "      <td>CJ MCCOLLUM</td>\n",
              "      <td>Jump Shot</td>\n",
              "      <td>https://www.nbatopshot.com/listings/p2p/0a528e...</td>\n",
              "      <td>Jan 9 2021</td>\n",
              "      <td>POR</td>\n",
              "      <td>97</td>\n",
              "      <td>593</td>\n",
              "      <td>Common</td>\n",
              "      <td>8888</td>\n",
              "      <td>True</td>\n",
              "      <td>The Gift (Series 2)</td>\n",
              "    </tr>\n",
              "    <tr>\n",
              "      <th>882</th>\n",
              "      <td>RUI HACHIMURA</td>\n",
              "      <td>Layup</td>\n",
              "      <td>https://www.nbatopshot.com/listings/p2p/0a528e...</td>\n",
              "      <td>Feb 2 2021</td>\n",
              "      <td>WAS</td>\n",
              "      <td>90</td>\n",
              "      <td>581</td>\n",
              "      <td>Common</td>\n",
              "      <td>8888</td>\n",
              "      <td>True</td>\n",
              "      <td>The Gift (Series 2)</td>\n",
              "    </tr>\n",
              "    <tr>\n",
              "      <th>883</th>\n",
              "      <td>JIMMY BUTLER</td>\n",
              "      <td>Layup</td>\n",
              "      <td>https://www.nbatopshot.com/listings/p2p/0a528e...</td>\n",
              "      <td>Jan 6 2021</td>\n",
              "      <td>MIA</td>\n",
              "      <td>102</td>\n",
              "      <td>611</td>\n",
              "      <td>Common</td>\n",
              "      <td>8888</td>\n",
              "      <td>True</td>\n",
              "      <td>The Gift (Series 2)</td>\n",
              "    </tr>\n",
              "    <tr>\n",
              "      <th>884</th>\n",
              "      <td>D'ANGELO RUSSELL</td>\n",
              "      <td>Layup</td>\n",
              "      <td>https://www.nbatopshot.com/listings/p2p/0a528e...</td>\n",
              "      <td>Jan 13 2021</td>\n",
              "      <td>MIN</td>\n",
              "      <td>81</td>\n",
              "      <td>673</td>\n",
              "      <td>Common</td>\n",
              "      <td>8888</td>\n",
              "      <td>True</td>\n",
              "      <td>The Gift (Series 2)</td>\n",
              "    </tr>\n",
              "  </tbody>\n",
              "</table>\n",
              "<p>885 rows × 11 columns</p>\n",
              "</div>\n",
              "      <button class=\"colab-df-convert\" onclick=\"convertToInteractive('df-18f2d4ed-ccd7-4832-9981-1eea82e27db4')\"\n",
              "              title=\"Convert this dataframe to an interactive table.\"\n",
              "              style=\"display:none;\">\n",
              "        \n",
              "  <svg xmlns=\"http://www.w3.org/2000/svg\" height=\"24px\"viewBox=\"0 0 24 24\"\n",
              "       width=\"24px\">\n",
              "    <path d=\"M0 0h24v24H0V0z\" fill=\"none\"/>\n",
              "    <path d=\"M18.56 5.44l.94 2.06.94-2.06 2.06-.94-2.06-.94-.94-2.06-.94 2.06-2.06.94zm-11 1L8.5 8.5l.94-2.06 2.06-.94-2.06-.94L8.5 2.5l-.94 2.06-2.06.94zm10 10l.94 2.06.94-2.06 2.06-.94-2.06-.94-.94-2.06-.94 2.06-2.06.94z\"/><path d=\"M17.41 7.96l-1.37-1.37c-.4-.4-.92-.59-1.43-.59-.52 0-1.04.2-1.43.59L10.3 9.45l-7.72 7.72c-.78.78-.78 2.05 0 2.83L4 21.41c.39.39.9.59 1.41.59.51 0 1.02-.2 1.41-.59l7.78-7.78 2.81-2.81c.8-.78.8-2.07 0-2.86zM5.41 20L4 18.59l7.72-7.72 1.47 1.35L5.41 20z\"/>\n",
              "  </svg>\n",
              "      </button>\n",
              "      \n",
              "  <style>\n",
              "    .colab-df-container {\n",
              "      display:flex;\n",
              "      flex-wrap:wrap;\n",
              "      gap: 12px;\n",
              "    }\n",
              "\n",
              "    .colab-df-convert {\n",
              "      background-color: #E8F0FE;\n",
              "      border: none;\n",
              "      border-radius: 50%;\n",
              "      cursor: pointer;\n",
              "      display: none;\n",
              "      fill: #1967D2;\n",
              "      height: 32px;\n",
              "      padding: 0 0 0 0;\n",
              "      width: 32px;\n",
              "    }\n",
              "\n",
              "    .colab-df-convert:hover {\n",
              "      background-color: #E2EBFA;\n",
              "      box-shadow: 0px 1px 2px rgba(60, 64, 67, 0.3), 0px 1px 3px 1px rgba(60, 64, 67, 0.15);\n",
              "      fill: #174EA6;\n",
              "    }\n",
              "\n",
              "    [theme=dark] .colab-df-convert {\n",
              "      background-color: #3B4455;\n",
              "      fill: #D2E3FC;\n",
              "    }\n",
              "\n",
              "    [theme=dark] .colab-df-convert:hover {\n",
              "      background-color: #434B5C;\n",
              "      box-shadow: 0px 1px 3px 1px rgba(0, 0, 0, 0.15);\n",
              "      filter: drop-shadow(0px 1px 2px rgba(0, 0, 0, 0.3));\n",
              "      fill: #FFFFFF;\n",
              "    }\n",
              "  </style>\n",
              "\n",
              "      <script>\n",
              "        const buttonEl =\n",
              "          document.querySelector('#df-18f2d4ed-ccd7-4832-9981-1eea82e27db4 button.colab-df-convert');\n",
              "        buttonEl.style.display =\n",
              "          google.colab.kernel.accessAllowed ? 'block' : 'none';\n",
              "\n",
              "        async function convertToInteractive(key) {\n",
              "          const element = document.querySelector('#df-18f2d4ed-ccd7-4832-9981-1eea82e27db4');\n",
              "          const dataTable =\n",
              "            await google.colab.kernel.invokeFunction('convertToInteractive',\n",
              "                                                     [key], {});\n",
              "          if (!dataTable) return;\n",
              "\n",
              "          const docLinkHtml = 'Like what you see? Visit the ' +\n",
              "            '<a target=\"_blank\" href=https://colab.research.google.com/notebooks/data_table.ipynb>data table notebook</a>'\n",
              "            + ' to learn more about interactive tables.';\n",
              "          element.innerHTML = '';\n",
              "          dataTable['output_type'] = 'display_data';\n",
              "          await google.colab.output.renderOutput(dataTable, element);\n",
              "          const docLink = document.createElement('div');\n",
              "          docLink.innerHTML = docLinkHtml;\n",
              "          element.appendChild(docLink);\n",
              "        }\n",
              "      </script>\n",
              "    </div>\n",
              "  </div>\n",
              "  "
            ]
          },
          "metadata": {},
          "execution_count": 3
        }
      ]
    },
    {
      "cell_type": "markdown",
      "source": [
        "As most of the data is categorical the describe method coveys little information."
      ],
      "metadata": {
        "id": "ReLbkKTRxudE"
      }
    },
    {
      "cell_type": "code",
      "source": [
        "df_topshot.dtypes"
      ],
      "metadata": {
        "id": "dXpILj5mxuR2",
        "outputId": "a8adfc59-793f-491a-8a1f-c201c94ac9ca",
        "colab": {
          "base_uri": "https://localhost:8080/"
        }
      },
      "execution_count": null,
      "outputs": [
        {
          "output_type": "execute_result",
          "data": {
            "text/plain": [
              "Unnamed: 0         object\n",
              "Moment Type        object\n",
              "Link               object\n",
              "Moment Date        object\n",
              "Team               object\n",
              "Lowest Ask          int64\n",
              "Num Listings        int64\n",
              "Moment Rarity      object\n",
              "Edition Size        int64\n",
              "Limited Edition      bool\n",
              "Series             object\n",
              "dtype: object"
            ]
          },
          "metadata": {},
          "execution_count": 4
        }
      ]
    },
    {
      "cell_type": "code",
      "source": [
        "df_topshot.isnull().sum()"
      ],
      "metadata": {
        "id": "67jZkpLZxhgj",
        "outputId": "b9f95e75-e77c-4389-8135-28e37d4c01ed",
        "colab": {
          "base_uri": "https://localhost:8080/"
        }
      },
      "execution_count": null,
      "outputs": [
        {
          "output_type": "execute_result",
          "data": {
            "text/plain": [
              "Unnamed: 0         0\n",
              "Moment Type        0\n",
              "Link               0\n",
              "Moment Date        0\n",
              "Team               0\n",
              "Lowest Ask         0\n",
              "Num Listings       0\n",
              "Moment Rarity      0\n",
              "Edition Size       0\n",
              "Limited Edition    0\n",
              "Series             0\n",
              "dtype: int64"
            ]
          },
          "metadata": {},
          "execution_count": 5
        }
      ]
    },
    {
      "cell_type": "code",
      "source": [
        "df_topshot.describe()"
      ],
      "metadata": {
        "id": "IjpHwsFHxhiy",
        "outputId": "58d8f340-6380-4b3f-e397-0657aefb6e6b",
        "colab": {
          "base_uri": "https://localhost:8080/",
          "height": 300
        }
      },
      "execution_count": null,
      "outputs": [
        {
          "output_type": "execute_result",
          "data": {
            "text/plain": [
              "          Lowest Ask  Num Listings  Edition Size\n",
              "count     885.000000    885.000000    885.000000\n",
              "mean     7558.905085     89.490395   1629.810169\n",
              "std     20512.103267    171.530267   4346.058276\n",
              "min         4.000000      1.000000     25.000000\n",
              "25%       468.000000     19.000000    200.000000\n",
              "50%      1049.000000     33.000000    299.000000\n",
              "75%      4600.000000     92.000000   1500.000000\n",
              "max    240000.000000   1631.000000  35000.000000"
            ],
            "text/html": [
              "\n",
              "  <div id=\"df-eb99f324-db32-4944-be6e-b229ee873d1f\">\n",
              "    <div class=\"colab-df-container\">\n",
              "      <div>\n",
              "<style scoped>\n",
              "    .dataframe tbody tr th:only-of-type {\n",
              "        vertical-align: middle;\n",
              "    }\n",
              "\n",
              "    .dataframe tbody tr th {\n",
              "        vertical-align: top;\n",
              "    }\n",
              "\n",
              "    .dataframe thead th {\n",
              "        text-align: right;\n",
              "    }\n",
              "</style>\n",
              "<table border=\"1\" class=\"dataframe\">\n",
              "  <thead>\n",
              "    <tr style=\"text-align: right;\">\n",
              "      <th></th>\n",
              "      <th>Lowest Ask</th>\n",
              "      <th>Num Listings</th>\n",
              "      <th>Edition Size</th>\n",
              "    </tr>\n",
              "  </thead>\n",
              "  <tbody>\n",
              "    <tr>\n",
              "      <th>count</th>\n",
              "      <td>885.000000</td>\n",
              "      <td>885.000000</td>\n",
              "      <td>885.000000</td>\n",
              "    </tr>\n",
              "    <tr>\n",
              "      <th>mean</th>\n",
              "      <td>7558.905085</td>\n",
              "      <td>89.490395</td>\n",
              "      <td>1629.810169</td>\n",
              "    </tr>\n",
              "    <tr>\n",
              "      <th>std</th>\n",
              "      <td>20512.103267</td>\n",
              "      <td>171.530267</td>\n",
              "      <td>4346.058276</td>\n",
              "    </tr>\n",
              "    <tr>\n",
              "      <th>min</th>\n",
              "      <td>4.000000</td>\n",
              "      <td>1.000000</td>\n",
              "      <td>25.000000</td>\n",
              "    </tr>\n",
              "    <tr>\n",
              "      <th>25%</th>\n",
              "      <td>468.000000</td>\n",
              "      <td>19.000000</td>\n",
              "      <td>200.000000</td>\n",
              "    </tr>\n",
              "    <tr>\n",
              "      <th>50%</th>\n",
              "      <td>1049.000000</td>\n",
              "      <td>33.000000</td>\n",
              "      <td>299.000000</td>\n",
              "    </tr>\n",
              "    <tr>\n",
              "      <th>75%</th>\n",
              "      <td>4600.000000</td>\n",
              "      <td>92.000000</td>\n",
              "      <td>1500.000000</td>\n",
              "    </tr>\n",
              "    <tr>\n",
              "      <th>max</th>\n",
              "      <td>240000.000000</td>\n",
              "      <td>1631.000000</td>\n",
              "      <td>35000.000000</td>\n",
              "    </tr>\n",
              "  </tbody>\n",
              "</table>\n",
              "</div>\n",
              "      <button class=\"colab-df-convert\" onclick=\"convertToInteractive('df-eb99f324-db32-4944-be6e-b229ee873d1f')\"\n",
              "              title=\"Convert this dataframe to an interactive table.\"\n",
              "              style=\"display:none;\">\n",
              "        \n",
              "  <svg xmlns=\"http://www.w3.org/2000/svg\" height=\"24px\"viewBox=\"0 0 24 24\"\n",
              "       width=\"24px\">\n",
              "    <path d=\"M0 0h24v24H0V0z\" fill=\"none\"/>\n",
              "    <path d=\"M18.56 5.44l.94 2.06.94-2.06 2.06-.94-2.06-.94-.94-2.06-.94 2.06-2.06.94zm-11 1L8.5 8.5l.94-2.06 2.06-.94-2.06-.94L8.5 2.5l-.94 2.06-2.06.94zm10 10l.94 2.06.94-2.06 2.06-.94-2.06-.94-.94-2.06-.94 2.06-2.06.94z\"/><path d=\"M17.41 7.96l-1.37-1.37c-.4-.4-.92-.59-1.43-.59-.52 0-1.04.2-1.43.59L10.3 9.45l-7.72 7.72c-.78.78-.78 2.05 0 2.83L4 21.41c.39.39.9.59 1.41.59.51 0 1.02-.2 1.41-.59l7.78-7.78 2.81-2.81c.8-.78.8-2.07 0-2.86zM5.41 20L4 18.59l7.72-7.72 1.47 1.35L5.41 20z\"/>\n",
              "  </svg>\n",
              "      </button>\n",
              "      \n",
              "  <style>\n",
              "    .colab-df-container {\n",
              "      display:flex;\n",
              "      flex-wrap:wrap;\n",
              "      gap: 12px;\n",
              "    }\n",
              "\n",
              "    .colab-df-convert {\n",
              "      background-color: #E8F0FE;\n",
              "      border: none;\n",
              "      border-radius: 50%;\n",
              "      cursor: pointer;\n",
              "      display: none;\n",
              "      fill: #1967D2;\n",
              "      height: 32px;\n",
              "      padding: 0 0 0 0;\n",
              "      width: 32px;\n",
              "    }\n",
              "\n",
              "    .colab-df-convert:hover {\n",
              "      background-color: #E2EBFA;\n",
              "      box-shadow: 0px 1px 2px rgba(60, 64, 67, 0.3), 0px 1px 3px 1px rgba(60, 64, 67, 0.15);\n",
              "      fill: #174EA6;\n",
              "    }\n",
              "\n",
              "    [theme=dark] .colab-df-convert {\n",
              "      background-color: #3B4455;\n",
              "      fill: #D2E3FC;\n",
              "    }\n",
              "\n",
              "    [theme=dark] .colab-df-convert:hover {\n",
              "      background-color: #434B5C;\n",
              "      box-shadow: 0px 1px 3px 1px rgba(0, 0, 0, 0.15);\n",
              "      filter: drop-shadow(0px 1px 2px rgba(0, 0, 0, 0.3));\n",
              "      fill: #FFFFFF;\n",
              "    }\n",
              "  </style>\n",
              "\n",
              "      <script>\n",
              "        const buttonEl =\n",
              "          document.querySelector('#df-eb99f324-db32-4944-be6e-b229ee873d1f button.colab-df-convert');\n",
              "        buttonEl.style.display =\n",
              "          google.colab.kernel.accessAllowed ? 'block' : 'none';\n",
              "\n",
              "        async function convertToInteractive(key) {\n",
              "          const element = document.querySelector('#df-eb99f324-db32-4944-be6e-b229ee873d1f');\n",
              "          const dataTable =\n",
              "            await google.colab.kernel.invokeFunction('convertToInteractive',\n",
              "                                                     [key], {});\n",
              "          if (!dataTable) return;\n",
              "\n",
              "          const docLinkHtml = 'Like what you see? Visit the ' +\n",
              "            '<a target=\"_blank\" href=https://colab.research.google.com/notebooks/data_table.ipynb>data table notebook</a>'\n",
              "            + ' to learn more about interactive tables.';\n",
              "          element.innerHTML = '';\n",
              "          dataTable['output_type'] = 'display_data';\n",
              "          await google.colab.output.renderOutput(dataTable, element);\n",
              "          const docLink = document.createElement('div');\n",
              "          docLink.innerHTML = docLinkHtml;\n",
              "          element.appendChild(docLink);\n",
              "        }\n",
              "      </script>\n",
              "    </div>\n",
              "  </div>\n",
              "  "
            ]
          },
          "metadata": {},
          "execution_count": 129
        }
      ]
    },
    {
      "cell_type": "markdown",
      "source": [
        "# Model Selection\n",
        "As we want to assign a dollar value to future moments in question we will be using a regression based model. Regression models build a function to predict a target variable, and work well for price prediction problems. We are going to start with building a decision tree model to predict 'Lowest Ask' (Price). Then we will build a random forest model and compare the two models performance. Both of these are supervised learning models, as we will include the price in the training data."
      ],
      "metadata": {
        "id": "vwIchtckVCeP"
      }
    },
    {
      "cell_type": "markdown",
      "metadata": {
        "id": "9bKY19_k-tlK"
      },
      "source": [
        "## <font color='lightblue'>Data Exploration and Visualization </font>"
      ]
    },
    {
      "cell_type": "markdown",
      "source": [
        "Drop the link column as it provides no insigth into the data."
      ],
      "metadata": {
        "id": "_94nkPYOr1NE"
      }
    },
    {
      "cell_type": "code",
      "source": [
        "df_topshot.drop('Link', axis=1, inplace=True)\n"
      ],
      "metadata": {
        "id": "ZOLD_mR9yAQH"
      },
      "execution_count": null,
      "outputs": []
    },
    {
      "cell_type": "markdown",
      "source": [
        "Strip the spaces from the column names."
      ],
      "metadata": {
        "id": "ZeOg1NivQ7ta"
      }
    },
    {
      "cell_type": "code",
      "source": [
        "# remove special character\n",
        "df_topshot.columns = df_topshot.columns.str.replace(' ', '')\n",
        "df_topshot.columns"
      ],
      "metadata": {
        "colab": {
          "base_uri": "https://localhost:8080/"
        },
        "id": "yWE5O0jGQ7Uq",
        "outputId": "4c3b9243-8016-4d6b-d079-e767fc384181"
      },
      "execution_count": null,
      "outputs": [
        {
          "output_type": "execute_result",
          "data": {
            "text/plain": [
              "Index(['Unnamed:0', 'MomentType', 'MomentDate', 'Team', 'LowestAsk',\n",
              "       'NumListings', 'MomentRarity', 'EditionSize', 'LimitedEdition',\n",
              "       'Series'],\n",
              "      dtype='object')"
            ]
          },
          "metadata": {},
          "execution_count": 5
        }
      ]
    },
    {
      "cell_type": "markdown",
      "source": [
        "Below we plot a few histograms to get a initial idea of the data distributions. We want to see of all the cards ('Moments'), how many are rare, which teams they belong to, and what type of play it is. "
      ],
      "metadata": {
        "id": "Plt7-fndRB25"
      }
    },
    {
      "cell_type": "code",
      "source": [
        "sns.set()\n",
        "sns.set_style('ticks')\n",
        "sns.set_palette(\"bright\")\n",
        "sns.set(rc={'figure.figsize':(6,4)})\n",
        "sns.histplot(data=df_topshot, x=df_topshot['MomentType'])\n",
        "plt.xticks(rotation=-45)"
      ],
      "metadata": {
        "colab": {
          "base_uri": "https://localhost:8080/",
          "height": 339
        },
        "id": "AP2ZxDbO7sX1",
        "outputId": "64f7e905-ed5d-4ee7-8b5a-578b81403614"
      },
      "execution_count": null,
      "outputs": [
        {
          "output_type": "execute_result",
          "data": {
            "text/plain": [
              "([0, 1, 2, 3, 4, 5, 6, 7], <a list of 8 Text major ticklabel objects>)"
            ]
          },
          "metadata": {},
          "execution_count": 9
        },
        {
          "output_type": "display_data",
          "data": {
            "text/plain": [
              "<Figure size 432x288 with 1 Axes>"
            ],
            "image/png": "[encoded data removed]"
          },
          "metadata": {}
        }
      ]
    },
    {
      "cell_type": "code",
      "source": [
        "sns.histplot(data=df_topshot, x=df_topshot['MomentRarity'])\n",
        "plt.xticks(rotation=-45)"
      ],
      "metadata": {
        "outputId": "5eb1483e-8eb6-404c-b35b-25299a101da9",
        "colab": {
          "base_uri": "https://localhost:8080/",
          "height": 340
        },
        "id": "0zXJI6XK8F6U"
      },
      "execution_count": null,
      "outputs": [
        {
          "output_type": "execute_result",
          "data": {
            "text/plain": [
              "([0, 1, 2], <a list of 3 Text major ticklabel objects>)"
            ]
          },
          "metadata": {},
          "execution_count": 7
        },
        {
          "output_type": "display_data",
          "data": {
            "text/plain": [
              "<Figure size 432x288 with 1 Axes>"
            ],
            "image/png": "[encoded data removed]"
          },
          "metadata": {}
        }
      ]
    },
    {
      "cell_type": "code",
      "metadata": {
        "id": "AtEp7bth-2hF",
        "outputId": "4c10f62b-4f45-4675-c859-e25863839f20",
        "colab": {
          "base_uri": "https://localhost:8080/",
          "height": 350
        }
      },
      "source": [
        "sns.boxplot(data=df_topshot, x='MomentRarity', y='LowestAsk')\n",
        "plt.xticks(rotation=-60)"
      ],
      "execution_count": null,
      "outputs": [
        {
          "output_type": "execute_result",
          "data": {
            "text/plain": [
              "(array([0, 1, 2]), <a list of 3 Text major ticklabel objects>)"
            ]
          },
          "metadata": {},
          "execution_count": 8
        },
        {
          "output_type": "display_data",
          "data": {
            "text/plain": [
              "<Figure size 432x288 with 1 Axes>"
            ],
            "image/png": "[encoded data removed]"
          },
          "metadata": {}
        }
      ]
    },
    {
      "cell_type": "markdown",
      "source": [
        "I left this box plot in as it shows how much a few strong outliers could possibly skew the whole data set. It could be possible that these outliers cause our model to be more accurate in different areas of the price spectrum."
      ],
      "metadata": {
        "id": "YrF5BXAyTLOr"
      }
    },
    {
      "cell_type": "code",
      "source": [
        "sns.scatterplot(data=df_topshot, x='MomentType', y='LowestAsk', hue='MomentRarity')\n",
        "plt.xticks(rotation=-45)"
      ],
      "metadata": {
        "id": "-fYcUholTxCW",
        "outputId": "36917121-9838-450b-c186-fcf603445437",
        "colab": {
          "base_uri": "https://localhost:8080/",
          "height": 341
        }
      },
      "execution_count": null,
      "outputs": [
        {
          "output_type": "execute_result",
          "data": {
            "text/plain": [
              "([0, 1, 2, 3, 4, 5, 6, 7], <a list of 8 Text major ticklabel objects>)"
            ]
          },
          "metadata": {},
          "execution_count": 12
        },
        {
          "output_type": "display_data",
          "data": {
            "text/plain": [
              "<Figure size 432x288 with 1 Axes>"
            ],
            "image/png": "[encoded data removed]"
          },
          "metadata": {}
        }
      ]
    },
    {
      "cell_type": "code",
      "source": [
        "sns.displot(df_topshot, y='LowestAsk')"
      ],
      "metadata": {
        "id": "o-gUKi4JVtEA",
        "outputId": "98718d5d-47ee-47bd-d56f-e1a728cf08d8",
        "colab": {
          "base_uri": "https://localhost:8080/",
          "height": 382
        }
      },
      "execution_count": null,
      "outputs": [
        {
          "output_type": "execute_result",
          "data": {
            "text/plain": [
              "<seaborn.axisgrid.FacetGrid at 0x7fab8ad7d990>"
            ]
          },
          "metadata": {},
          "execution_count": 13
        },
        {
          "output_type": "display_data",
          "data": {
            "text/plain": [
              "<Figure size 360x360 with 1 Axes>"
            ],
            "image/png": "[encoded data removed]"
          },
          "metadata": {}
        }
      ]
    },
    {
      "cell_type": "markdown",
      "source": [
        "We can see from this distribution plot that the majority of the cards are likely less than $20 000. Some small amount of cards are much more than that and cause our plots to be very zoomed out. Let's replot with a subset of the data."
      ],
      "metadata": {
        "id": "rcP1WBkCWEeY"
      }
    },
    {
      "cell_type": "code",
      "source": [
        "sns.displot(df_topshot[df_topshot['LowestAsk']<25000], y='LowestAsk')"
      ],
      "metadata": {
        "id": "F3zmE77nV7JA",
        "outputId": "a1603957-fd2c-405b-d77b-18bbf926ca5d",
        "colab": {
          "base_uri": "https://localhost:8080/",
          "height": 382
        }
      },
      "execution_count": null,
      "outputs": [
        {
          "output_type": "execute_result",
          "data": {
            "text/plain": [
              "<seaborn.axisgrid.FacetGrid at 0x7f7d8434ae10>"
            ]
          },
          "metadata": {},
          "execution_count": 137
        },
        {
          "output_type": "display_data",
          "data": {
            "text/plain": [
              "<Figure size 360x360 with 1 Axes>"
            ],
            "image/png": "[encoded data removed]"
          },
          "metadata": {}
        }
      ]
    },
    {
      "cell_type": "markdown",
      "source": [
        "Lets look at the data from zero to one standard deviation above the mean. This will include ~83% of our data. This is a somewhat arbitrary cutoff but should help us visualize the prices better. "
      ],
      "metadata": {
        "id": "Pl2yLDlzXsv2"
      }
    },
    {
      "cell_type": "code",
      "source": [
        "one_sigma = df_topshot['LowestAsk'].mean() + df_topshot['LowestAsk'].std()\n",
        "print(round(one_sigma))\n",
        "sns.displot(df_topshot[df_topshot['LowestAsk']<one_sigma], y='LowestAsk')"
      ],
      "metadata": {
        "id": "h7kIV9zxVDNI",
        "outputId": "951034f0-ab69-4482-eb9e-48e9d381e255",
        "colab": {
          "base_uri": "https://localhost:8080/",
          "height": 400
        }
      },
      "execution_count": null,
      "outputs": [
        {
          "output_type": "stream",
          "name": "stdout",
          "text": [
            "28071\n"
          ]
        },
        {
          "output_type": "execute_result",
          "data": {
            "text/plain": [
              "<seaborn.axisgrid.FacetGrid at 0x7f7d83ecc250>"
            ]
          },
          "metadata": {},
          "execution_count": 138
        },
        {
          "output_type": "display_data",
          "data": {
            "text/plain": [
              "<Figure size 360x360 with 1 Axes>"
            ],
            "image/png": "[encoded data removed]"
          },
          "metadata": {}
        }
      ]
    },
    {
      "cell_type": "code",
      "metadata": {
        "id": "lMeA3Tdx_NY3",
        "outputId": "f1bfa144-450b-4b9b-fc11-ef3e4c42f6e6",
        "colab": {
          "base_uri": "https://localhost:8080/",
          "height": 362
        }
      },
      "source": [
        "sns.heatmap(df_topshot.corr().round(decimals=1), annot=True)"
      ],
      "execution_count": null,
      "outputs": [
        {
          "output_type": "execute_result",
          "data": {
            "text/plain": [
              "<matplotlib.axes._subplots.AxesSubplot at 0x7f7d83ecc590>"
            ]
          },
          "metadata": {},
          "execution_count": 139
        },
        {
          "output_type": "display_data",
          "data": {
            "text/plain": [
              "<Figure size 432x288 with 2 Axes>"
            ],
            "image/png": "[encoded data removed]"
          },
          "metadata": {}
        }
      ]
    },
    {
      "cell_type": "markdown",
      "source": [
        "This correlation heat map shows only a few of the variables as most are not numeric. We will recreate the heatmap once we have done some pre-processing on our data. The strong negative correlation between Edition Size and Limited Edition is obvious and should be expected. It is interesting seeing a zero correlation between price (Lowest Ask) and Limited Edition. My first inference would be they would have a strong, positive correlation."
      ],
      "metadata": {
        "id": "bSpnLu_z5Z22"
      }
    },
    {
      "cell_type": "markdown",
      "metadata": {
        "id": "p6skEOWhAKDQ"
      },
      "source": [
        "## <font color='lightblue'>Data preprocessing </font>"
      ]
    },
    {
      "cell_type": "markdown",
      "source": [
        "Turn the date into an ordinal variable. To do so we iterate through the rows and split the string into a list. We then reassign the year to the coloumn. "
      ],
      "metadata": {
        "id": "mfZpOdGW2Y8s"
      }
    },
    {
      "cell_type": "code",
      "source": [
        "import datetime\n",
        "\n",
        "for (index, row) in df_topshot.iterrows():\n",
        "  date = df_topshot.loc[index, 'MomentDate'].split()\n",
        "  year = date[2]\n",
        "  df_topshot.loc[index, 'MomentDate'] = year\n",
        "\n",
        "df_topshot['MomentDate'].head()"
      ],
      "metadata": {
        "colab": {
          "base_uri": "https://localhost:8080/"
        },
        "id": "VXvqFXjf4_8_",
        "outputId": "1f64ea08-56d4-4c55-a553-577d26b0697f"
      },
      "execution_count": null,
      "outputs": [
        {
          "output_type": "execute_result",
          "data": {
            "text/plain": [
              "0    2020\n",
              "1    2020\n",
              "2    2020\n",
              "3    2020\n",
              "4    2020\n",
              "Name: MomentDate, dtype: object"
            ]
          },
          "metadata": {},
          "execution_count": 35
        }
      ]
    },
    {
      "cell_type": "markdown",
      "source": [
        "Below we use one hot encoding to convert teams and play type into binary columns. We will use ordinal encoding to convert rarity as the levels of rarity are sequential and can be ordered. "
      ],
      "metadata": {
        "id": "EZRaSugLf9mN"
      }
    },
    {
      "cell_type": "code",
      "metadata": {
        "id": "eX5ZT6sFBUC0",
        "outputId": "eb6787c3-3301-44be-b18f-d32f75efa797",
        "colab": {
          "base_uri": "https://localhost:8080/",
          "height": 424
        }
      },
      "source": [
        "#build the ordinal encoder\n",
        "encoder = OrdinalEncoder()\n",
        "df_topshot[['MomentRarity', 'MomentDate']] = encoder.fit_transform(df_topshot[['MomentRarity', 'MomentDate']])\n",
        "df_topshot[['MomentRarity', 'MomentDate']]"
      ],
      "execution_count": null,
      "outputs": [
        {
          "output_type": "execute_result",
          "data": {
            "text/plain": [
              "     MomentRarity  MomentDate\n",
              "0             1.0         3.0\n",
              "1             1.0         3.0\n",
              "2             1.0         3.0\n",
              "3             1.0         3.0\n",
              "4             1.0         3.0\n",
              "..            ...         ...\n",
              "880           0.0         4.0\n",
              "881           0.0         4.0\n",
              "882           0.0         4.0\n",
              "883           0.0         4.0\n",
              "884           0.0         4.0\n",
              "\n",
              "[885 rows x 2 columns]"
            ],
            "text/html": [
              "\n",
              "  <div id=\"df-86999341-d416-43f9-8301-bf2a8e8badd9\">\n",
              "    <div class=\"colab-df-container\">\n",
              "      <div>\n",
              "<style scoped>\n",
              "    .dataframe tbody tr th:only-of-type {\n",
              "        vertical-align: middle;\n",
              "    }\n",
              "\n",
              "    .dataframe tbody tr th {\n",
              "        vertical-align: top;\n",
              "    }\n",
              "\n",
              "    .dataframe thead th {\n",
              "        text-align: right;\n",
              "    }\n",
              "</style>\n",
              "<table border=\"1\" class=\"dataframe\">\n",
              "  <thead>\n",
              "    <tr style=\"text-align: right;\">\n",
              "      <th></th>\n",
              "      <th>MomentRarity</th>\n",
              "      <th>MomentDate</th>\n",
              "    </tr>\n",
              "  </thead>\n",
              "  <tbody>\n",
              "    <tr>\n",
              "      <th>0</th>\n",
              "      <td>1.0</td>\n",
              "      <td>3.0</td>\n",
              "    </tr>\n",
              "    <tr>\n",
              "      <th>1</th>\n",
              "      <td>1.0</td>\n",
              "      <td>3.0</td>\n",
              "    </tr>\n",
              "    <tr>\n",
              "      <th>2</th>\n",
              "      <td>1.0</td>\n",
              "      <td>3.0</td>\n",
              "    </tr>\n",
              "    <tr>\n",
              "      <th>3</th>\n",
              "      <td>1.0</td>\n",
              "      <td>3.0</td>\n",
              "    </tr>\n",
              "    <tr>\n",
              "      <th>4</th>\n",
              "      <td>1.0</td>\n",
              "      <td>3.0</td>\n",
              "    </tr>\n",
              "    <tr>\n",
              "      <th>...</th>\n",
              "      <td>...</td>\n",
              "      <td>...</td>\n",
              "    </tr>\n",
              "    <tr>\n",
              "      <th>880</th>\n",
              "      <td>0.0</td>\n",
              "      <td>4.0</td>\n",
              "    </tr>\n",
              "    <tr>\n",
              "      <th>881</th>\n",
              "      <td>0.0</td>\n",
              "      <td>4.0</td>\n",
              "    </tr>\n",
              "    <tr>\n",
              "      <th>882</th>\n",
              "      <td>0.0</td>\n",
              "      <td>4.0</td>\n",
              "    </tr>\n",
              "    <tr>\n",
              "      <th>883</th>\n",
              "      <td>0.0</td>\n",
              "      <td>4.0</td>\n",
              "    </tr>\n",
              "    <tr>\n",
              "      <th>884</th>\n",
              "      <td>0.0</td>\n",
              "      <td>4.0</td>\n",
              "    </tr>\n",
              "  </tbody>\n",
              "</table>\n",
              "<p>885 rows × 2 columns</p>\n",
              "</div>\n",
              "      <button class=\"colab-df-convert\" onclick=\"convertToInteractive('df-86999341-d416-43f9-8301-bf2a8e8badd9')\"\n",
              "              title=\"Convert this dataframe to an interactive table.\"\n",
              "              style=\"display:none;\">\n",
              "        \n",
              "  <svg xmlns=\"http://www.w3.org/2000/svg\" height=\"24px\"viewBox=\"0 0 24 24\"\n",
              "       width=\"24px\">\n",
              "    <path d=\"M0 0h24v24H0V0z\" fill=\"none\"/>\n",
              "    <path d=\"M18.56 5.44l.94 2.06.94-2.06 2.06-.94-2.06-.94-.94-2.06-.94 2.06-2.06.94zm-11 1L8.5 8.5l.94-2.06 2.06-.94-2.06-.94L8.5 2.5l-.94 2.06-2.06.94zm10 10l.94 2.06.94-2.06 2.06-.94-2.06-.94-.94-2.06-.94 2.06-2.06.94z\"/><path d=\"M17.41 7.96l-1.37-1.37c-.4-.4-.92-.59-1.43-.59-.52 0-1.04.2-1.43.59L10.3 9.45l-7.72 7.72c-.78.78-.78 2.05 0 2.83L4 21.41c.39.39.9.59 1.41.59.51 0 1.02-.2 1.41-.59l7.78-7.78 2.81-2.81c.8-.78.8-2.07 0-2.86zM5.41 20L4 18.59l7.72-7.72 1.47 1.35L5.41 20z\"/>\n",
              "  </svg>\n",
              "      </button>\n",
              "      \n",
              "  <style>\n",
              "    .colab-df-container {\n",
              "      display:flex;\n",
              "      flex-wrap:wrap;\n",
              "      gap: 12px;\n",
              "    }\n",
              "\n",
              "    .colab-df-convert {\n",
              "      background-color: #E8F0FE;\n",
              "      border: none;\n",
              "      border-radius: 50%;\n",
              "      cursor: pointer;\n",
              "      display: none;\n",
              "      fill: #1967D2;\n",
              "      height: 32px;\n",
              "      padding: 0 0 0 0;\n",
              "      width: 32px;\n",
              "    }\n",
              "\n",
              "    .colab-df-convert:hover {\n",
              "      background-color: #E2EBFA;\n",
              "      box-shadow: 0px 1px 2px rgba(60, 64, 67, 0.3), 0px 1px 3px 1px rgba(60, 64, 67, 0.15);\n",
              "      fill: #174EA6;\n",
              "    }\n",
              "\n",
              "    [theme=dark] .colab-df-convert {\n",
              "      background-color: #3B4455;\n",
              "      fill: #D2E3FC;\n",
              "    }\n",
              "\n",
              "    [theme=dark] .colab-df-convert:hover {\n",
              "      background-color: #434B5C;\n",
              "      box-shadow: 0px 1px 3px 1px rgba(0, 0, 0, 0.15);\n",
              "      filter: drop-shadow(0px 1px 2px rgba(0, 0, 0, 0.3));\n",
              "      fill: #FFFFFF;\n",
              "    }\n",
              "  </style>\n",
              "\n",
              "      <script>\n",
              "        const buttonEl =\n",
              "          document.querySelector('#df-86999341-d416-43f9-8301-bf2a8e8badd9 button.colab-df-convert');\n",
              "        buttonEl.style.display =\n",
              "          google.colab.kernel.accessAllowed ? 'block' : 'none';\n",
              "\n",
              "        async function convertToInteractive(key) {\n",
              "          const element = document.querySelector('#df-86999341-d416-43f9-8301-bf2a8e8badd9');\n",
              "          const dataTable =\n",
              "            await google.colab.kernel.invokeFunction('convertToInteractive',\n",
              "                                                     [key], {});\n",
              "          if (!dataTable) return;\n",
              "\n",
              "          const docLinkHtml = 'Like what you see? Visit the ' +\n",
              "            '<a target=\"_blank\" href=https://colab.research.google.com/notebooks/data_table.ipynb>data table notebook</a>'\n",
              "            + ' to learn more about interactive tables.';\n",
              "          element.innerHTML = '';\n",
              "          dataTable['output_type'] = 'display_data';\n",
              "          await google.colab.output.renderOutput(dataTable, element);\n",
              "          const docLink = document.createElement('div');\n",
              "          docLink.innerHTML = docLinkHtml;\n",
              "          element.appendChild(docLink);\n",
              "        }\n",
              "      </script>\n",
              "    </div>\n",
              "  </div>\n",
              "  "
            ]
          },
          "metadata": {},
          "execution_count": 38
        }
      ]
    },
    {
      "cell_type": "markdown",
      "source": [
        "Rename the first column to be more representative."
      ],
      "metadata": {
        "id": "3_7WY9k0tDVw"
      }
    },
    {
      "cell_type": "code",
      "source": [
        "df_topshot.rename( columns={'Unnamed:0':'Player'}, inplace=True )\n"
      ],
      "metadata": {
        "id": "kQbD7N6Pz6v3"
      },
      "execution_count": null,
      "outputs": []
    },
    {
      "cell_type": "code",
      "source": [
        "one_hot_columns = ['Player','MomentType', 'Team', 'LimitedEdition', 'Series']\n",
        "df_cat = pd.get_dummies(df_topshot[one_hot_columns])\n",
        "df_topshot = pd.concat([df_topshot, df_cat], axis =1)\n",
        "df_topshot.head()"
      ],
      "metadata": {
        "id": "4QRxb34JhdiF",
        "outputId": "d958dfbc-67ce-40d6-e602-adc82086e6ce",
        "colab": {
          "base_uri": "https://localhost:8080/",
          "height": 699
        }
      },
      "execution_count": null,
      "outputs": [
        {
          "output_type": "execute_result",
          "data": {
            "text/plain": [
              "         Player MomentType  MomentDate  Team  LowestAsk  NumListings  \\\n",
              "0   DANNY GREEN     Assist         3.0   LAL       4875           15   \n",
              "1   TYLER HERRO      Layup         3.0   MIA      13999           12   \n",
              "2  LEBRON JAMES       Dunk         3.0   LAL      70000            7   \n",
              "3  JIMMY BUTLER       Dunk         3.0   MIA      10995           11   \n",
              "4   RAJON RONDO     Assist         3.0   LAL       7995            9   \n",
              "\n",
              "   MomentRarity  EditionSize  LimitedEdition                      Series  ...  \\\n",
              "0           1.0           79            True  2020 NBA Finals (Series 1)  ...   \n",
              "1           1.0           79            True  2020 NBA Finals (Series 1)  ...   \n",
              "2           1.0           79            True  2020 NBA Finals (Series 1)  ...   \n",
              "3           1.0           79            True  2020 NBA Finals (Series 1)  ...   \n",
              "4           1.0           79            True  2020 NBA Finals (Series 1)  ...   \n",
              "\n",
              "   Series_Rookie Debut (Series 1)  Series_Run It Back (Series 1)  \\\n",
              "0                               0                              0   \n",
              "1                               0                              0   \n",
              "2                               0                              0   \n",
              "3                               0                              0   \n",
              "4                               0                              0   \n",
              "\n",
              "   Series_Season Tip-off (Series 2)  Series_Seeing Stars (Series 2)  \\\n",
              "0                                 0                               0   \n",
              "1                                 0                               0   \n",
              "2                                 0                               0   \n",
              "3                                 0                               0   \n",
              "4                                 0                               0   \n",
              "\n",
              "   Series_So Fresh (Series 1)  Series_The Finals (Series 1)  \\\n",
              "0                           0                             0   \n",
              "1                           0                             0   \n",
              "2                           0                             0   \n",
              "3                           0                             0   \n",
              "4                           0                             0   \n",
              "\n",
              "   Series_The Gift (Series 2)  Series_Throwdowns (Series 1)  \\\n",
              "0                           0                             0   \n",
              "1                           0                             0   \n",
              "2                           0                             0   \n",
              "3                           0                             0   \n",
              "4                           0                             0   \n",
              "\n",
              "   Series_Western Conference Finals (Series 1)  \\\n",
              "0                                            0   \n",
              "1                                            0   \n",
              "2                                            0   \n",
              "3                                            0   \n",
              "4                                            0   \n",
              "\n",
              "   Series_With the Strip (Series 1)  \n",
              "0                                 0  \n",
              "1                                 0  \n",
              "2                                 0  \n",
              "3                                 0  \n",
              "4                                 0  \n",
              "\n",
              "[5 rows x 322 columns]"
            ],
            "text/html": [
              "\n",
              "  <div id=\"df-20643b9d-1e71-4625-97bc-fe8a6df4437d\">\n",
              "    <div class=\"colab-df-container\">\n",
              "      <div>\n",
              "<style scoped>\n",
              "    .dataframe tbody tr th:only-of-type {\n",
              "        vertical-align: middle;\n",
              "    }\n",
              "\n",
              "    .dataframe tbody tr th {\n",
              "        vertical-align: top;\n",
              "    }\n",
              "\n",
              "    .dataframe thead th {\n",
              "        text-align: right;\n",
              "    }\n",
              "</style>\n",
              "<table border=\"1\" class=\"dataframe\">\n",
              "  <thead>\n",
              "    <tr style=\"text-align: right;\">\n",
              "      <th></th>\n",
              "      <th>Player</th>\n",
              "      <th>MomentType</th>\n",
              "      <th>MomentDate</th>\n",
              "      <th>Team</th>\n",
              "      <th>LowestAsk</th>\n",
              "      <th>NumListings</th>\n",
              "      <th>MomentRarity</th>\n",
              "      <th>EditionSize</th>\n",
              "      <th>LimitedEdition</th>\n",
              "      <th>Series</th>\n",
              "      <th>...</th>\n",
              "      <th>Series_Rookie Debut (Series 1)</th>\n",
              "      <th>Series_Run It Back (Series 1)</th>\n",
              "      <th>Series_Season Tip-off (Series 2)</th>\n",
              "      <th>Series_Seeing Stars (Series 2)</th>\n",
              "      <th>Series_So Fresh (Series 1)</th>\n",
              "      <th>Series_The Finals (Series 1)</th>\n",
              "      <th>Series_The Gift (Series 2)</th>\n",
              "      <th>Series_Throwdowns (Series 1)</th>\n",
              "      <th>Series_Western Conference Finals (Series 1)</th>\n",
              "      <th>Series_With the Strip (Series 1)</th>\n",
              "    </tr>\n",
              "  </thead>\n",
              "  <tbody>\n",
              "    <tr>\n",
              "      <th>0</th>\n",
              "      <td>DANNY GREEN</td>\n",
              "      <td>Assist</td>\n",
              "      <td>3.0</td>\n",
              "      <td>LAL</td>\n",
              "      <td>4875</td>\n",
              "      <td>15</td>\n",
              "      <td>1.0</td>\n",
              "      <td>79</td>\n",
              "      <td>True</td>\n",
              "      <td>2020 NBA Finals (Series 1)</td>\n",
              "      <td>...</td>\n",
              "      <td>0</td>\n",
              "      <td>0</td>\n",
              "      <td>0</td>\n",
              "      <td>0</td>\n",
              "      <td>0</td>\n",
              "      <td>0</td>\n",
              "      <td>0</td>\n",
              "      <td>0</td>\n",
              "      <td>0</td>\n",
              "      <td>0</td>\n",
              "    </tr>\n",
              "    <tr>\n",
              "      <th>1</th>\n",
              "      <td>TYLER HERRO</td>\n",
              "      <td>Layup</td>\n",
              "      <td>3.0</td>\n",
              "      <td>MIA</td>\n",
              "      <td>13999</td>\n",
              "      <td>12</td>\n",
              "      <td>1.0</td>\n",
              "      <td>79</td>\n",
              "      <td>True</td>\n",
              "      <td>2020 NBA Finals (Series 1)</td>\n",
              "      <td>...</td>\n",
              "      <td>0</td>\n",
              "      <td>0</td>\n",
              "      <td>0</td>\n",
              "      <td>0</td>\n",
              "      <td>0</td>\n",
              "      <td>0</td>\n",
              "      <td>0</td>\n",
              "      <td>0</td>\n",
              "      <td>0</td>\n",
              "      <td>0</td>\n",
              "    </tr>\n",
              "    <tr>\n",
              "      <th>2</th>\n",
              "      <td>LEBRON JAMES</td>\n",
              "      <td>Dunk</td>\n",
              "      <td>3.0</td>\n",
              "      <td>LAL</td>\n",
              "      <td>70000</td>\n",
              "      <td>7</td>\n",
              "      <td>1.0</td>\n",
              "      <td>79</td>\n",
              "      <td>True</td>\n",
              "      <td>2020 NBA Finals (Series 1)</td>\n",
              "      <td>...</td>\n",
              "      <td>0</td>\n",
              "      <td>0</td>\n",
              "      <td>0</td>\n",
              "      <td>0</td>\n",
              "      <td>0</td>\n",
              "      <td>0</td>\n",
              "      <td>0</td>\n",
              "      <td>0</td>\n",
              "      <td>0</td>\n",
              "      <td>0</td>\n",
              "    </tr>\n",
              "    <tr>\n",
              "      <th>3</th>\n",
              "      <td>JIMMY BUTLER</td>\n",
              "      <td>Dunk</td>\n",
              "      <td>3.0</td>\n",
              "      <td>MIA</td>\n",
              "      <td>10995</td>\n",
              "      <td>11</td>\n",
              "      <td>1.0</td>\n",
              "      <td>79</td>\n",
              "      <td>True</td>\n",
              "      <td>2020 NBA Finals (Series 1)</td>\n",
              "      <td>...</td>\n",
              "      <td>0</td>\n",
              "      <td>0</td>\n",
              "      <td>0</td>\n",
              "      <td>0</td>\n",
              "      <td>0</td>\n",
              "      <td>0</td>\n",
              "      <td>0</td>\n",
              "      <td>0</td>\n",
              "      <td>0</td>\n",
              "      <td>0</td>\n",
              "    </tr>\n",
              "    <tr>\n",
              "      <th>4</th>\n",
              "      <td>RAJON RONDO</td>\n",
              "      <td>Assist</td>\n",
              "      <td>3.0</td>\n",
              "      <td>LAL</td>\n",
              "      <td>7995</td>\n",
              "      <td>9</td>\n",
              "      <td>1.0</td>\n",
              "      <td>79</td>\n",
              "      <td>True</td>\n",
              "      <td>2020 NBA Finals (Series 1)</td>\n",
              "      <td>...</td>\n",
              "      <td>0</td>\n",
              "      <td>0</td>\n",
              "      <td>0</td>\n",
              "      <td>0</td>\n",
              "      <td>0</td>\n",
              "      <td>0</td>\n",
              "      <td>0</td>\n",
              "      <td>0</td>\n",
              "      <td>0</td>\n",
              "      <td>0</td>\n",
              "    </tr>\n",
              "  </tbody>\n",
              "</table>\n",
              "<p>5 rows × 322 columns</p>\n",
              "</div>\n",
              "      <button class=\"colab-df-convert\" onclick=\"convertToInteractive('df-20643b9d-1e71-4625-97bc-fe8a6df4437d')\"\n",
              "              title=\"Convert this dataframe to an interactive table.\"\n",
              "              style=\"display:none;\">\n",
              "        \n",
              "  <svg xmlns=\"http://www.w3.org/2000/svg\" height=\"24px\"viewBox=\"0 0 24 24\"\n",
              "       width=\"24px\">\n",
              "    <path d=\"M0 0h24v24H0V0z\" fill=\"none\"/>\n",
              "    <path d=\"M18.56 5.44l.94 2.06.94-2.06 2.06-.94-2.06-.94-.94-2.06-.94 2.06-2.06.94zm-11 1L8.5 8.5l.94-2.06 2.06-.94-2.06-.94L8.5 2.5l-.94 2.06-2.06.94zm10 10l.94 2.06.94-2.06 2.06-.94-2.06-.94-.94-2.06-.94 2.06-2.06.94z\"/><path d=\"M17.41 7.96l-1.37-1.37c-.4-.4-.92-.59-1.43-.59-.52 0-1.04.2-1.43.59L10.3 9.45l-7.72 7.72c-.78.78-.78 2.05 0 2.83L4 21.41c.39.39.9.59 1.41.59.51 0 1.02-.2 1.41-.59l7.78-7.78 2.81-2.81c.8-.78.8-2.07 0-2.86zM5.41 20L4 18.59l7.72-7.72 1.47 1.35L5.41 20z\"/>\n",
              "  </svg>\n",
              "      </button>\n",
              "      \n",
              "  <style>\n",
              "    .colab-df-container {\n",
              "      display:flex;\n",
              "      flex-wrap:wrap;\n",
              "      gap: 12px;\n",
              "    }\n",
              "\n",
              "    .colab-df-convert {\n",
              "      background-color: #E8F0FE;\n",
              "      border: none;\n",
              "      border-radius: 50%;\n",
              "      cursor: pointer;\n",
              "      display: none;\n",
              "      fill: #1967D2;\n",
              "      height: 32px;\n",
              "      padding: 0 0 0 0;\n",
              "      width: 32px;\n",
              "    }\n",
              "\n",
              "    .colab-df-convert:hover {\n",
              "      background-color: #E2EBFA;\n",
              "      box-shadow: 0px 1px 2px rgba(60, 64, 67, 0.3), 0px 1px 3px 1px rgba(60, 64, 67, 0.15);\n",
              "      fill: #174EA6;\n",
              "    }\n",
              "\n",
              "    [theme=dark] .colab-df-convert {\n",
              "      background-color: #3B4455;\n",
              "      fill: #D2E3FC;\n",
              "    }\n",
              "\n",
              "    [theme=dark] .colab-df-convert:hover {\n",
              "      background-color: #434B5C;\n",
              "      box-shadow: 0px 1px 3px 1px rgba(0, 0, 0, 0.15);\n",
              "      filter: drop-shadow(0px 1px 2px rgba(0, 0, 0, 0.3));\n",
              "      fill: #FFFFFF;\n",
              "    }\n",
              "  </style>\n",
              "\n",
              "      <script>\n",
              "        const buttonEl =\n",
              "          document.querySelector('#df-20643b9d-1e71-4625-97bc-fe8a6df4437d button.colab-df-convert');\n",
              "        buttonEl.style.display =\n",
              "          google.colab.kernel.accessAllowed ? 'block' : 'none';\n",
              "\n",
              "        async function convertToInteractive(key) {\n",
              "          const element = document.querySelector('#df-20643b9d-1e71-4625-97bc-fe8a6df4437d');\n",
              "          const dataTable =\n",
              "            await google.colab.kernel.invokeFunction('convertToInteractive',\n",
              "                                                     [key], {});\n",
              "          if (!dataTable) return;\n",
              "\n",
              "          const docLinkHtml = 'Like what you see? Visit the ' +\n",
              "            '<a target=\"_blank\" href=https://colab.research.google.com/notebooks/data_table.ipynb>data table notebook</a>'\n",
              "            + ' to learn more about interactive tables.';\n",
              "          element.innerHTML = '';\n",
              "          dataTable['output_type'] = 'display_data';\n",
              "          await google.colab.output.renderOutput(dataTable, element);\n",
              "          const docLink = document.createElement('div');\n",
              "          docLink.innerHTML = docLinkHtml;\n",
              "          element.appendChild(docLink);\n",
              "        }\n",
              "      </script>\n",
              "    </div>\n",
              "  </div>\n",
              "  "
            ]
          },
          "metadata": {},
          "execution_count": 41
        }
      ]
    },
    {
      "cell_type": "markdown",
      "source": [
        "Drop the columns used to create one hot encoding, as the model can't deal with strings. "
      ],
      "metadata": {
        "id": "jqLIVjcL1MQR"
      }
    },
    {
      "cell_type": "code",
      "source": [
        "df_topshot.drop(one_hot_columns, axis=1, inplace=True)\n"
      ],
      "metadata": {
        "id": "wm0HHsTJ1Cod"
      },
      "execution_count": null,
      "outputs": []
    },
    {
      "cell_type": "markdown",
      "source": [
        "Below we will split our data into a training and testing dataset. This allows us to tune our model for general use, without overfitting to our specific data."
      ],
      "metadata": {
        "id": "6u3bG4UWYLV4"
      }
    },
    {
      "cell_type": "code",
      "metadata": {
        "id": "4QCvqICNBUie"
      },
      "source": [
        "x = df_topshot.drop('LowestAsk', axis=1) #All the data we will feed into the model to predict price\n",
        "y = df_topshot['LowestAsk']  #The price we are attempting to predict\n",
        "\n",
        "x_train, x_test, y_train, y_test = train_test_split(x, y, test_size = 0.2)"
      ],
      "execution_count": null,
      "outputs": []
    },
    {
      "cell_type": "markdown",
      "source": [
        "Below we want to scale our Number of Listing and Edition Size columns so all numeric values are normalized. Doing this ensures that larger numbers do not arbitrarily carry a larger prediciton weighting when building our models."
      ],
      "metadata": {
        "id": "jODjHaUMtVGz"
      }
    },
    {
      "cell_type": "code",
      "metadata": {
        "id": "t4eOtTprCBw7",
        "colab": {
          "base_uri": "https://localhost:8080/",
          "height": 540
        },
        "outputId": "1d9bbc93-629a-4a30-a33e-aa75990b12ef"
      },
      "source": [
        "from sklearn.preprocessing import StandardScaler\n",
        "\n",
        "#build scaler\n",
        "scaler = StandardScaler()\n",
        "\n",
        "#list of variables to scale\n",
        "scaling_columns = ['NumListings', 'EditionSize']\n",
        "#apply it\n",
        "\n",
        "x_train[scaling_columns] = scaler.fit_transform(x_train[scaling_columns])\n",
        "x_test[scaling_columns] = scaler.fit_transform(x_test[scaling_columns])\n",
        "\n",
        "x_train"
      ],
      "execution_count": null,
      "outputs": [
        {
          "output_type": "execute_result",
          "data": {
            "text/plain": [
              "     MomentDate  NumListings  MomentRarity  EditionSize  Player_AARON GORDON  \\\n",
              "841         4.0     1.211417           2.0     0.080256                    0   \n",
              "333         3.0    -0.448538           1.0    -0.364448                    0   \n",
              "379         3.0    -0.186139           0.0    -0.150105                    0   \n",
              "110         3.0    -0.146209           0.0    -0.053087                    0   \n",
              "169         2.0     0.270206           0.0     0.526540                    0   \n",
              "..          ...          ...           ...          ...                  ...   \n",
              "119         2.0     0.949019           0.0     0.526540                    0   \n",
              "779         4.0    -0.397199           1.0    -0.353392                    0   \n",
              "559         3.0    -0.374382           2.0    -0.308268                    0   \n",
              "714         2.0    -0.117688           2.0    -0.263143                    0   \n",
              "384         3.0    -0.243183           0.0    -0.150105                    0   \n",
              "\n",
              "     Player_AL HORFORD  Player_ALEX CARUSO  Player_AMAR'E STOUDEMIRE  \\\n",
              "841                  0                   0                         0   \n",
              "333                  0                   0                         0   \n",
              "379                  0                   0                         0   \n",
              "110                  0                   0                         0   \n",
              "169                  0                   0                         0   \n",
              "..                 ...                 ...                       ...   \n",
              "119                  0                   0                         0   \n",
              "779                  0                   0                         0   \n",
              "559                  0                   0                         0   \n",
              "714                  0                   0                         0   \n",
              "384                  0                   0                         0   \n",
              "\n",
              "     Player_ANDERSON VAREJÃO  Player_ANDRE DRUMMOND  ...  \\\n",
              "841                        0                      0  ...   \n",
              "333                        0                      0  ...   \n",
              "379                        0                      1  ...   \n",
              "110                        0                      0  ...   \n",
              "169                        0                      0  ...   \n",
              "..                       ...                    ...  ...   \n",
              "119                        0                      0  ...   \n",
              "779                        0                      0  ...   \n",
              "559                        0                      0  ...   \n",
              "714                        0                      0  ...   \n",
              "384                        0                      0  ...   \n",
              "\n",
              "     Series_Rookie Debut (Series 1)  Series_Run It Back (Series 1)  \\\n",
              "841                               0                              0   \n",
              "333                               0                              0   \n",
              "379                               0                              0   \n",
              "110                               0                              0   \n",
              "169                               0                              0   \n",
              "..                              ...                            ...   \n",
              "119                               0                              0   \n",
              "779                               0                              0   \n",
              "559                               0                              0   \n",
              "714                               0                              0   \n",
              "384                               0                              0   \n",
              "\n",
              "     Series_Season Tip-off (Series 2)  Series_Seeing Stars (Series 2)  \\\n",
              "841                                 0                               0   \n",
              "333                                 0                               0   \n",
              "379                                 0                               0   \n",
              "110                                 0                               0   \n",
              "169                                 0                               0   \n",
              "..                                ...                             ...   \n",
              "119                                 0                               0   \n",
              "779                                 0                               0   \n",
              "559                                 0                               0   \n",
              "714                                 0                               0   \n",
              "384                                 0                               0   \n",
              "\n",
              "     Series_So Fresh (Series 1)  Series_The Finals (Series 1)  \\\n",
              "841                           0                             0   \n",
              "333                           0                             0   \n",
              "379                           0                             0   \n",
              "110                           0                             0   \n",
              "169                           0                             0   \n",
              "..                          ...                           ...   \n",
              "119                           0                             0   \n",
              "779                           0                             0   \n",
              "559                           0                             0   \n",
              "714                           0                             0   \n",
              "384                           0                             0   \n",
              "\n",
              "     Series_The Gift (Series 2)  Series_Throwdowns (Series 1)  \\\n",
              "841                           0                             0   \n",
              "333                           0                             0   \n",
              "379                           0                             0   \n",
              "110                           0                             0   \n",
              "169                           0                             0   \n",
              "..                          ...                           ...   \n",
              "119                           0                             0   \n",
              "779                           0                             0   \n",
              "559                           0                             0   \n",
              "714                           0                             0   \n",
              "384                           0                             0   \n",
              "\n",
              "     Series_Western Conference Finals (Series 1)  \\\n",
              "841                                            0   \n",
              "333                                            0   \n",
              "379                                            0   \n",
              "110                                            0   \n",
              "169                                            0   \n",
              "..                                           ...   \n",
              "119                                            0   \n",
              "779                                            0   \n",
              "559                                            0   \n",
              "714                                            0   \n",
              "384                                            0   \n",
              "\n",
              "     Series_With the Strip (Series 1)  \n",
              "841                                 0  \n",
              "333                                 0  \n",
              "379                                 0  \n",
              "110                                 0  \n",
              "169                                 0  \n",
              "..                                ...  \n",
              "119                                 0  \n",
              "779                                 0  \n",
              "559                                 0  \n",
              "714                                 1  \n",
              "384                                 0  \n",
              "\n",
              "[708 rows x 315 columns]"
            ],
            "text/html": [
              "\n",
              "  <div id=\"df-ef040c22-3885-4c08-b0a7-f59be98a6941\">\n",
              "    <div class=\"colab-df-container\">\n",
              "      <div>\n",
              "<style scoped>\n",
              "    .dataframe tbody tr th:only-of-type {\n",
              "        vertical-align: middle;\n",
              "    }\n",
              "\n",
              "    .dataframe tbody tr th {\n",
              "        vertical-align: top;\n",
              "    }\n",
              "\n",
              "    .dataframe thead th {\n",
              "        text-align: right;\n",
              "    }\n",
              "</style>\n",
              "<table border=\"1\" class=\"dataframe\">\n",
              "  <thead>\n",
              "    <tr style=\"text-align: right;\">\n",
              "      <th></th>\n",
              "      <th>MomentDate</th>\n",
              "      <th>NumListings</th>\n",
              "      <th>MomentRarity</th>\n",
              "      <th>EditionSize</th>\n",
              "      <th>Player_AARON GORDON</th>\n",
              "      <th>Player_AL HORFORD</th>\n",
              "      <th>Player_ALEX CARUSO</th>\n",
              "      <th>Player_AMAR'E STOUDEMIRE</th>\n",
              "      <th>Player_ANDERSON VAREJÃO</th>\n",
              "      <th>Player_ANDRE DRUMMOND</th>\n",
              "      <th>...</th>\n",
              "      <th>Series_Rookie Debut (Series 1)</th>\n",
              "      <th>Series_Run It Back (Series 1)</th>\n",
              "      <th>Series_Season Tip-off (Series 2)</th>\n",
              "      <th>Series_Seeing Stars (Series 2)</th>\n",
              "      <th>Series_So Fresh (Series 1)</th>\n",
              "      <th>Series_The Finals (Series 1)</th>\n",
              "      <th>Series_The Gift (Series 2)</th>\n",
              "      <th>Series_Throwdowns (Series 1)</th>\n",
              "      <th>Series_Western Conference Finals (Series 1)</th>\n",
              "      <th>Series_With the Strip (Series 1)</th>\n",
              "    </tr>\n",
              "  </thead>\n",
              "  <tbody>\n",
              "    <tr>\n",
              "      <th>841</th>\n",
              "      <td>4.0</td>\n",
              "      <td>1.211417</td>\n",
              "      <td>2.0</td>\n",
              "      <td>0.080256</td>\n",
              "      <td>0</td>\n",
              "      <td>0</td>\n",
              "      <td>0</td>\n",
              "      <td>0</td>\n",
              "      <td>0</td>\n",
              "      <td>0</td>\n",
              "      <td>...</td>\n",
              "      <td>0</td>\n",
              "      <td>0</td>\n",
              "      <td>0</td>\n",
              "      <td>0</td>\n",
              "      <td>0</td>\n",
              "      <td>0</td>\n",
              "      <td>0</td>\n",
              "      <td>0</td>\n",
              "      <td>0</td>\n",
              "      <td>0</td>\n",
              "    </tr>\n",
              "    <tr>\n",
              "      <th>333</th>\n",
              "      <td>3.0</td>\n",
              "      <td>-0.448538</td>\n",
              "      <td>1.0</td>\n",
              "      <td>-0.364448</td>\n",
              "      <td>0</td>\n",
              "      <td>0</td>\n",
              "      <td>0</td>\n",
              "      <td>0</td>\n",
              "      <td>0</td>\n",
              "      <td>0</td>\n",
              "      <td>...</td>\n",
              "      <td>0</td>\n",
              "      <td>0</td>\n",
              "      <td>0</td>\n",
              "      <td>0</td>\n",
              "      <td>0</td>\n",
              "      <td>0</td>\n",
              "      <td>0</td>\n",
              "      <td>0</td>\n",
              "      <td>0</td>\n",
              "      <td>0</td>\n",
              "    </tr>\n",
              "    <tr>\n",
              "      <th>379</th>\n",
              "      <td>3.0</td>\n",
              "      <td>-0.186139</td>\n",
              "      <td>0.0</td>\n",
              "      <td>-0.150105</td>\n",
              "      <td>0</td>\n",
              "      <td>0</td>\n",
              "      <td>0</td>\n",
              "      <td>0</td>\n",
              "      <td>0</td>\n",
              "      <td>1</td>\n",
              "      <td>...</td>\n",
              "      <td>0</td>\n",
              "      <td>0</td>\n",
              "      <td>0</td>\n",
              "      <td>0</td>\n",
              "      <td>0</td>\n",
              "      <td>0</td>\n",
              "      <td>0</td>\n",
              "      <td>0</td>\n",
              "      <td>0</td>\n",
              "      <td>0</td>\n",
              "    </tr>\n",
              "    <tr>\n",
              "      <th>110</th>\n",
              "      <td>3.0</td>\n",
              "      <td>-0.146209</td>\n",
              "      <td>0.0</td>\n",
              "      <td>-0.053087</td>\n",
              "      <td>0</td>\n",
              "      <td>0</td>\n",
              "      <td>0</td>\n",
              "      <td>0</td>\n",
              "      <td>0</td>\n",
              "      <td>0</td>\n",
              "      <td>...</td>\n",
              "      <td>0</td>\n",
              "      <td>0</td>\n",
              "      <td>0</td>\n",
              "      <td>0</td>\n",
              "      <td>0</td>\n",
              "      <td>0</td>\n",
              "      <td>0</td>\n",
              "      <td>0</td>\n",
              "      <td>0</td>\n",
              "      <td>0</td>\n",
              "    </tr>\n",
              "    <tr>\n",
              "      <th>169</th>\n",
              "      <td>2.0</td>\n",
              "      <td>0.270206</td>\n",
              "      <td>0.0</td>\n",
              "      <td>0.526540</td>\n",
              "      <td>0</td>\n",
              "      <td>0</td>\n",
              "      <td>0</td>\n",
              "      <td>0</td>\n",
              "      <td>0</td>\n",
              "      <td>0</td>\n",
              "      <td>...</td>\n",
              "      <td>0</td>\n",
              "      <td>0</td>\n",
              "      <td>0</td>\n",
              "      <td>0</td>\n",
              "      <td>0</td>\n",
              "      <td>0</td>\n",
              "      <td>0</td>\n",
              "      <td>0</td>\n",
              "      <td>0</td>\n",
              "      <td>0</td>\n",
              "    </tr>\n",
              "    <tr>\n",
              "      <th>...</th>\n",
              "      <td>...</td>\n",
              "      <td>...</td>\n",
              "      <td>...</td>\n",
              "      <td>...</td>\n",
              "      <td>...</td>\n",
              "      <td>...</td>\n",
              "      <td>...</td>\n",
              "      <td>...</td>\n",
              "      <td>...</td>\n",
              "      <td>...</td>\n",
              "      <td>...</td>\n",
              "      <td>...</td>\n",
              "      <td>...</td>\n",
              "      <td>...</td>\n",
              "      <td>...</td>\n",
              "      <td>...</td>\n",
              "      <td>...</td>\n",
              "      <td>...</td>\n",
              "      <td>...</td>\n",
              "      <td>...</td>\n",
              "      <td>...</td>\n",
              "    </tr>\n",
              "    <tr>\n",
              "      <th>119</th>\n",
              "      <td>2.0</td>\n",
              "      <td>0.949019</td>\n",
              "      <td>0.0</td>\n",
              "      <td>0.526540</td>\n",
              "      <td>0</td>\n",
              "      <td>0</td>\n",
              "      <td>0</td>\n",
              "      <td>0</td>\n",
              "      <td>0</td>\n",
              "      <td>0</td>\n",
              "      <td>...</td>\n",
              "      <td>0</td>\n",
              "      <td>0</td>\n",
              "      <td>0</td>\n",
              "      <td>0</td>\n",
              "      <td>0</td>\n",
              "      <td>0</td>\n",
              "      <td>0</td>\n",
              "      <td>0</td>\n",
              "      <td>0</td>\n",
              "      <td>0</td>\n",
              "    </tr>\n",
              "    <tr>\n",
              "      <th>779</th>\n",
              "      <td>4.0</td>\n",
              "      <td>-0.397199</td>\n",
              "      <td>1.0</td>\n",
              "      <td>-0.353392</td>\n",
              "      <td>0</td>\n",
              "      <td>0</td>\n",
              "      <td>0</td>\n",
              "      <td>0</td>\n",
              "      <td>0</td>\n",
              "      <td>0</td>\n",
              "      <td>...</td>\n",
              "      <td>0</td>\n",
              "      <td>0</td>\n",
              "      <td>0</td>\n",
              "      <td>0</td>\n",
              "      <td>0</td>\n",
              "      <td>0</td>\n",
              "      <td>0</td>\n",
              "      <td>0</td>\n",
              "      <td>0</td>\n",
              "      <td>0</td>\n",
              "    </tr>\n",
              "    <tr>\n",
              "      <th>559</th>\n",
              "      <td>3.0</td>\n",
              "      <td>-0.374382</td>\n",
              "      <td>2.0</td>\n",
              "      <td>-0.308268</td>\n",
              "      <td>0</td>\n",
              "      <td>0</td>\n",
              "      <td>0</td>\n",
              "      <td>0</td>\n",
              "      <td>0</td>\n",
              "      <td>0</td>\n",
              "      <td>...</td>\n",
              "      <td>0</td>\n",
              "      <td>0</td>\n",
              "      <td>0</td>\n",
              "      <td>0</td>\n",
              "      <td>0</td>\n",
              "      <td>0</td>\n",
              "      <td>0</td>\n",
              "      <td>0</td>\n",
              "      <td>0</td>\n",
              "      <td>0</td>\n",
              "    </tr>\n",
              "    <tr>\n",
              "      <th>714</th>\n",
              "      <td>2.0</td>\n",
              "      <td>-0.117688</td>\n",
              "      <td>2.0</td>\n",
              "      <td>-0.263143</td>\n",
              "      <td>0</td>\n",
              "      <td>0</td>\n",
              "      <td>0</td>\n",
              "      <td>0</td>\n",
              "      <td>0</td>\n",
              "      <td>0</td>\n",
              "      <td>...</td>\n",
              "      <td>0</td>\n",
              "      <td>0</td>\n",
              "      <td>0</td>\n",
              "      <td>0</td>\n",
              "      <td>0</td>\n",
              "      <td>0</td>\n",
              "      <td>0</td>\n",
              "      <td>0</td>\n",
              "      <td>0</td>\n",
              "      <td>1</td>\n",
              "    </tr>\n",
              "    <tr>\n",
              "      <th>384</th>\n",
              "      <td>3.0</td>\n",
              "      <td>-0.243183</td>\n",
              "      <td>0.0</td>\n",
              "      <td>-0.150105</td>\n",
              "      <td>0</td>\n",
              "      <td>0</td>\n",
              "      <td>0</td>\n",
              "      <td>0</td>\n",
              "      <td>0</td>\n",
              "      <td>0</td>\n",
              "      <td>...</td>\n",
              "      <td>0</td>\n",
              "      <td>0</td>\n",
              "      <td>0</td>\n",
              "      <td>0</td>\n",
              "      <td>0</td>\n",
              "      <td>0</td>\n",
              "      <td>0</td>\n",
              "      <td>0</td>\n",
              "      <td>0</td>\n",
              "      <td>0</td>\n",
              "    </tr>\n",
              "  </tbody>\n",
              "</table>\n",
              "<p>708 rows × 315 columns</p>\n",
              "</div>\n",
              "      <button class=\"colab-df-convert\" onclick=\"convertToInteractive('df-ef040c22-3885-4c08-b0a7-f59be98a6941')\"\n",
              "              title=\"Convert this dataframe to an interactive table.\"\n",
              "              style=\"display:none;\">\n",
              "        \n",
              "  <svg xmlns=\"http://www.w3.org/2000/svg\" height=\"24px\"viewBox=\"0 0 24 24\"\n",
              "       width=\"24px\">\n",
              "    <path d=\"M0 0h24v24H0V0z\" fill=\"none\"/>\n",
              "    <path d=\"M18.56 5.44l.94 2.06.94-2.06 2.06-.94-2.06-.94-.94-2.06-.94 2.06-2.06.94zm-11 1L8.5 8.5l.94-2.06 2.06-.94-2.06-.94L8.5 2.5l-.94 2.06-2.06.94zm10 10l.94 2.06.94-2.06 2.06-.94-2.06-.94-.94-2.06-.94 2.06-2.06.94z\"/><path d=\"M17.41 7.96l-1.37-1.37c-.4-.4-.92-.59-1.43-.59-.52 0-1.04.2-1.43.59L10.3 9.45l-7.72 7.72c-.78.78-.78 2.05 0 2.83L4 21.41c.39.39.9.59 1.41.59.51 0 1.02-.2 1.41-.59l7.78-7.78 2.81-2.81c.8-.78.8-2.07 0-2.86zM5.41 20L4 18.59l7.72-7.72 1.47 1.35L5.41 20z\"/>\n",
              "  </svg>\n",
              "      </button>\n",
              "      \n",
              "  <style>\n",
              "    .colab-df-container {\n",
              "      display:flex;\n",
              "      flex-wrap:wrap;\n",
              "      gap: 12px;\n",
              "    }\n",
              "\n",
              "    .colab-df-convert {\n",
              "      background-color: #E8F0FE;\n",
              "      border: none;\n",
              "      border-radius: 50%;\n",
              "      cursor: pointer;\n",
              "      display: none;\n",
              "      fill: #1967D2;\n",
              "      height: 32px;\n",
              "      padding: 0 0 0 0;\n",
              "      width: 32px;\n",
              "    }\n",
              "\n",
              "    .colab-df-convert:hover {\n",
              "      background-color: #E2EBFA;\n",
              "      box-shadow: 0px 1px 2px rgba(60, 64, 67, 0.3), 0px 1px 3px 1px rgba(60, 64, 67, 0.15);\n",
              "      fill: #174EA6;\n",
              "    }\n",
              "\n",
              "    [theme=dark] .colab-df-convert {\n",
              "      background-color: #3B4455;\n",
              "      fill: #D2E3FC;\n",
              "    }\n",
              "\n",
              "    [theme=dark] .colab-df-convert:hover {\n",
              "      background-color: #434B5C;\n",
              "      box-shadow: 0px 1px 3px 1px rgba(0, 0, 0, 0.15);\n",
              "      filter: drop-shadow(0px 1px 2px rgba(0, 0, 0, 0.3));\n",
              "      fill: #FFFFFF;\n",
              "    }\n",
              "  </style>\n",
              "\n",
              "      <script>\n",
              "        const buttonEl =\n",
              "          document.querySelector('#df-ef040c22-3885-4c08-b0a7-f59be98a6941 button.colab-df-convert');\n",
              "        buttonEl.style.display =\n",
              "          google.colab.kernel.accessAllowed ? 'block' : 'none';\n",
              "\n",
              "        async function convertToInteractive(key) {\n",
              "          const element = document.querySelector('#df-ef040c22-3885-4c08-b0a7-f59be98a6941');\n",
              "          const dataTable =\n",
              "            await google.colab.kernel.invokeFunction('convertToInteractive',\n",
              "                                                     [key], {});\n",
              "          if (!dataTable) return;\n",
              "\n",
              "          const docLinkHtml = 'Like what you see? Visit the ' +\n",
              "            '<a target=\"_blank\" href=https://colab.research.google.com/notebooks/data_table.ipynb>data table notebook</a>'\n",
              "            + ' to learn more about interactive tables.';\n",
              "          element.innerHTML = '';\n",
              "          dataTable['output_type'] = 'display_data';\n",
              "          await google.colab.output.renderOutput(dataTable, element);\n",
              "          const docLink = document.createElement('div');\n",
              "          docLink.innerHTML = docLinkHtml;\n",
              "          element.appendChild(docLink);\n",
              "        }\n",
              "      </script>\n",
              "    </div>\n",
              "  </div>\n",
              "  "
            ]
          },
          "metadata": {},
          "execution_count": 45
        }
      ]
    },
    {
      "cell_type": "markdown",
      "source": [
        "Now that we have proccessed the data using oridnal and one-hot encoding lets rebuild our correlation heatmap."
      ],
      "metadata": {
        "id": "qL4CxvpX9zux"
      }
    },
    {
      "cell_type": "code",
      "source": [
        "df_topshot.columns[245:265]"
      ],
      "metadata": {
        "colab": {
          "base_uri": "https://localhost:8080/"
        },
        "id": "8duMTcXBALIF",
        "outputId": "597ae126-53d1-4918-8a1e-81ceece7ea5b"
      },
      "execution_count": null,
      "outputs": [
        {
          "output_type": "execute_result",
          "data": {
            "text/plain": [
              "Index(['Moment Type_3 Pointer', 'Moment Type_Assist', 'Moment Type_Block',\n",
              "       'Moment Type_Dunk', 'Moment Type_Handles', 'Moment Type_Jump Shot',\n",
              "       'Moment Type_Layup', 'Moment Type_Steal', 'Team_ ATL', 'Team_ BKN',\n",
              "       'Team_ BOS', 'Team_ CHA', 'Team_ CHI', 'Team_ CLE', 'Team_ DAL',\n",
              "       'Team_ DEN', 'Team_ DET', 'Team_ GSW', 'Team_ HOU', 'Team_ IND'],\n",
              "      dtype='object')"
            ]
          },
          "metadata": {},
          "execution_count": 44
        }
      ]
    },
    {
      "cell_type": "code",
      "source": [
        "df_topshot.columns = df_topshot.columns.str.replace(' ', '')"
      ],
      "metadata": {
        "id": "aihstxnbSY3L"
      },
      "execution_count": null,
      "outputs": []
    },
    {
      "cell_type": "code",
      "source": [
        "corr_columns = ['LowestAsk', 'NumListings','MomentDate', 'EditionSize', 'MomentRarity','MomentType_3Pointer', 'MomentType_Assist','MomentType_Block', 'MomentType_Dunk',\\\n",
        "                'MomentType_Handles', 'MomentType_JumpShot', 'MomentType_Layup', 'MomentType_Steal']\n",
        "sns.set(rc={'figure.figsize':(11.7,8.27)})\n",
        "sns.heatmap(df_topshot[corr_columns].corr().round(decimals=2), annot=True)"
      ],
      "metadata": {
        "colab": {
          "base_uri": "https://localhost:8080/",
          "height": 640
        },
        "id": "HsEAWcGK_jCg",
        "outputId": "04cea44b-c10c-4c31-f713-3e84a0ca54f4"
      },
      "execution_count": null,
      "outputs": [
        {
          "output_type": "execute_result",
          "data": {
            "text/plain": [
              "<matplotlib.axes._subplots.AxesSubplot at 0x7fab862fbad0>"
            ]
          },
          "metadata": {},
          "execution_count": 48
        },
        {
          "output_type": "display_data",
          "data": {
            "text/plain": [
              "<Figure size 842.4x595.44 with 2 Axes>"
            ],
            "image/png": "[encoded data removed]"
          },
          "metadata": {}
        }
      ]
    },
    {
      "cell_type": "markdown",
      "source": [
        "I manually selected some of the variables to view correlation. Due to one-hot encoding so many classes, a heat map of all variable is unrealistic. The correlations to our target variable (Lowest Ask) are very low. This correlation method only looks at one to one correlation. There could be more complex connections between variables that we can't see at first glance."
      ],
      "metadata": {
        "id": "2xyEqJBWCSKc"
      }
    },
    {
      "cell_type": "markdown",
      "metadata": {
        "id": "D8nlQspTG8Ll"
      },
      "source": [
        "## <font color='lightblue'>Building a Price Prediction Model</font>\n",
        "\n"
      ]
    },
    {
      "cell_type": "markdown",
      "metadata": {
        "id": "n1Srx5ZCBFA9"
      },
      "source": [
        "The first model we will build is a regression decision tree, with supervised learning."
      ]
    },
    {
      "cell_type": "code",
      "source": [
        "df_topshot.dtypes"
      ],
      "metadata": {
        "colab": {
          "base_uri": "https://localhost:8080/"
        },
        "id": "cXnCutD1AptP",
        "outputId": "7053d8cb-55a3-4c3c-f108-bed108dcad3a"
      },
      "execution_count": null,
      "outputs": [
        {
          "output_type": "execute_result",
          "data": {
            "text/plain": [
              "Lowest Ask                                       int64\n",
              "Num Listings                                     int64\n",
              "Moment Rarity                                  float64\n",
              "Edition Size                                     int64\n",
              "Player_AARON GORDON                              uint8\n",
              "                                                ...   \n",
              "Series_The Finals (Series 1)                     uint8\n",
              "Series_The Gift (Series 2)                       uint8\n",
              "Series_Throwdowns (Series 1)                     uint8\n",
              "Series_Western Conference Finals (Series 1)      uint8\n",
              "Series_With the Strip (Series 1)                 uint8\n",
              "Length: 315, dtype: object"
            ]
          },
          "metadata": {},
          "execution_count": 26
        }
      ]
    },
    {
      "cell_type": "markdown",
      "source": [
        "Splitting the data into validation and training sets."
      ],
      "metadata": {
        "id": "FZaBX0j48bm7"
      }
    },
    {
      "cell_type": "code",
      "source": [
        "x_hyper_train, x_hyper_val, y_hyper_train, y_hyper_val = train_test_split(x_train, y_train, test_size=0.20)"
      ],
      "metadata": {
        "id": "wzSnKSAd8ZG-"
      },
      "execution_count": null,
      "outputs": []
    },
    {
      "cell_type": "markdown",
      "source": [
        "Here we define a function to build a decision tree Regressor with an input of the max depth. This function will help us tune the model quicker."
      ],
      "metadata": {
        "id": "D34aZ23tC6MR"
      }
    },
    {
      "cell_type": "code",
      "source": [
        "from sklearn.tree import DecisionTreeRegressor"
      ],
      "metadata": {
        "id": "Yf9pn7rTi-EZ"
      },
      "execution_count": null,
      "outputs": []
    },
    {
      "cell_type": "code",
      "source": [
        "def fit_decision_tree(maxDep):\n",
        "  \n",
        "  #1. build the algorithm\n",
        "   tree_Regressor = DecisionTreeRegressor(max_depth=maxDep)\n",
        "\n",
        "  #2. Fit the algorithm\n",
        "   tree_Regressor_result = tree_Regressor.fit(x_hyper_train, y_hyper_train)\n",
        "\n",
        "  #3. Make predictions\n",
        "   y_pred = tree_Regressor.predict(x_hyper_val)\n",
        "\n",
        "  #4. Meausure the accuracy\n",
        "   score = tree_Regressor_result.score(x_hyper_train, y_hyper_train)\n",
        "\n",
        "   return score"
      ],
      "metadata": {
        "id": "U-aNbwlI8lW_"
      },
      "execution_count": null,
      "outputs": []
    },
    {
      "cell_type": "code",
      "source": [
        "maxDepth = 8\n",
        "print(f'The R-squared score of our Decision Tree is {fit_decision_tree(maxDepth).round(3)}, for a tree depth of {maxDepth}.')"
      ],
      "metadata": {
        "colab": {
          "base_uri": "https://localhost:8080/"
        },
        "id": "OzrTAeBqjkx_",
        "outputId": "16ed63e8-9678-4f3e-b15b-eac17262a39d"
      },
      "execution_count": null,
      "outputs": [
        {
          "output_type": "stream",
          "name": "stdout",
          "text": [
            "The R-squared score of our Decision Tree is 0.964, for a tree depth of 8.\n"
          ]
        }
      ]
    },
    {
      "cell_type": "markdown",
      "source": [
        "The loop below will build a decision tree for each depth from 1 to 20. It will the R-squared score of the model and plot it to determine our best tree depth."
      ],
      "metadata": {
        "id": "CCKUoXndDgyh"
      }
    },
    {
      "cell_type": "code",
      "source": [
        "scores = []\n",
        "upperDepth = 20\n",
        "for i in range(1,upperDepth):\n",
        "  s = fit_decision_tree(i)\n",
        "  scores.append(s.round(3))"
      ],
      "metadata": {
        "id": "0KrNWIJY89JV"
      },
      "execution_count": null,
      "outputs": []
    },
    {
      "cell_type": "code",
      "source": [
        "#create a dataframe\n",
        "df_plot_maxDep = pd.DataFrame({'score':scores, 'maxDep':range(1,upperDepth)})\n",
        "\n",
        "#make a plot\n",
        "fig = sns.relplot(data=df_plot_maxDep['score'], kind='line', )\n",
        "fig.set_axis_labels('Tree Depth', 'Score')"
      ],
      "metadata": {
        "colab": {
          "base_uri": "https://localhost:8080/",
          "height": 382
        },
        "id": "RIA8wFb289zB",
        "outputId": "feb303eb-6cd4-4de2-f7ee-4523b5121399"
      },
      "execution_count": null,
      "outputs": [
        {
          "output_type": "execute_result",
          "data": {
            "text/plain": [
              "<seaborn.axisgrid.FacetGrid at 0x7fab86046c10>"
            ]
          },
          "metadata": {},
          "execution_count": 54
        },
        {
          "output_type": "display_data",
          "data": {
            "text/plain": [
              "<Figure size 360x360 with 1 Axes>"
            ],
            "image/png": "[encoded data removed]"
          },
          "metadata": {}
        }
      ]
    },
    {
      "cell_type": "markdown",
      "metadata": {
        "id": "00Xex47wBGt0"
      },
      "source": [
        "## <font color='lightblue'>Measure performance</font>"
      ]
    },
    {
      "cell_type": "markdown",
      "source": [
        "Below we will use our testing dataset to measure the performance of the model. We redefine our regressor variables as they were built within a function and are not available on the global level. "
      ],
      "metadata": {
        "id": "jOQPmXoDaPdk"
      }
    },
    {
      "cell_type": "code",
      "source": [
        "  #1. build the algorithm\n",
        "  tree_Regressor = DecisionTreeRegressor(max_depth=6)\n",
        "\n",
        "  #2. Fit the algorithm\n",
        "  tree_Regressor_result = tree_Regressor.fit(x_hyper_train, y_hyper_train)\n",
        "\n",
        "  #3. Make predictions\n",
        "  y_pred_test = tree_Regressor.predict(x_test)\n",
        "\n",
        "  #4. Meausure the accuracy\n",
        "  score = tree_Regressor_result.score(x_test, y_test)\n",
        "  print(f'The score for the testing data subset is {score}.')"
      ],
      "metadata": {
        "colab": {
          "base_uri": "https://localhost:8080/"
        },
        "id": "5bOw7CF4yc5D",
        "outputId": "b3ef9dac-a717-42d7-d6f9-d0eacb26678e"
      },
      "execution_count": null,
      "outputs": [
        {
          "output_type": "stream",
          "name": "stdout",
          "text": [
            "The score for the testing data subset is 0.34516941427201064.\n"
          ]
        }
      ]
    },
    {
      "cell_type": "markdown",
      "source": [
        "We can see that as we increase the depth of our tree we quickly begin to overfit our model. We will need to do more tuning and look at other model options."
      ],
      "metadata": {
        "id": "KQRrD-c8oGJq"
      }
    },
    {
      "cell_type": "markdown",
      "source": [
        "# Optimized and Likely Overfit Decision Tree"
      ],
      "metadata": {
        "id": "AfaUAovCuJEk"
      }
    },
    {
      "cell_type": "code",
      "source": [
        "maxDepth = 12\n",
        "print(f'The R-squared score of our Decision Tree is {fit_decision_tree(maxDepth).round(3)}, for a tree depth of {maxDepth}.')"
      ],
      "metadata": {
        "colab": {
          "base_uri": "https://localhost:8080/"
        },
        "id": "C7nAhyVmuFfq",
        "outputId": "d1172dc7-71b1-4cbb-9ad5-418e2713ae70"
      },
      "execution_count": null,
      "outputs": [
        {
          "output_type": "stream",
          "name": "stdout",
          "text": [
            "The R-squared score of our Decision Tree is 0.995, for a tree depth of 12.\n"
          ]
        }
      ]
    },
    {
      "cell_type": "markdown",
      "source": [
        "# Random Forest"
      ],
      "metadata": {
        "id": "AmovCOviEL_8"
      }
    },
    {
      "cell_type": "markdown",
      "source": [
        "Now that we have seen how a single decision tree performs with the data lets build a random forest model to attmpt price prediction."
      ],
      "metadata": {
        "id": "lcPjCLHgbUjQ"
      }
    },
    {
      "cell_type": "code",
      "metadata": {
        "id": "0f7BQslOCVTe",
        "colab": {
          "base_uri": "https://localhost:8080/"
        },
        "outputId": "6748fed1-5394-4ef2-ceee-11d74138189d"
      },
      "source": [
        "from sklearn.ensemble import RandomForestRegressor\n",
        "\n",
        "#1. Build the model\n",
        "forest_Regressor = RandomForestRegressor(n_estimators=300, bootstrap=True, max_features=0.8,max_samples=0.8)\n",
        "\n",
        "#2. Fit the model to the data\n",
        "forest_Regressor.fit(x_train, y_train)"
      ],
      "execution_count": null,
      "outputs": [
        {
          "output_type": "execute_result",
          "data": {
            "text/plain": [
              "RandomForestRegressor(max_features=0.8, max_samples=0.8, n_estimators=300)"
            ]
          },
          "metadata": {},
          "execution_count": 55
        }
      ]
    },
    {
      "cell_type": "code",
      "source": [
        "#predictions from the forest model\n",
        "y_forest_pred = forest_Regressor.predict(x_test)\n",
        "mse = sk.metrics.mean_squared_error(y_test, y_forest_pred)\n",
        "rmse = mse**.5\n",
        "\n",
        "print(f'The mean squared error is: {mse.round(1)}.')\n",
        "print(f'The root mean squared error is: {rmse.round(1)}.')\n"
      ],
      "metadata": {
        "colab": {
          "base_uri": "https://localhost:8080/"
        },
        "id": "LEUqmqyMEnWj",
        "outputId": "7b1b179c-2cfb-482d-f2a5-1e2077d7a2b9"
      },
      "execution_count": null,
      "outputs": [
        {
          "output_type": "stream",
          "name": "stdout",
          "text": [
            "The mean squared error is: 313249261.1.\n",
            "The root mean squared error is: 17698.8.\n"
          ]
        }
      ]
    },
    {
      "cell_type": "markdown",
      "source": [
        "We can utilize a grid search algorithm to determine the best hyperparameters to use in our model."
      ],
      "metadata": {
        "id": "OxTP5If6dQQj"
      }
    },
    {
      "cell_type": "code",
      "source": [
        "from sklearn.model_selection import GridSearchCV\n",
        "\n",
        "#define what parameters and what values to vary\n",
        "parameters = {'max_features': [0.5, 0.7, 0.9],\n",
        "              'n_estimators':[100, 200, 300, 400, 500],\n",
        "              'max_samples':[0.5, 0.7, 0.9] }\n",
        "\n",
        "#build the grid search algorithm\n",
        "grid_search = GridSearchCV(estimator= RandomForestRegressor(), param_grid = parameters, cv=5) \n",
        "\n",
        "#Use training data to perform the nfold cross validation\n",
        "grid_search.fit(x_train, y_train)\n",
        "\n",
        "#find the best hyperparameters\n",
        "print(grid_search.best_params_)\n",
        "print(f'The R-squared score of this model is: {grid_search.best_score_}.')"
      ],
      "metadata": {
        "colab": {
          "base_uri": "https://localhost:8080/"
        },
        "id": "N7hq9voSS9y-",
        "outputId": "0e6928ab-0002-4ba9-c234-ceee27c8570d"
      },
      "execution_count": null,
      "outputs": [
        {
          "output_type": "stream",
          "name": "stdout",
          "text": [
            "{'max_features': 0.9, 'max_samples': 0.9, 'n_estimators': 400}\n",
            "The R-squared score of this model is: 0.5643304236395891.\n"
          ]
        }
      ]
    },
    {
      "cell_type": "markdown",
      "source": [
        "Running our grid search returns {'max_features': 0.9, 'max_samples': 0.9, 'n_estimators': 400}\n",
        "0.564\n",
        "\n",
        "This gridsearch did not return great results for a prediciton model. We can try tuning the model more and look at simpler regression models.\n",
        "# Let's run an optimized model."
      ],
      "metadata": {
        "id": "5u9b_8al2lvE"
      }
    },
    {
      "cell_type": "code",
      "source": [
        "#Build the model\n",
        "forest_Regressor = RandomForestRegressor(n_estimators=400, bootstrap=True, max_features=0.9,max_samples=0.9)\n",
        "\n",
        "#Fit the model to the data\n",
        "forest_Regressor_result = forest_Regressor.fit(x_train, y_train)\n",
        "\n",
        "#predictions from the forest model\n",
        "y_forest_pred = forest_Regressor.predict(x_test)\n",
        "\n",
        "score_forest = forest_Regressor_result.score(x_train, y_train)\n",
        "mse = sk.metrics.mean_squared_error(y_test, y_forest_pred)\n",
        "rmse = mse**.5\n",
        "print(f'The R-squared value is: {score_forest.round(1)}.')\n",
        "print(f'The mean squared error is: {mse.round(1)}.')\n",
        "print(f'The root mean squared error is: {rmse.round(1)}.')"
      ],
      "metadata": {
        "colab": {
          "base_uri": "https://localhost:8080/"
        },
        "id": "_HJhAdAQ5A-O",
        "outputId": "5e967a9a-fad3-43dc-bf43-6a43a6a20a4f"
      },
      "execution_count": null,
      "outputs": [
        {
          "output_type": "stream",
          "name": "stdout",
          "text": [
            "The R-squared value is: 0.9.\n",
            "The mean squared error is: 313249261.1.\n",
            "The root mean squared error is: 17698.8.\n"
          ]
        }
      ]
    },
    {
      "cell_type": "markdown",
      "source": [
        "## Let's attempt a simpler linear regression model to see how it compares."
      ],
      "metadata": {
        "id": "S5GUzZwYrafK"
      }
    },
    {
      "cell_type": "code",
      "source": [
        "import statsmodels.api as sm #for running regression!\n",
        "import statsmodels.formula.api as smf\n"
      ],
      "metadata": {
        "colab": {
          "base_uri": "https://localhost:8080/"
        },
        "id": "LIa1CV6FdwK2",
        "outputId": "be61dce4-6a2a-4574-b5ec-75d24cfe8ee9"
      },
      "execution_count": null,
      "outputs": [
        {
          "output_type": "stream",
          "name": "stderr",
          "text": [
            "/usr/local/lib/python3.7/dist-packages/statsmodels/tools/_testing.py:19: FutureWarning: pandas.util.testing is deprecated. Use the functions in the public API at pandas.testing instead.\n",
            "  import pandas.util.testing as tm\n"
          ]
        }
      ]
    },
    {
      "cell_type": "code",
      "source": [
        "df_linreg_train, df_linreg_test = train_test_split(df_topshot, test_size=0.20)"
      ],
      "metadata": {
        "id": "G7yr6tFQe7c5"
      },
      "execution_count": null,
      "outputs": []
    },
    {
      "cell_type": "code",
      "source": [
        "#Build the model\n",
        "linear_reg_model = smf.ols(formula='LowestAsk ~ MomentDate + NumListings + MomentRarity + EditionSize', data=df_linreg_train)\n",
        "\n",
        "#Use the data to fit the model (i.e., find the best intercept and slope parameters)\n",
        "linear_reg_results = linear_reg_model.fit()\n",
        "\n",
        "#make predictions using the model\n",
        "\n",
        "df_linreg_train['price_pred'] = linear_reg_results.predict(df_linreg_train) #note: using train data\n",
        "df_linreg_test['price_pred'] = linear_reg_results.predict(df_linreg_test) #note: using test data\n",
        "\n",
        "#Get a summary of the model parameters\n",
        "print(linear_reg_results.summary())"
      ],
      "metadata": {
        "colab": {
          "base_uri": "https://localhost:8080/"
        },
        "id": "Hh_Nsp4sdwH8",
        "outputId": "fcb02336-aaeb-4f4f-c529-174109d99a21"
      },
      "execution_count": null,
      "outputs": [
        {
          "output_type": "stream",
          "name": "stdout",
          "text": [
            "                            OLS Regression Results                            \n",
            "==============================================================================\n",
            "Dep. Variable:              LowestAsk   R-squared:                       0.039\n",
            "Model:                            OLS   Adj. R-squared:                  0.034\n",
            "Method:                 Least Squares   F-statistic:                     7.130\n",
            "Date:                Thu, 09 Jun 2022   Prob (F-statistic):           1.25e-05\n",
            "Time:                        03:25:09   Log-Likelihood:                -8029.9\n",
            "No. Observations:                 708   AIC:                         1.607e+04\n",
            "Df Residuals:                     703   BIC:                         1.609e+04\n",
            "Df Model:                           4                                         \n",
            "Covariance Type:            nonrobust                                         \n",
            "================================================================================\n",
            "                   coef    std err          t      P>|t|      [0.025      0.975]\n",
            "--------------------------------------------------------------------------------\n",
            "Intercept     1.464e+04   3249.993      4.505      0.000    8259.518     2.1e+04\n",
            "MomentDate    -660.0221   1115.184     -0.592      0.554   -2849.511    1529.467\n",
            "NumListings    -17.1034      5.472     -3.126      0.002     -27.847      -6.360\n",
            "MomentRarity -2419.8715    985.115     -2.456      0.014   -4353.990    -485.753\n",
            "EditionSize     -0.4747      0.247     -1.924      0.055      -0.959       0.010\n",
            "==============================================================================\n",
            "Omnibus:                      787.302   Durbin-Watson:                   2.043\n",
            "Prob(Omnibus):                  0.000   Jarque-Bera (JB):            47320.833\n",
            "Skew:                           5.382   Prob(JB):                         0.00\n",
            "Kurtosis:                      41.578   Cond. No.                     1.86e+04\n",
            "==============================================================================\n",
            "\n",
            "Warnings:\n",
            "[1] Standard Errors assume that the covariance matrix of the errors is correctly specified.\n",
            "[2] The condition number is large, 1.86e+04. This might indicate that there are\n",
            "strong multicollinearity or other numerical problems.\n"
          ]
        }
      ]
    },
    {
      "cell_type": "markdown",
      "source": [
        "Based off of the coefficients of our linear fit we can compare how each variable effects the model. Moment Rarity strongly effects the price outcome, with a negative slope. We can also notice that comparitevly Edition Size has only a small positive effect on the price regression. "
      ],
      "metadata": {
        "id": "XlNHTwOrduN2"
      }
    },
    {
      "cell_type": "markdown",
      "source": [
        "Calculate the mean squared error of the linear regression model."
      ],
      "metadata": {
        "id": "pBA1ISZugMy-"
      }
    },
    {
      "cell_type": "code",
      "source": [
        "#mean squared error\n",
        "mse_train = sk.metrics.mean_squared_error(df_linreg_train['LowestAsk'], df_linreg_train['price_pred']) \n",
        "\n",
        "print(\" Mean squared error of training dataset = \", mse_train)"
      ],
      "metadata": {
        "colab": {
          "base_uri": "https://localhost:8080/"
        },
        "id": "rfzVxydDdwFG",
        "outputId": "ec888831-f085-4ecc-ce4c-58b0d6bbcf07"
      },
      "execution_count": null,
      "outputs": [
        {
          "output_type": "stream",
          "name": "stdout",
          "text": [
            " Mean squared error of training dataset =  415703096.36025673\n"
          ]
        }
      ]
    },
    {
      "cell_type": "code",
      "source": [
        "#mean squared error\n",
        "mse_test = sk.metrics.mean_squared_error(df_linreg_test['LowestAsk'], df_linreg_test['price_pred']) \n",
        "\n",
        "print(\" Mean squared error of testing dataset = \", mse_test)"
      ],
      "metadata": {
        "colab": {
          "base_uri": "https://localhost:8080/"
        },
        "id": "GlQasKEOdv-v",
        "outputId": "74064ff7-39c4-45cc-e039-1da582a5b566"
      },
      "execution_count": null,
      "outputs": [
        {
          "output_type": "stream",
          "name": "stdout",
          "text": [
            " Mean squared error of testing dataset =  362238039.85357165\n"
          ]
        }
      ]
    },
    {
      "cell_type": "markdown",
      "metadata": {
        "id": "DBudKPp1BP3G"
      },
      "source": [
        "## <font color='lightblue'>Discussion and interpretation</font>"
      ]
    },
    {
      "cell_type": "markdown",
      "source": [
        "# The results of an optimized decision tree regression model.\n",
        "The R-squared score of our Decision Tree is 0.964, for a tree depth of 8.\n",
        "The R-squared score of our optimized Decision Tree is 0.995, for a tree depth of 12.\n",
        "With large tree depths we are likely overfitting the data. With enough depth there will become a node for each individual row of data. Simply looking for a high r-squared value doesn't neccesarily mean the model will generalize well to data it wasn't trained on. \n"
      ],
      "metadata": {
        "id": "PNcZpv7Bt0Mx"
      }
    },
    {
      "cell_type": "markdown",
      "source": [
        "When the decision tree model was built with a depth of 6 nodes it had a prediction r-squared score of 0.35, on the testing data. This is a poor result and shows that although we can achieve a good fit on trainging data the model is over fitted and generalizes poorly. "
      ],
      "metadata": {
        "id": "1E0bpSdz1LEI"
      }
    },
    {
      "cell_type": "markdown",
      "source": [
        "# The results of our optimized random forest regression model.\n",
        "The R-squared value is: 0.9.\n",
        "The mean squared error is: 313249261.\n",
        "The root mean squared error is: 17698."
      ],
      "metadata": {
        "id": "n-GZBMlUu5yP"
      }
    },
    {
      "cell_type": "markdown",
      "source": [
        "# Variable impact\n",
        "Looking at the linear regression model we see that moment year, number of listings, and moment rarity all have a negative slope coefficent related to lowest listing price. It makes sense as to why older moments and moments with less listings may have higher prices. More investigation would be required to determine why increased rarity is connected to a strong decrease in price. \n"
      ],
      "metadata": {
        "id": "d2F60IxZ2M2Z"
      }
    },
    {
      "cell_type": "markdown",
      "source": [
        "# Overall Analysis and Future Work\n",
        "I don't believe any of these models have a strong ability to predict the prices of these cards. Our large mean squared error may be due to the distribution of high priced outliers. It may be more worthwhile to look at the mean absolute error, which would be in dollars. \n",
        "\n",
        "The largest issue with building a model to predict price is the amount of data required in relation to the number of unique categories variables. Below we can see a few of the variables categories."
      ],
      "metadata": {
        "id": "EhuQrZ9d3NCo"
      }
    },
    {
      "cell_type": "code",
      "source": [
        "uTeam = df_topshot['Team'].nunique()\n",
        "print(f'The number of unique teams is {uTeam}.')"
      ],
      "metadata": {
        "colab": {
          "base_uri": "https://localhost:8080/"
        },
        "id": "AgpuBf7nkHu0",
        "outputId": "85b72d8d-a076-42fc-e7c3-d7ba691ff8b4"
      },
      "execution_count": null,
      "outputs": [
        {
          "output_type": "stream",
          "name": "stdout",
          "text": [
            "The number of unique teams is 30.\n"
          ]
        }
      ]
    },
    {
      "cell_type": "code",
      "source": [
        "uPlayer = df_topshot['Player'].nunique()\n",
        "print(f'The number of unique players is {uPlayer}.')"
      ],
      "metadata": {
        "colab": {
          "base_uri": "https://localhost:8080/"
        },
        "id": "HJTDz6C9lX33",
        "outputId": "0b6fe959-05d5-4253-c1f2-d8a0ac605ec1"
      },
      "execution_count": null,
      "outputs": [
        {
          "output_type": "stream",
          "name": "stdout",
          "text": [
            "The number of unique playerss is 241.\n"
          ]
        }
      ]
    },
    {
      "cell_type": "code",
      "source": [
        "uSeries = df_topshot['Series'].nunique()\n",
        "print(f'The number of unique series is {uSeries}.')"
      ],
      "metadata": {
        "colab": {
          "base_uri": "https://localhost:8080/"
        },
        "id": "aINhFiM0nFPe",
        "outputId": "32070f70-99c0-4b9f-93fc-733c3df3ac6d"
      },
      "execution_count": null,
      "outputs": [
        {
          "output_type": "stream",
          "name": "stdout",
          "text": [
            "The number of unique series is 32.\n"
          ]
        }
      ]
    },
    {
      "cell_type": "code",
      "source": [
        "uType = df_topshot['MomentType'].nunique()\n",
        "print(f'The number of unique moment types is {uType}.')"
      ],
      "metadata": {
        "colab": {
          "base_uri": "https://localhost:8080/"
        },
        "id": "3WAkqDs7nQ1R",
        "outputId": "0117a3a3-4087-45f4-acb4-692476c72e9c"
      },
      "execution_count": null,
      "outputs": [
        {
          "output_type": "stream",
          "name": "stdout",
          "text": [
            "The number of unique moment types is 8.\n"
          ]
        }
      ]
    },
    {
      "cell_type": "markdown",
      "source": [
        "Some machine learning education sites suggest that for regression models you need 10x the number of observations as you have unique features. Using the rule of 10x we would need at least 76800 rows of data if we wanted to build a model only using moment type, series, and team. "
      ],
      "metadata": {
        "id": "6fynFHWJnlLj"
      }
    },
    {
      "cell_type": "markdown",
      "source": [
        "If we consider this model developement a proof of concept project, the key take away is that to develop an accurate model there will be significant work required to gather data. With such a wide range of prices and separate classes more data would significantly improve the model. As the marketplace has grown to thousands of daily transactions, scraping the sales data would provide us with better insight into realistic pricing. This could likely be accomplished by using a python package called 'BeautifulSoup\" to web scrape the evaluate.market website. Within the last week there were 75000 transactions, so although a large data collection task it is not impossible. This data collection would be beneficial for two reasons. It would provide more data so less classes have single entries. It would also be using transaction data, instead of listing data. This would eliminate any moment listings that are unrealistic and overpriced. If the team wanted to go forward with this project it would be recommended that the model be built for a subset of this data. This could be focusing on a few key players, a certain team, or a specific type of play. "
      ],
      "metadata": {
        "id": "UA_lGq_LmdUE"
      }
    }
  ]
}