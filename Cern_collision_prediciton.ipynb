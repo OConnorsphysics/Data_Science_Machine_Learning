{
  "nbformat": 4,
  "nbformat_minor": 0,
  "metadata": {
    "colab": {
      "name": "Cern_collision_prediciton.ipynb",
      "provenance": [],
      "collapsed_sections": [],
      "authorship_tag": "ABX9TyOsq3+RJjgVTwVIuXtmG1Cx",
      "include_colab_link": true
    },
    "kernelspec": {
      "name": "python3",
      "display_name": "Python 3"
    },
    "language_info": {
      "name": "python"
    },
    "gpuClass": "standard"
  },
  "cells": [
    {
      "cell_type": "markdown",
      "metadata": {
        "id": "view-in-github",
        "colab_type": "text"
      },
      "source": [
        "<a href=\"https://colab.research.google.com/github/OConnorsphysics/Uleth_Data_Science/blob/main/Cern_collision_prediciton.ipynb\" target=\"_parent\"><img src=\"https://colab.research.google.com/assets/colab-badge.svg\" alt=\"Open In Colab\"/></a>"
      ]
    },
    {
      "cell_type": "markdown",
      "source": [
        "##<font color='darkorange'>**CERN Electron Scattering Predicitve Analysis**</font>\n",
        "Cern , or The European Council for Nuclear Research, operates the world's largest particle physics labratory. This includes experiments that utilize the Large Hadron Collider to study particle collisions. *italicized text*"
      ],
      "metadata": {
        "id": "f06mztaEhFvz"
      }
    },
    {
      "cell_type": "markdown",
      "source": [
        "<img src='https://drive.google.com/uc?export=view&id=1EOX2D5JHvmwNgKcEVvJCfWp8eUFuTbNd' width=500>\n"
      ],
      "metadata": {
        "id": "pocj9INoudVS"
      }
    },
    {
      "cell_type": "markdown",
      "source": [
        "In this project we will observe CERN data of electron collision experiments. We will build a shallow and deep machine learning model to compare the predicitve abilities of varying methods. We will start with attempting to predict the transverse momentum of electron 2 after collisions. Transverse momentum is the momentum perpendicular to the electron beam after the collison. Any momentum component along the beam vector can be left over from the intial beam particle momentum. Where as, any perpendicular momentum is due to the physics that occur during the collison. Building an accurate model could be used as a means of confirming calculated particle trajectories, or as a method of uncovering anomolies scietists do not predict.\n",
        "\n",
        "To solve the problem we will start by cleaning up our data and normalizing all the values to a standard deviation of 1. With a clean dataset we will split our data into three subsets, one for training, validation, and testing. We will train our data on one subset and use the others to tune and test the accuracy, and error of our models. We will start with a linear regression model using an ordinary least squares algorythm, then we will comparethese results to a Keras/tensorflow nueral network. \n",
        "\n",
        "Due to the nature of the data I believe we should be able to obtain very accurate predictions. Unlike other data analysis problems there is no human element or subjectiveness in our problem. The outcome is governed by laws of particle physics. With enough data we should be able to predict any of the dataset variables with very high accuracy."
      ],
      "metadata": {
        "id": "Z_2aZwSovxHF"
      }
    },
    {
      "cell_type": "markdown",
      "source": [
        "\"This dataset contains 100k dielectron events in the invariant mass range 2-110 GeV for use in outreach and education. These data were selected for use in education and outreach and contain a subset of the total event information. The selection criteria may be different from that used in CMS physics results.\"\n",
        "\n",
        "Data credit goes to McCauley, Thomas; (2014). https://opendata.cern.ch/record/304"
      ],
      "metadata": {
        "id": "NsOeort-8M8f"
      }
    },
    {
      "cell_type": "code",
      "execution_count": 3,
      "metadata": {
        "id": "hyqNoEY0WECH",
        "colab": {
          "base_uri": "https://localhost:8080/"
        },
        "outputId": "6438fef1-af61-47a0-cb24-8be4a5798e83"
      },
      "outputs": [
        {
          "output_type": "stream",
          "name": "stderr",
          "text": [
            "/usr/local/lib/python3.7/dist-packages/statsmodels/tools/_testing.py:19: FutureWarning: pandas.util.testing is deprecated. Use the functions in the public API at pandas.testing instead.\n",
            "  import pandas.util.testing as tm\n"
          ]
        }
      ],
      "source": [
        "import pandas as pd\n",
        "import numpy as np\n",
        "import sklearn as sk\n",
        "import seaborn as sns\n",
        "import matplotlib.pyplot as plt\n",
        "from sklearn.model_selection import train_test_split\n",
        "import csv\n",
        "from sklearn.preprocessing import OrdinalEncoder\n",
        "import tensorflow.keras as keras\n",
        "import statsmodels.api as sm\n",
        "import statsmodels.formula.api as smf\n"
      ]
    },
    {
      "cell_type": "markdown",
      "source": [
        "#<font color= 'darkorange'>Importing Data and Preproccessing"
      ],
      "metadata": {
        "id": "HG4bYSTJx8ma"
      }
    },
    {
      "cell_type": "markdown",
      "source": [
        "##Data Key##\n",
        "1 Run: The run number of the event.\n",
        "\n",
        "2 Event: The event number.\n",
        "\n",
        "3, 11) E1, E2: The total energy of the electron (GeV) for electrons 1 and 2.\n",
        "\n",
        "\n",
        "4, 5, 6, 12, 13, 14) px1,py1,pz1,px2,py2,pz2: The components of the momemtum of the electron 1 and 2 (GeV).\n",
        "\n",
        "7, 15) pt1, pt2: The transverse momentum of the electron 1 and 2 (GeV).\n",
        "\n",
        "8, 16) eta1, eta2: The pseudorapidity of the electron 1 and 2.\n",
        "\n",
        "9, 17) phi1, phi2: The phi angle of the electron 1 and 2 (rad).\n",
        "\n",
        "10, 18) Q1, Q2: The charge of the electron 1 and 2.\n",
        "\n",
        "19) M: The invariant mass of two electrons (GeV)."
      ],
      "metadata": {
        "id": "2wNYQtMq8PND"
      }
    },
    {
      "cell_type": "code",
      "source": [
        "cern = pd.read_csv('/content/dielectron.csv')\n",
        "\n",
        "cern"
      ],
      "metadata": {
        "colab": {
          "base_uri": "https://localhost:8080/",
          "height": 468
        },
        "id": "7JvZjgpLWVGD",
        "outputId": "a8043678-aa01-4b5b-937d-b58c9bdfb020"
      },
      "execution_count": 4,
      "outputs": [
        {
          "output_type": "execute_result",
          "data": {
            "text/plain": [
              "          Run      Event        E1       px1         py1       pz1       pt1  \\\n",
              "0      147115  366639895  58.71410  -7.311320  10.531000 -57.29740  12.82020   \n",
              "1      147115  366704169   6.61188  -4.152130  -0.579855  -5.11278   4.19242   \n",
              "2      147115  367112316  25.54190 -11.480900   2.041680  22.72460  11.66100   \n",
              "3      147115  366952149  65.39590   7.512140  11.887100  63.86620  14.06190   \n",
              "4      147115  366523212  61.45040   2.952840 -14.622700 -59.61210  14.91790   \n",
              "...       ...        ...       ...        ...        ...       ...       ...   \n",
              "99995  146511  522575834  12.31310 -10.658000   5.164440   3.36858  11.84330   \n",
              "99996  146511  522786431  18.46420   7.854990  15.133000  -7.08659  17.05020   \n",
              "99997  146511  522906124   4.18566  -3.273500  -0.308507  -2.59013   3.28801   \n",
              "99998  146511  523243830  54.46220  11.352600  11.880900  51.92400  16.43280   \n",
              "99999  146511  524172389   7.64000   0.886162   5.478900  -5.25033   5.55010   \n",
              "\n",
              "           eta1      phi1  Q1        E2        px2      py2        pz2  \\\n",
              "0     -2.202670  2.177660   1  11.28360  -1.032340 -1.88066 -11.077800   \n",
              "1     -1.028420 -3.002840  -1  17.14920 -11.713500  5.04474  11.464700   \n",
              "2      1.420480  2.965600   1  15.82030  -1.472800  2.25895 -15.588800   \n",
              "3      2.218380  1.007210   1  25.12730   4.087860  2.59641  24.656300   \n",
              "4     -2.093750 -1.371540  -1  13.88710  -0.277757 -2.42560 -13.670800   \n",
              "...         ...       ...  ..       ...        ...      ...        ...   \n",
              "99995  0.280727  2.690370  -1   1.80181   0.668609 -1.58437   0.537805   \n",
              "99996 -0.404510  1.092010   1  14.69110  -1.418020 -2.28117 -14.443500   \n",
              "99997 -0.723075 -3.047630   1  72.81740 -11.074900 -9.28179 -71.369300   \n",
              "99998  1.867800  0.808132  -1   8.58671   0.378009  3.07828   8.007050   \n",
              "99999 -0.842662  1.410440   1  52.10880  16.807500 -4.60510  49.108400   \n",
              "\n",
              "            pt2      eta2      phi2  Q2         M  \n",
              "0       2.14537 -2.344030 -2.072810  -1   8.94841  \n",
              "1      12.75360  0.808077  2.734920   1  15.89300  \n",
              "2       2.69667 -2.455080  2.148570   1  38.38770  \n",
              "3       4.84272  2.330210  0.565865  -1   3.72862  \n",
              "4       2.44145 -2.423700 -1.684810  -1   2.74718  \n",
              "...         ...       ...       ...  ..       ...  \n",
              "99995   1.71967  0.307851 -1.171470   1   8.44779  \n",
              "99996   2.68598 -2.383880 -2.126960   1  20.71540  \n",
              "99997  14.45010 -2.300410 -2.444050  -1  12.71350  \n",
              "99998   3.10141  1.677170  1.448610   1   4.69670  \n",
              "99999  17.42700  1.759250 -0.267427  -1  36.50430  \n",
              "\n",
              "[100000 rows x 19 columns]"
            ],
            "text/html": [
              "\n",
              "  <div id=\"df-5234f15f-5197-427f-b8ab-bd138ef3a917\">\n",
              "    <div class=\"colab-df-container\">\n",
              "      <div>\n",
              "<style scoped>\n",
              "    .dataframe tbody tr th:only-of-type {\n",
              "        vertical-align: middle;\n",
              "    }\n",
              "\n",
              "    .dataframe tbody tr th {\n",
              "        vertical-align: top;\n",
              "    }\n",
              "\n",
              "    .dataframe thead th {\n",
              "        text-align: right;\n",
              "    }\n",
              "</style>\n",
              "<table border=\"1\" class=\"dataframe\">\n",
              "  <thead>\n",
              "    <tr style=\"text-align: right;\">\n",
              "      <th></th>\n",
              "      <th>Run</th>\n",
              "      <th>Event</th>\n",
              "      <th>E1</th>\n",
              "      <th>px1</th>\n",
              "      <th>py1</th>\n",
              "      <th>pz1</th>\n",
              "      <th>pt1</th>\n",
              "      <th>eta1</th>\n",
              "      <th>phi1</th>\n",
              "      <th>Q1</th>\n",
              "      <th>E2</th>\n",
              "      <th>px2</th>\n",
              "      <th>py2</th>\n",
              "      <th>pz2</th>\n",
              "      <th>pt2</th>\n",
              "      <th>eta2</th>\n",
              "      <th>phi2</th>\n",
              "      <th>Q2</th>\n",
              "      <th>M</th>\n",
              "    </tr>\n",
              "  </thead>\n",
              "  <tbody>\n",
              "    <tr>\n",
              "      <th>0</th>\n",
              "      <td>147115</td>\n",
              "      <td>366639895</td>\n",
              "      <td>58.71410</td>\n",
              "      <td>-7.311320</td>\n",
              "      <td>10.531000</td>\n",
              "      <td>-57.29740</td>\n",
              "      <td>12.82020</td>\n",
              "      <td>-2.202670</td>\n",
              "      <td>2.177660</td>\n",
              "      <td>1</td>\n",
              "      <td>11.28360</td>\n",
              "      <td>-1.032340</td>\n",
              "      <td>-1.88066</td>\n",
              "      <td>-11.077800</td>\n",
              "      <td>2.14537</td>\n",
              "      <td>-2.344030</td>\n",
              "      <td>-2.072810</td>\n",
              "      <td>-1</td>\n",
              "      <td>8.94841</td>\n",
              "    </tr>\n",
              "    <tr>\n",
              "      <th>1</th>\n",
              "      <td>147115</td>\n",
              "      <td>366704169</td>\n",
              "      <td>6.61188</td>\n",
              "      <td>-4.152130</td>\n",
              "      <td>-0.579855</td>\n",
              "      <td>-5.11278</td>\n",
              "      <td>4.19242</td>\n",
              "      <td>-1.028420</td>\n",
              "      <td>-3.002840</td>\n",
              "      <td>-1</td>\n",
              "      <td>17.14920</td>\n",
              "      <td>-11.713500</td>\n",
              "      <td>5.04474</td>\n",
              "      <td>11.464700</td>\n",
              "      <td>12.75360</td>\n",
              "      <td>0.808077</td>\n",
              "      <td>2.734920</td>\n",
              "      <td>1</td>\n",
              "      <td>15.89300</td>\n",
              "    </tr>\n",
              "    <tr>\n",
              "      <th>2</th>\n",
              "      <td>147115</td>\n",
              "      <td>367112316</td>\n",
              "      <td>25.54190</td>\n",
              "      <td>-11.480900</td>\n",
              "      <td>2.041680</td>\n",
              "      <td>22.72460</td>\n",
              "      <td>11.66100</td>\n",
              "      <td>1.420480</td>\n",
              "      <td>2.965600</td>\n",
              "      <td>1</td>\n",
              "      <td>15.82030</td>\n",
              "      <td>-1.472800</td>\n",
              "      <td>2.25895</td>\n",
              "      <td>-15.588800</td>\n",
              "      <td>2.69667</td>\n",
              "      <td>-2.455080</td>\n",
              "      <td>2.148570</td>\n",
              "      <td>1</td>\n",
              "      <td>38.38770</td>\n",
              "    </tr>\n",
              "    <tr>\n",
              "      <th>3</th>\n",
              "      <td>147115</td>\n",
              "      <td>366952149</td>\n",
              "      <td>65.39590</td>\n",
              "      <td>7.512140</td>\n",
              "      <td>11.887100</td>\n",
              "      <td>63.86620</td>\n",
              "      <td>14.06190</td>\n",
              "      <td>2.218380</td>\n",
              "      <td>1.007210</td>\n",
              "      <td>1</td>\n",
              "      <td>25.12730</td>\n",
              "      <td>4.087860</td>\n",
              "      <td>2.59641</td>\n",
              "      <td>24.656300</td>\n",
              "      <td>4.84272</td>\n",
              "      <td>2.330210</td>\n",
              "      <td>0.565865</td>\n",
              "      <td>-1</td>\n",
              "      <td>3.72862</td>\n",
              "    </tr>\n",
              "    <tr>\n",
              "      <th>4</th>\n",
              "      <td>147115</td>\n",
              "      <td>366523212</td>\n",
              "      <td>61.45040</td>\n",
              "      <td>2.952840</td>\n",
              "      <td>-14.622700</td>\n",
              "      <td>-59.61210</td>\n",
              "      <td>14.91790</td>\n",
              "      <td>-2.093750</td>\n",
              "      <td>-1.371540</td>\n",
              "      <td>-1</td>\n",
              "      <td>13.88710</td>\n",
              "      <td>-0.277757</td>\n",
              "      <td>-2.42560</td>\n",
              "      <td>-13.670800</td>\n",
              "      <td>2.44145</td>\n",
              "      <td>-2.423700</td>\n",
              "      <td>-1.684810</td>\n",
              "      <td>-1</td>\n",
              "      <td>2.74718</td>\n",
              "    </tr>\n",
              "    <tr>\n",
              "      <th>...</th>\n",
              "      <td>...</td>\n",
              "      <td>...</td>\n",
              "      <td>...</td>\n",
              "      <td>...</td>\n",
              "      <td>...</td>\n",
              "      <td>...</td>\n",
              "      <td>...</td>\n",
              "      <td>...</td>\n",
              "      <td>...</td>\n",
              "      <td>...</td>\n",
              "      <td>...</td>\n",
              "      <td>...</td>\n",
              "      <td>...</td>\n",
              "      <td>...</td>\n",
              "      <td>...</td>\n",
              "      <td>...</td>\n",
              "      <td>...</td>\n",
              "      <td>...</td>\n",
              "      <td>...</td>\n",
              "    </tr>\n",
              "    <tr>\n",
              "      <th>99995</th>\n",
              "      <td>146511</td>\n",
              "      <td>522575834</td>\n",
              "      <td>12.31310</td>\n",
              "      <td>-10.658000</td>\n",
              "      <td>5.164440</td>\n",
              "      <td>3.36858</td>\n",
              "      <td>11.84330</td>\n",
              "      <td>0.280727</td>\n",
              "      <td>2.690370</td>\n",
              "      <td>-1</td>\n",
              "      <td>1.80181</td>\n",
              "      <td>0.668609</td>\n",
              "      <td>-1.58437</td>\n",
              "      <td>0.537805</td>\n",
              "      <td>1.71967</td>\n",
              "      <td>0.307851</td>\n",
              "      <td>-1.171470</td>\n",
              "      <td>1</td>\n",
              "      <td>8.44779</td>\n",
              "    </tr>\n",
              "    <tr>\n",
              "      <th>99996</th>\n",
              "      <td>146511</td>\n",
              "      <td>522786431</td>\n",
              "      <td>18.46420</td>\n",
              "      <td>7.854990</td>\n",
              "      <td>15.133000</td>\n",
              "      <td>-7.08659</td>\n",
              "      <td>17.05020</td>\n",
              "      <td>-0.404510</td>\n",
              "      <td>1.092010</td>\n",
              "      <td>1</td>\n",
              "      <td>14.69110</td>\n",
              "      <td>-1.418020</td>\n",
              "      <td>-2.28117</td>\n",
              "      <td>-14.443500</td>\n",
              "      <td>2.68598</td>\n",
              "      <td>-2.383880</td>\n",
              "      <td>-2.126960</td>\n",
              "      <td>1</td>\n",
              "      <td>20.71540</td>\n",
              "    </tr>\n",
              "    <tr>\n",
              "      <th>99997</th>\n",
              "      <td>146511</td>\n",
              "      <td>522906124</td>\n",
              "      <td>4.18566</td>\n",
              "      <td>-3.273500</td>\n",
              "      <td>-0.308507</td>\n",
              "      <td>-2.59013</td>\n",
              "      <td>3.28801</td>\n",
              "      <td>-0.723075</td>\n",
              "      <td>-3.047630</td>\n",
              "      <td>1</td>\n",
              "      <td>72.81740</td>\n",
              "      <td>-11.074900</td>\n",
              "      <td>-9.28179</td>\n",
              "      <td>-71.369300</td>\n",
              "      <td>14.45010</td>\n",
              "      <td>-2.300410</td>\n",
              "      <td>-2.444050</td>\n",
              "      <td>-1</td>\n",
              "      <td>12.71350</td>\n",
              "    </tr>\n",
              "    <tr>\n",
              "      <th>99998</th>\n",
              "      <td>146511</td>\n",
              "      <td>523243830</td>\n",
              "      <td>54.46220</td>\n",
              "      <td>11.352600</td>\n",
              "      <td>11.880900</td>\n",
              "      <td>51.92400</td>\n",
              "      <td>16.43280</td>\n",
              "      <td>1.867800</td>\n",
              "      <td>0.808132</td>\n",
              "      <td>-1</td>\n",
              "      <td>8.58671</td>\n",
              "      <td>0.378009</td>\n",
              "      <td>3.07828</td>\n",
              "      <td>8.007050</td>\n",
              "      <td>3.10141</td>\n",
              "      <td>1.677170</td>\n",
              "      <td>1.448610</td>\n",
              "      <td>1</td>\n",
              "      <td>4.69670</td>\n",
              "    </tr>\n",
              "    <tr>\n",
              "      <th>99999</th>\n",
              "      <td>146511</td>\n",
              "      <td>524172389</td>\n",
              "      <td>7.64000</td>\n",
              "      <td>0.886162</td>\n",
              "      <td>5.478900</td>\n",
              "      <td>-5.25033</td>\n",
              "      <td>5.55010</td>\n",
              "      <td>-0.842662</td>\n",
              "      <td>1.410440</td>\n",
              "      <td>1</td>\n",
              "      <td>52.10880</td>\n",
              "      <td>16.807500</td>\n",
              "      <td>-4.60510</td>\n",
              "      <td>49.108400</td>\n",
              "      <td>17.42700</td>\n",
              "      <td>1.759250</td>\n",
              "      <td>-0.267427</td>\n",
              "      <td>-1</td>\n",
              "      <td>36.50430</td>\n",
              "    </tr>\n",
              "  </tbody>\n",
              "</table>\n",
              "<p>100000 rows × 19 columns</p>\n",
              "</div>\n",
              "      <button class=\"colab-df-convert\" onclick=\"convertToInteractive('df-5234f15f-5197-427f-b8ab-bd138ef3a917')\"\n",
              "              title=\"Convert this dataframe to an interactive table.\"\n",
              "              style=\"display:none;\">\n",
              "        \n",
              "  <svg xmlns=\"http://www.w3.org/2000/svg\" height=\"24px\"viewBox=\"0 0 24 24\"\n",
              "       width=\"24px\">\n",
              "    <path d=\"M0 0h24v24H0V0z\" fill=\"none\"/>\n",
              "    <path d=\"M18.56 5.44l.94 2.06.94-2.06 2.06-.94-2.06-.94-.94-2.06-.94 2.06-2.06.94zm-11 1L8.5 8.5l.94-2.06 2.06-.94-2.06-.94L8.5 2.5l-.94 2.06-2.06.94zm10 10l.94 2.06.94-2.06 2.06-.94-2.06-.94-.94-2.06-.94 2.06-2.06.94z\"/><path d=\"M17.41 7.96l-1.37-1.37c-.4-.4-.92-.59-1.43-.59-.52 0-1.04.2-1.43.59L10.3 9.45l-7.72 7.72c-.78.78-.78 2.05 0 2.83L4 21.41c.39.39.9.59 1.41.59.51 0 1.02-.2 1.41-.59l7.78-7.78 2.81-2.81c.8-.78.8-2.07 0-2.86zM5.41 20L4 18.59l7.72-7.72 1.47 1.35L5.41 20z\"/>\n",
              "  </svg>\n",
              "      </button>\n",
              "      \n",
              "  <style>\n",
              "    .colab-df-container {\n",
              "      display:flex;\n",
              "      flex-wrap:wrap;\n",
              "      gap: 12px;\n",
              "    }\n",
              "\n",
              "    .colab-df-convert {\n",
              "      background-color: #E8F0FE;\n",
              "      border: none;\n",
              "      border-radius: 50%;\n",
              "      cursor: pointer;\n",
              "      display: none;\n",
              "      fill: #1967D2;\n",
              "      height: 32px;\n",
              "      padding: 0 0 0 0;\n",
              "      width: 32px;\n",
              "    }\n",
              "\n",
              "    .colab-df-convert:hover {\n",
              "      background-color: #E2EBFA;\n",
              "      box-shadow: 0px 1px 2px rgba(60, 64, 67, 0.3), 0px 1px 3px 1px rgba(60, 64, 67, 0.15);\n",
              "      fill: #174EA6;\n",
              "    }\n",
              "\n",
              "    [theme=dark] .colab-df-convert {\n",
              "      background-color: #3B4455;\n",
              "      fill: #D2E3FC;\n",
              "    }\n",
              "\n",
              "    [theme=dark] .colab-df-convert:hover {\n",
              "      background-color: #434B5C;\n",
              "      box-shadow: 0px 1px 3px 1px rgba(0, 0, 0, 0.15);\n",
              "      filter: drop-shadow(0px 1px 2px rgba(0, 0, 0, 0.3));\n",
              "      fill: #FFFFFF;\n",
              "    }\n",
              "  </style>\n",
              "\n",
              "      <script>\n",
              "        const buttonEl =\n",
              "          document.querySelector('#df-5234f15f-5197-427f-b8ab-bd138ef3a917 button.colab-df-convert');\n",
              "        buttonEl.style.display =\n",
              "          google.colab.kernel.accessAllowed ? 'block' : 'none';\n",
              "\n",
              "        async function convertToInteractive(key) {\n",
              "          const element = document.querySelector('#df-5234f15f-5197-427f-b8ab-bd138ef3a917');\n",
              "          const dataTable =\n",
              "            await google.colab.kernel.invokeFunction('convertToInteractive',\n",
              "                                                     [key], {});\n",
              "          if (!dataTable) return;\n",
              "\n",
              "          const docLinkHtml = 'Like what you see? Visit the ' +\n",
              "            '<a target=\"_blank\" href=https://colab.research.google.com/notebooks/data_table.ipynb>data table notebook</a>'\n",
              "            + ' to learn more about interactive tables.';\n",
              "          element.innerHTML = '';\n",
              "          dataTable['output_type'] = 'display_data';\n",
              "          await google.colab.output.renderOutput(dataTable, element);\n",
              "          const docLink = document.createElement('div');\n",
              "          docLink.innerHTML = docLinkHtml;\n",
              "          element.appendChild(docLink);\n",
              "        }\n",
              "      </script>\n",
              "    </div>\n",
              "  </div>\n",
              "  "
            ]
          },
          "metadata": {},
          "execution_count": 4
        }
      ]
    },
    {
      "cell_type": "code",
      "source": [
        "cern.info()"
      ],
      "metadata": {
        "colab": {
          "base_uri": "https://localhost:8080/"
        },
        "id": "g1_SRJJUWbjo",
        "outputId": "6a16e92a-55de-4fc2-d85c-78aa27470206"
      },
      "execution_count": 5,
      "outputs": [
        {
          "output_type": "stream",
          "name": "stdout",
          "text": [
            "<class 'pandas.core.frame.DataFrame'>\n",
            "RangeIndex: 100000 entries, 0 to 99999\n",
            "Data columns (total 19 columns):\n",
            " #   Column  Non-Null Count   Dtype  \n",
            "---  ------  --------------   -----  \n",
            " 0   Run     100000 non-null  int64  \n",
            " 1   Event   100000 non-null  int64  \n",
            " 2   E1      100000 non-null  float64\n",
            " 3   px1     100000 non-null  float64\n",
            " 4   py1     100000 non-null  float64\n",
            " 5   pz1     100000 non-null  float64\n",
            " 6   pt1     100000 non-null  float64\n",
            " 7   eta1    100000 non-null  float64\n",
            " 8   phi1    100000 non-null  float64\n",
            " 9   Q1      100000 non-null  int64  \n",
            " 10  E2      100000 non-null  float64\n",
            " 11  px2     100000 non-null  float64\n",
            " 12  py2     100000 non-null  float64\n",
            " 13  pz2     100000 non-null  float64\n",
            " 14  pt2     100000 non-null  float64\n",
            " 15  eta2    100000 non-null  float64\n",
            " 16  phi2    100000 non-null  float64\n",
            " 17  Q2      100000 non-null  int64  \n",
            " 18  M       99915 non-null   float64\n",
            "dtypes: float64(15), int64(4)\n",
            "memory usage: 14.5 MB\n"
          ]
        }
      ]
    },
    {
      "cell_type": "code",
      "source": [
        "cern.dropna(axis=0, how='any', inplace=True)"
      ],
      "metadata": {
        "id": "3PjLzWoQUw_p"
      },
      "execution_count": 6,
      "outputs": []
    },
    {
      "cell_type": "code",
      "source": [
        "cern.info()"
      ],
      "metadata": {
        "colab": {
          "base_uri": "https://localhost:8080/"
        },
        "id": "JPEjtNTyVaXr",
        "outputId": "17bc0d86-3a91-4826-aa99-d5507625ddce"
      },
      "execution_count": 7,
      "outputs": [
        {
          "output_type": "stream",
          "name": "stdout",
          "text": [
            "<class 'pandas.core.frame.DataFrame'>\n",
            "Int64Index: 99915 entries, 0 to 99999\n",
            "Data columns (total 19 columns):\n",
            " #   Column  Non-Null Count  Dtype  \n",
            "---  ------  --------------  -----  \n",
            " 0   Run     99915 non-null  int64  \n",
            " 1   Event   99915 non-null  int64  \n",
            " 2   E1      99915 non-null  float64\n",
            " 3   px1     99915 non-null  float64\n",
            " 4   py1     99915 non-null  float64\n",
            " 5   pz1     99915 non-null  float64\n",
            " 6   pt1     99915 non-null  float64\n",
            " 7   eta1    99915 non-null  float64\n",
            " 8   phi1    99915 non-null  float64\n",
            " 9   Q1      99915 non-null  int64  \n",
            " 10  E2      99915 non-null  float64\n",
            " 11  px2     99915 non-null  float64\n",
            " 12  py2     99915 non-null  float64\n",
            " 13  pz2     99915 non-null  float64\n",
            " 14  pt2     99915 non-null  float64\n",
            " 15  eta2    99915 non-null  float64\n",
            " 16  phi2    99915 non-null  float64\n",
            " 17  Q2      99915 non-null  int64  \n",
            " 18  M       99915 non-null  float64\n",
            "dtypes: float64(15), int64(4)\n",
            "memory usage: 15.2 MB\n"
          ]
        }
      ]
    },
    {
      "cell_type": "code",
      "source": [
        "cern.describe()"
      ],
      "metadata": {
        "colab": {
          "base_uri": "https://localhost:8080/",
          "height": 364
        },
        "id": "XUTFt-gR9Xl1",
        "outputId": "c67a91da-19b1-4f85-c5d6-6d8299dd3516"
      },
      "execution_count": 8,
      "outputs": [
        {
          "output_type": "execute_result",
          "data": {
            "text/plain": [
              "                 Run         Event            E1          px1            py1  \\\n",
              "count   99915.000000  9.991500e+04  99915.000000  99915.000000  99915.000000   \n",
              "mean   147935.420007  4.957471e+08     36.460107      0.135858      0.183211   \n",
              "std       920.315526  4.037736e+08     41.225336     13.409322     13.474668   \n",
              "min    146511.000000  6.414000e+03      0.377928   -250.587000   -126.079000   \n",
              "25%    147114.000000  2.023716e+08      8.472775     -5.237190     -5.281100   \n",
              "50%    147929.000000  3.902917e+08     21.740200      0.141661      0.100544   \n",
              "75%    149011.000000  6.339332e+08     50.059250      5.718920      5.652355   \n",
              "max    149182.000000  1.791247e+09    850.602000    134.539000    147.467000   \n",
              "\n",
              "                pz1           pt1          eta1          phi1            Q1  \\\n",
              "count  99915.000000  99915.000000  99915.000000  99915.000000  99915.000000   \n",
              "mean      -1.509100     14.418195     -0.064143      0.022002     -0.005495   \n",
              "std       51.625332     12.391213      1.462626      1.799506      0.999990   \n",
              "min     -840.987000      0.219629     -4.165380     -3.141580     -1.000000   \n",
              "25%      -15.898650      3.773670     -1.284650     -1.526580     -1.000000   \n",
              "50%       -0.313360     12.972900     -0.061352      0.035015     -1.000000   \n",
              "75%       13.234400     20.026050      1.145405      1.562680      1.000000   \n",
              "max      760.096000    265.578000      2.622970      3.141420      1.000000   \n",
              "\n",
              "                 E2           px2           py2           pz2           pt2  \\\n",
              "count  99915.000000  99915.000000  99915.000000  99915.000000  99915.000000   \n",
              "mean      44.028549     -0.003442      0.125963     -1.591798     13.804597   \n",
              "std       46.761747     13.130364     13.171806     61.455194     12.463948   \n",
              "min        0.472500   -233.730000   -145.651000   -655.396000      0.026651   \n",
              "25%       11.065550     -4.793870     -4.604685    -22.062650      3.737825   \n",
              "50%       25.291400     -0.035653      0.084512     -0.692463     11.690800   \n",
              "75%       66.983350      4.818905      5.063075     19.041800     19.601700   \n",
              "max      948.375000    227.330000    166.283000    935.558000    281.654000   \n",
              "\n",
              "               eta2          phi2            Q2             M  \n",
              "count  99915.000000  99915.000000  99915.000000  99915.000000  \n",
              "mean      -0.072885      0.021772     -0.004234     30.019521  \n",
              "std        1.738660      1.816991      0.999996     25.255847  \n",
              "min       -7.064790     -3.141580     -1.000000      2.000080  \n",
              "25%       -1.892965     -1.556060     -1.000000     12.445200  \n",
              "50%       -0.136708      0.027453     -1.000000     21.283100  \n",
              "75%        1.769300      1.597040      1.000000     39.025050  \n",
              "max        3.060550      3.141290      1.000000    109.999000  "
            ],
            "text/html": [
              "\n",
              "  <div id=\"df-30a79965-e806-4b5d-a9d0-cc31cb86a13b\">\n",
              "    <div class=\"colab-df-container\">\n",
              "      <div>\n",
              "<style scoped>\n",
              "    .dataframe tbody tr th:only-of-type {\n",
              "        vertical-align: middle;\n",
              "    }\n",
              "\n",
              "    .dataframe tbody tr th {\n",
              "        vertical-align: top;\n",
              "    }\n",
              "\n",
              "    .dataframe thead th {\n",
              "        text-align: right;\n",
              "    }\n",
              "</style>\n",
              "<table border=\"1\" class=\"dataframe\">\n",
              "  <thead>\n",
              "    <tr style=\"text-align: right;\">\n",
              "      <th></th>\n",
              "      <th>Run</th>\n",
              "      <th>Event</th>\n",
              "      <th>E1</th>\n",
              "      <th>px1</th>\n",
              "      <th>py1</th>\n",
              "      <th>pz1</th>\n",
              "      <th>pt1</th>\n",
              "      <th>eta1</th>\n",
              "      <th>phi1</th>\n",
              "      <th>Q1</th>\n",
              "      <th>E2</th>\n",
              "      <th>px2</th>\n",
              "      <th>py2</th>\n",
              "      <th>pz2</th>\n",
              "      <th>pt2</th>\n",
              "      <th>eta2</th>\n",
              "      <th>phi2</th>\n",
              "      <th>Q2</th>\n",
              "      <th>M</th>\n",
              "    </tr>\n",
              "  </thead>\n",
              "  <tbody>\n",
              "    <tr>\n",
              "      <th>count</th>\n",
              "      <td>99915.000000</td>\n",
              "      <td>9.991500e+04</td>\n",
              "      <td>99915.000000</td>\n",
              "      <td>99915.000000</td>\n",
              "      <td>99915.000000</td>\n",
              "      <td>99915.000000</td>\n",
              "      <td>99915.000000</td>\n",
              "      <td>99915.000000</td>\n",
              "      <td>99915.000000</td>\n",
              "      <td>99915.000000</td>\n",
              "      <td>99915.000000</td>\n",
              "      <td>99915.000000</td>\n",
              "      <td>99915.000000</td>\n",
              "      <td>99915.000000</td>\n",
              "      <td>99915.000000</td>\n",
              "      <td>99915.000000</td>\n",
              "      <td>99915.000000</td>\n",
              "      <td>99915.000000</td>\n",
              "      <td>99915.000000</td>\n",
              "    </tr>\n",
              "    <tr>\n",
              "      <th>mean</th>\n",
              "      <td>147935.420007</td>\n",
              "      <td>4.957471e+08</td>\n",
              "      <td>36.460107</td>\n",
              "      <td>0.135858</td>\n",
              "      <td>0.183211</td>\n",
              "      <td>-1.509100</td>\n",
              "      <td>14.418195</td>\n",
              "      <td>-0.064143</td>\n",
              "      <td>0.022002</td>\n",
              "      <td>-0.005495</td>\n",
              "      <td>44.028549</td>\n",
              "      <td>-0.003442</td>\n",
              "      <td>0.125963</td>\n",
              "      <td>-1.591798</td>\n",
              "      <td>13.804597</td>\n",
              "      <td>-0.072885</td>\n",
              "      <td>0.021772</td>\n",
              "      <td>-0.004234</td>\n",
              "      <td>30.019521</td>\n",
              "    </tr>\n",
              "    <tr>\n",
              "      <th>std</th>\n",
              "      <td>920.315526</td>\n",
              "      <td>4.037736e+08</td>\n",
              "      <td>41.225336</td>\n",
              "      <td>13.409322</td>\n",
              "      <td>13.474668</td>\n",
              "      <td>51.625332</td>\n",
              "      <td>12.391213</td>\n",
              "      <td>1.462626</td>\n",
              "      <td>1.799506</td>\n",
              "      <td>0.999990</td>\n",
              "      <td>46.761747</td>\n",
              "      <td>13.130364</td>\n",
              "      <td>13.171806</td>\n",
              "      <td>61.455194</td>\n",
              "      <td>12.463948</td>\n",
              "      <td>1.738660</td>\n",
              "      <td>1.816991</td>\n",
              "      <td>0.999996</td>\n",
              "      <td>25.255847</td>\n",
              "    </tr>\n",
              "    <tr>\n",
              "      <th>min</th>\n",
              "      <td>146511.000000</td>\n",
              "      <td>6.414000e+03</td>\n",
              "      <td>0.377928</td>\n",
              "      <td>-250.587000</td>\n",
              "      <td>-126.079000</td>\n",
              "      <td>-840.987000</td>\n",
              "      <td>0.219629</td>\n",
              "      <td>-4.165380</td>\n",
              "      <td>-3.141580</td>\n",
              "      <td>-1.000000</td>\n",
              "      <td>0.472500</td>\n",
              "      <td>-233.730000</td>\n",
              "      <td>-145.651000</td>\n",
              "      <td>-655.396000</td>\n",
              "      <td>0.026651</td>\n",
              "      <td>-7.064790</td>\n",
              "      <td>-3.141580</td>\n",
              "      <td>-1.000000</td>\n",
              "      <td>2.000080</td>\n",
              "    </tr>\n",
              "    <tr>\n",
              "      <th>25%</th>\n",
              "      <td>147114.000000</td>\n",
              "      <td>2.023716e+08</td>\n",
              "      <td>8.472775</td>\n",
              "      <td>-5.237190</td>\n",
              "      <td>-5.281100</td>\n",
              "      <td>-15.898650</td>\n",
              "      <td>3.773670</td>\n",
              "      <td>-1.284650</td>\n",
              "      <td>-1.526580</td>\n",
              "      <td>-1.000000</td>\n",
              "      <td>11.065550</td>\n",
              "      <td>-4.793870</td>\n",
              "      <td>-4.604685</td>\n",
              "      <td>-22.062650</td>\n",
              "      <td>3.737825</td>\n",
              "      <td>-1.892965</td>\n",
              "      <td>-1.556060</td>\n",
              "      <td>-1.000000</td>\n",
              "      <td>12.445200</td>\n",
              "    </tr>\n",
              "    <tr>\n",
              "      <th>50%</th>\n",
              "      <td>147929.000000</td>\n",
              "      <td>3.902917e+08</td>\n",
              "      <td>21.740200</td>\n",
              "      <td>0.141661</td>\n",
              "      <td>0.100544</td>\n",
              "      <td>-0.313360</td>\n",
              "      <td>12.972900</td>\n",
              "      <td>-0.061352</td>\n",
              "      <td>0.035015</td>\n",
              "      <td>-1.000000</td>\n",
              "      <td>25.291400</td>\n",
              "      <td>-0.035653</td>\n",
              "      <td>0.084512</td>\n",
              "      <td>-0.692463</td>\n",
              "      <td>11.690800</td>\n",
              "      <td>-0.136708</td>\n",
              "      <td>0.027453</td>\n",
              "      <td>-1.000000</td>\n",
              "      <td>21.283100</td>\n",
              "    </tr>\n",
              "    <tr>\n",
              "      <th>75%</th>\n",
              "      <td>149011.000000</td>\n",
              "      <td>6.339332e+08</td>\n",
              "      <td>50.059250</td>\n",
              "      <td>5.718920</td>\n",
              "      <td>5.652355</td>\n",
              "      <td>13.234400</td>\n",
              "      <td>20.026050</td>\n",
              "      <td>1.145405</td>\n",
              "      <td>1.562680</td>\n",
              "      <td>1.000000</td>\n",
              "      <td>66.983350</td>\n",
              "      <td>4.818905</td>\n",
              "      <td>5.063075</td>\n",
              "      <td>19.041800</td>\n",
              "      <td>19.601700</td>\n",
              "      <td>1.769300</td>\n",
              "      <td>1.597040</td>\n",
              "      <td>1.000000</td>\n",
              "      <td>39.025050</td>\n",
              "    </tr>\n",
              "    <tr>\n",
              "      <th>max</th>\n",
              "      <td>149182.000000</td>\n",
              "      <td>1.791247e+09</td>\n",
              "      <td>850.602000</td>\n",
              "      <td>134.539000</td>\n",
              "      <td>147.467000</td>\n",
              "      <td>760.096000</td>\n",
              "      <td>265.578000</td>\n",
              "      <td>2.622970</td>\n",
              "      <td>3.141420</td>\n",
              "      <td>1.000000</td>\n",
              "      <td>948.375000</td>\n",
              "      <td>227.330000</td>\n",
              "      <td>166.283000</td>\n",
              "      <td>935.558000</td>\n",
              "      <td>281.654000</td>\n",
              "      <td>3.060550</td>\n",
              "      <td>3.141290</td>\n",
              "      <td>1.000000</td>\n",
              "      <td>109.999000</td>\n",
              "    </tr>\n",
              "  </tbody>\n",
              "</table>\n",
              "</div>\n",
              "      <button class=\"colab-df-convert\" onclick=\"convertToInteractive('df-30a79965-e806-4b5d-a9d0-cc31cb86a13b')\"\n",
              "              title=\"Convert this dataframe to an interactive table.\"\n",
              "              style=\"display:none;\">\n",
              "        \n",
              "  <svg xmlns=\"http://www.w3.org/2000/svg\" height=\"24px\"viewBox=\"0 0 24 24\"\n",
              "       width=\"24px\">\n",
              "    <path d=\"M0 0h24v24H0V0z\" fill=\"none\"/>\n",
              "    <path d=\"M18.56 5.44l.94 2.06.94-2.06 2.06-.94-2.06-.94-.94-2.06-.94 2.06-2.06.94zm-11 1L8.5 8.5l.94-2.06 2.06-.94-2.06-.94L8.5 2.5l-.94 2.06-2.06.94zm10 10l.94 2.06.94-2.06 2.06-.94-2.06-.94-.94-2.06-.94 2.06-2.06.94z\"/><path d=\"M17.41 7.96l-1.37-1.37c-.4-.4-.92-.59-1.43-.59-.52 0-1.04.2-1.43.59L10.3 9.45l-7.72 7.72c-.78.78-.78 2.05 0 2.83L4 21.41c.39.39.9.59 1.41.59.51 0 1.02-.2 1.41-.59l7.78-7.78 2.81-2.81c.8-.78.8-2.07 0-2.86zM5.41 20L4 18.59l7.72-7.72 1.47 1.35L5.41 20z\"/>\n",
              "  </svg>\n",
              "      </button>\n",
              "      \n",
              "  <style>\n",
              "    .colab-df-container {\n",
              "      display:flex;\n",
              "      flex-wrap:wrap;\n",
              "      gap: 12px;\n",
              "    }\n",
              "\n",
              "    .colab-df-convert {\n",
              "      background-color: #E8F0FE;\n",
              "      border: none;\n",
              "      border-radius: 50%;\n",
              "      cursor: pointer;\n",
              "      display: none;\n",
              "      fill: #1967D2;\n",
              "      height: 32px;\n",
              "      padding: 0 0 0 0;\n",
              "      width: 32px;\n",
              "    }\n",
              "\n",
              "    .colab-df-convert:hover {\n",
              "      background-color: #E2EBFA;\n",
              "      box-shadow: 0px 1px 2px rgba(60, 64, 67, 0.3), 0px 1px 3px 1px rgba(60, 64, 67, 0.15);\n",
              "      fill: #174EA6;\n",
              "    }\n",
              "\n",
              "    [theme=dark] .colab-df-convert {\n",
              "      background-color: #3B4455;\n",
              "      fill: #D2E3FC;\n",
              "    }\n",
              "\n",
              "    [theme=dark] .colab-df-convert:hover {\n",
              "      background-color: #434B5C;\n",
              "      box-shadow: 0px 1px 3px 1px rgba(0, 0, 0, 0.15);\n",
              "      filter: drop-shadow(0px 1px 2px rgba(0, 0, 0, 0.3));\n",
              "      fill: #FFFFFF;\n",
              "    }\n",
              "  </style>\n",
              "\n",
              "      <script>\n",
              "        const buttonEl =\n",
              "          document.querySelector('#df-30a79965-e806-4b5d-a9d0-cc31cb86a13b button.colab-df-convert');\n",
              "        buttonEl.style.display =\n",
              "          google.colab.kernel.accessAllowed ? 'block' : 'none';\n",
              "\n",
              "        async function convertToInteractive(key) {\n",
              "          const element = document.querySelector('#df-30a79965-e806-4b5d-a9d0-cc31cb86a13b');\n",
              "          const dataTable =\n",
              "            await google.colab.kernel.invokeFunction('convertToInteractive',\n",
              "                                                     [key], {});\n",
              "          if (!dataTable) return;\n",
              "\n",
              "          const docLinkHtml = 'Like what you see? Visit the ' +\n",
              "            '<a target=\"_blank\" href=https://colab.research.google.com/notebooks/data_table.ipynb>data table notebook</a>'\n",
              "            + ' to learn more about interactive tables.';\n",
              "          element.innerHTML = '';\n",
              "          dataTable['output_type'] = 'display_data';\n",
              "          await google.colab.output.renderOutput(dataTable, element);\n",
              "          const docLink = document.createElement('div');\n",
              "          docLink.innerHTML = docLinkHtml;\n",
              "          element.appendChild(docLink);\n",
              "        }\n",
              "      </script>\n",
              "    </div>\n",
              "  </div>\n",
              "  "
            ]
          },
          "metadata": {},
          "execution_count": 8
        }
      ]
    },
    {
      "cell_type": "markdown",
      "source": [
        "We drop the 'Event' and 'Run' columns as they are not useful for predictions."
      ],
      "metadata": {
        "id": "Osjzxd-09nGs"
      }
    },
    {
      "cell_type": "code",
      "source": [
        "cern.drop(['Run', 'Event'], axis=1, inplace=True)"
      ],
      "metadata": {
        "id": "la5ipeMO9g-c"
      },
      "execution_count": 9,
      "outputs": []
    },
    {
      "cell_type": "code",
      "source": [
        "cern.rename(columns={'E1':'e1_Energy', 'px1 ':'px1', 'E2':'e2_Energy', 'M':'InvariantMass'}, inplace =True)"
      ],
      "metadata": {
        "id": "bfD3UFqN94dt"
      },
      "execution_count": 10,
      "outputs": []
    },
    {
      "cell_type": "markdown",
      "source": [
        "##<font color='darkorange'>Splitting Data"
      ],
      "metadata": {
        "id": "ITrGJN_F9lJe"
      }
    },
    {
      "cell_type": "code",
      "source": [
        "cern_train, cern_test = train_test_split(cern, test_size=0.2)\n",
        "cern_train.shape"
      ],
      "metadata": {
        "colab": {
          "base_uri": "https://localhost:8080/"
        },
        "id": "Pd4uuc4g9pmX",
        "outputId": "8c5e47ea-8f55-46f2-abc0-c3271a644080"
      },
      "execution_count": 11,
      "outputs": [
        {
          "output_type": "execute_result",
          "data": {
            "text/plain": [
              "(79932, 17)"
            ]
          },
          "metadata": {},
          "execution_count": 11
        }
      ]
    },
    {
      "cell_type": "markdown",
      "source": [
        "## <font color='darkorange'>Build a Linear Regression Model\n"
      ],
      "metadata": {
        "id": "JGblQpEU7l5I"
      }
    },
    {
      "cell_type": "code",
      "source": [
        "cern_train.columns"
      ],
      "metadata": {
        "colab": {
          "base_uri": "https://localhost:8080/"
        },
        "id": "1YoihQ0g-wf1",
        "outputId": "1ca3cd5e-ad3c-48db-8443-115bfe012c4a"
      },
      "execution_count": 12,
      "outputs": [
        {
          "output_type": "execute_result",
          "data": {
            "text/plain": [
              "Index(['e1_Energy', 'px1', 'py1', 'pz1', 'pt1', 'eta1', 'phi1', 'Q1',\n",
              "       'e2_Energy', 'px2', 'py2', 'pz2', 'pt2', 'eta2', 'phi2', 'Q2',\n",
              "       'InvariantMass'],\n",
              "      dtype='object')"
            ]
          },
          "metadata": {},
          "execution_count": 12
        }
      ]
    },
    {
      "cell_type": "code",
      "source": [
        "linear_reg_model = smf.ols(formula='pt2 ~ e1_Energy + px1 + py1 + pz1 + pt1+ eta1+ phi1+ Q1+ e2_Energy+ px2+ py2+ pz2+ eta2+ phi2+ Q2+ InvariantMass', data=cern_train)\n",
        "\n",
        "linear_reg_results = linear_reg_model.fit()\n",
        "\n",
        "cern_train['pt2_pred'] = linear_reg_results.predict(cern_train)\n",
        "cern_test['pt2_pred'] = linear_reg_results.predict(cern_test)\n",
        "\n",
        "print(linear_reg_results.summary())"
      ],
      "metadata": {
        "colab": {
          "base_uri": "https://localhost:8080/"
        },
        "id": "oTdpuC9p7iMY",
        "outputId": "ff7d51d3-5a4c-4863-c9c8-88b1d4c6e672"
      },
      "execution_count": 13,
      "outputs": [
        {
          "output_type": "stream",
          "name": "stdout",
          "text": [
            "                            OLS Regression Results                            \n",
            "==============================================================================\n",
            "Dep. Variable:                    pt2   R-squared:                       0.638\n",
            "Model:                            OLS   Adj. R-squared:                  0.638\n",
            "Method:                 Least Squares   F-statistic:                     8804.\n",
            "Date:                Tue, 19 Jul 2022   Prob (F-statistic):               0.00\n",
            "Time:                        19:55:40   Log-Likelihood:            -2.7425e+05\n",
            "No. Observations:               79932   AIC:                         5.485e+05\n",
            "Df Residuals:                   79915   BIC:                         5.487e+05\n",
            "Df Model:                          16                                         \n",
            "Covariance Type:            nonrobust                                         \n",
            "=================================================================================\n",
            "                    coef    std err          t      P>|t|      [0.025      0.975]\n",
            "---------------------------------------------------------------------------------\n",
            "Intercept         2.8352      0.052     55.048      0.000       2.734       2.936\n",
            "e1_Energy        -0.0546      0.001    -59.159      0.000      -0.056      -0.053\n",
            "px1              -0.0019      0.002     -0.937      0.349      -0.006       0.002\n",
            "py1               0.0043      0.003      1.695      0.090      -0.001       0.009\n",
            "pz1               0.0003      0.001      0.431      0.667      -0.001       0.002\n",
            "pt1               0.1213      0.003     35.902      0.000       0.115       0.128\n",
            "eta1             -0.1176      0.029     -4.100      0.000      -0.174      -0.061\n",
            "phi1             -0.0221      0.018     -1.209      0.227      -0.058       0.014\n",
            "Q1                0.0019      0.027      0.069      0.945      -0.051       0.054\n",
            "e2_Energy         0.1827      0.001    283.571      0.000       0.181       0.184\n",
            "px2              -0.0071      0.002     -3.322      0.001      -0.011      -0.003\n",
            "py2              -0.0024      0.003     -0.939      0.348      -0.007       0.003\n",
            "pz2               0.0019      0.001      2.828      0.005       0.001       0.003\n",
            "eta2              0.0574      0.024      2.413      0.016       0.011       0.104\n",
            "phi2             -0.0220      0.018     -1.228      0.219      -0.057       0.013\n",
            "Q2                0.0418      0.027      1.565      0.118      -0.011       0.094\n",
            "InvariantMass     0.1046      0.001     80.139      0.000       0.102       0.107\n",
            "==============================================================================\n",
            "Omnibus:                    42994.384   Durbin-Watson:                   2.004\n",
            "Prob(Omnibus):                  0.000   Jarque-Bera (JB):           715752.621\n",
            "Skew:                           2.221   Prob(JB):                         0.00\n",
            "Kurtosis:                      16.971   Cond. No.                         154.\n",
            "==============================================================================\n",
            "\n",
            "Warnings:\n",
            "[1] Standard Errors assume that the covariance matrix of the errors is correctly specified.\n"
          ]
        }
      ]
    },
    {
      "cell_type": "markdown",
      "source": [
        "## <font color='darkorange'>Visualize our results\n"
      ],
      "metadata": {
        "id": "vi3RIXSq_ysa"
      }
    },
    {
      "cell_type": "markdown",
      "source": [
        "Visualizing the predicition of the second electrons energy in relation to the transverse momentum for the training data."
      ],
      "metadata": {
        "id": "ODvE5ZrcB20T"
      }
    },
    {
      "cell_type": "code",
      "source": [
        "sns.scatterplot(data=cern_train, x='e2_Energy', y='pt2')\n",
        "sns.scatterplot(data=cern_train, x='e2_Energy', y='pt2_pred')\n",
        "\n",
        "plt.legend(labels=[\"observed pt2\",\"predicted pt2\"])"
      ],
      "metadata": {
        "colab": {
          "base_uri": "https://localhost:8080/",
          "height": 297
        },
        "id": "APLSBqHj_17B",
        "outputId": "9710301d-76e8-46f4-e0fd-3b836a5483bf"
      },
      "execution_count": 14,
      "outputs": [
        {
          "output_type": "execute_result",
          "data": {
            "text/plain": [
              "<matplotlib.legend.Legend at 0x7fbf9464f410>"
            ]
          },
          "metadata": {},
          "execution_count": 14
        },
        {
          "output_type": "display_data",
          "data": {
            "text/plain": [
              "<Figure size 432x288 with 1 Axes>"
            ],
            "image/png": "[encoded data removed]"
          },
          "metadata": {
            "needs_background": "light"
          }
        }
      ]
    },
    {
      "cell_type": "markdown",
      "source": [
        "Visualizing the predicition of the second electrons energy in relation to the transverse momentum for the testing data."
      ],
      "metadata": {
        "id": "MrR8j-M2CCHL"
      }
    },
    {
      "cell_type": "code",
      "source": [
        "sns.scatterplot(data=cern_test, x='e2_Energy', y='pt2')\n",
        "sns.scatterplot(data=cern_test, x='e2_Energy', y='pt2_pred')\n",
        "\n",
        "plt.legend(labels=[\"observed pt2\",\"predicted pt2\"])"
      ],
      "metadata": {
        "colab": {
          "base_uri": "https://localhost:8080/",
          "height": 297
        },
        "id": "WJDWAivWCCdJ",
        "outputId": "0dd8ac60-7269-4144-9113-40833daa098f"
      },
      "execution_count": 15,
      "outputs": [
        {
          "output_type": "execute_result",
          "data": {
            "text/plain": [
              "<matplotlib.legend.Legend at 0x7fbf945e0d90>"
            ]
          },
          "metadata": {},
          "execution_count": 15
        },
        {
          "output_type": "display_data",
          "data": {
            "text/plain": [
              "<Figure size 432x288 with 1 Axes>"
            ],
            "image/png": "[encoded data removed]"
          },
          "metadata": {
            "needs_background": "light"
          }
        }
      ]
    },
    {
      "cell_type": "markdown",
      "source": [
        "## <font color='darkorange'>Error in Linear Regression model"
      ],
      "metadata": {
        "id": "vNJ_KBB5Chzn"
      }
    },
    {
      "cell_type": "code",
      "source": [
        "mse_train = sk.metrics.mean_squared_error(cern_train['pt2'], cern_train['pt2_pred'])\n",
        "mse_test = sk.metrics.mean_squared_error(cern_test['pt2'], cern_test['pt2_pred'])\n",
        "\n",
        "print(f'The mean squared error in our training dataset was {mse_train}.')\n",
        "print(f'The mean squared error in our testing dataset was {mse_test}.')"
      ],
      "metadata": {
        "colab": {
          "base_uri": "https://localhost:8080/"
        },
        "id": "HplqlYY1CrgK",
        "outputId": "3ee4f3b1-8720-448b-c9dc-4c0817f73863"
      },
      "execution_count": 16,
      "outputs": [
        {
          "output_type": "stream",
          "name": "stdout",
          "text": [
            "The mean squared error in our training dataset was 55.93402911717868.\n",
            "The mean squared error in our testing dataset was 59.35367959387496.\n"
          ]
        }
      ]
    },
    {
      "cell_type": "markdown",
      "source": [
        "# <font color='darkorange'>Building a Nueral Network Regressor"
      ],
      "metadata": {
        "id": "MjZYApEGFLW9"
      }
    },
    {
      "cell_type": "markdown",
      "source": [
        "### <font color='darkorange'>Re-Split data for training, testing spliting."
      ],
      "metadata": {
        "id": "kgax5CjMG4PS"
      }
    },
    {
      "cell_type": "code",
      "source": [
        "x = cern.drop('pt2', axis=1) #drop electron 2 transvers momentum, as that will be our target variable\n",
        "y = cern['pt2']"
      ],
      "metadata": {
        "id": "xVrXg--5-n-2"
      },
      "execution_count": 17,
      "outputs": []
    },
    {
      "cell_type": "code",
      "source": [
        "x_train_all, x_test, y_train_all, y_test = train_test_split(x, y, test_size = 0.2)\n"
      ],
      "metadata": {
        "id": "DZAjLpoaKjPL"
      },
      "execution_count": 18,
      "outputs": []
    },
    {
      "cell_type": "code",
      "source": [
        "x_train, x_val, y_train, y_val = train_test_split(x_train_all, y_train_all, test_size = 0.2)"
      ],
      "metadata": {
        "id": "sNWPNZUkK3ay"
      },
      "execution_count": 19,
      "outputs": []
    },
    {
      "cell_type": "code",
      "source": [
        "from sklearn.preprocessing import StandardScaler\n",
        "\n",
        "# determine numerical columns\n",
        "numerical_columns = x.select_dtypes(include=['int64', 'float64']).columns\n",
        "\n",
        "#create scaler\n",
        "my_scaler = StandardScaler()\n",
        "\n",
        "#fit and scale\n",
        "x_train[numerical_columns] = my_scaler.fit_transform(x_train[numerical_columns])\n",
        "x_val[numerical_columns] = my_scaler.transform(x_val[numerical_columns])\n",
        "x_test[numerical_columns] = my_scaler.transform(x_test[numerical_columns])"
      ],
      "metadata": {
        "id": "_cVNiTj4LDVF"
      },
      "execution_count": 20,
      "outputs": []
    },
    {
      "cell_type": "code",
      "source": [
        "x_train.describe()"
      ],
      "metadata": {
        "colab": {
          "base_uri": "https://localhost:8080/",
          "height": 434
        },
        "id": "wDe0azJpO9Fd",
        "outputId": "878a37c1-79e6-424a-9cd4-1c10fd95f0d3"
      },
      "execution_count": 21,
      "outputs": [
        {
          "output_type": "execute_result",
          "data": {
            "text/plain": [
              "          e1_Energy           px1           py1           pz1           pt1  \\\n",
              "count  6.394500e+04  6.394500e+04  6.394500e+04  6.394500e+04  6.394500e+04   \n",
              "mean  -1.091177e-16  3.666887e-18 -2.033456e-17  1.155625e-17  6.422609e-17   \n",
              "std    1.000008e+00  1.000008e+00  1.000008e+00  1.000008e+00  1.000008e+00   \n",
              "min   -8.753653e-01 -1.879425e+01 -9.415991e+00 -1.630594e+01 -1.147012e+00   \n",
              "25%   -6.789499e-01 -3.987280e-01 -4.057625e-01 -2.775740e-01 -8.596982e-01   \n",
              "50%   -3.561906e-01 -1.988643e-03 -9.184434e-03  2.432041e-02 -1.154129e-01   \n",
              "75%    3.306498e-01  4.195096e-01  4.061305e-01  2.878007e-01  4.563910e-01   \n",
              "max    1.981233e+01  1.006905e+01  9.535753e+00  1.000905e+01  2.038272e+01   \n",
              "\n",
              "               eta1          phi1            Q1     e2_Energy           px2  \\\n",
              "count  6.394500e+04  6.394500e+04  6.394500e+04  6.394500e+04  6.394500e+04   \n",
              "mean   2.655715e-17  1.466755e-17 -8.756082e-17  9.089436e-17 -4.000241e-18   \n",
              "std    1.000008e+00  1.000008e+00  1.000008e+00  1.000008e+00  1.000008e+00   \n",
              "min   -2.802855e+00 -1.760520e+00 -9.969240e-01 -9.285619e-01 -1.049907e+01   \n",
              "25%   -8.366027e-01 -8.591072e-01 -9.969240e-01 -7.021302e-01 -3.645586e-01   \n",
              "50%    2.226177e-03  6.233052e-03 -9.969240e-01 -4.009248e-01 -1.506119e-03   \n",
              "75%    8.277716e-01  8.573210e-01  1.003086e+00  4.918604e-01  3.657559e-01   \n",
              "max    1.832600e+00  1.736647e+00  1.003086e+00  1.930446e+01  1.241357e+01   \n",
              "\n",
              "                py2           pz2          eta2          phi2            Q2  \\\n",
              "count  6.394500e+04  6.394500e+04  6.394500e+04  6.394500e+04  6.394500e+04   \n",
              "mean   2.666827e-18 -7.444892e-18 -7.556010e-18 -2.077903e-17  2.122350e-17   \n",
              "std    1.000008e+00  1.000008e+00  1.000008e+00  1.000008e+00  1.000008e+00   \n",
              "min   -1.106122e+01 -9.613994e+00 -1.809918e+00 -1.735698e+00 -9.942149e-01   \n",
              "25%   -3.598726e-01 -3.314841e-01 -1.046319e+00 -8.689786e-01 -9.942149e-01   \n",
              "50%   -4.566075e-03  1.410374e-02 -3.993871e-02 -1.267611e-03 -9.942149e-01   \n",
              "75%    3.722421e-01  3.364039e-01  1.063406e+00  8.703783e-01  1.005819e+00   \n",
              "max    1.122614e+01  1.523592e+01  1.800641e+00  1.716477e+00  1.005819e+00   \n",
              "\n",
              "       InvariantMass  \n",
              "count   6.394500e+04  \n",
              "mean   -1.097844e-16  \n",
              "std     1.000008e+00  \n",
              "min    -1.108881e+00  \n",
              "25%    -6.955812e-01  \n",
              "50%    -3.448020e-01  \n",
              "75%     3.536151e-01  \n",
              "max     3.185548e+00  "
            ],
            "text/html": [
              "\n",
              "  <div id=\"df-98879f1a-ac86-425e-a12f-87a9d2e75ac3\">\n",
              "    <div class=\"colab-df-container\">\n",
              "      <div>\n",
              "<style scoped>\n",
              "    .dataframe tbody tr th:only-of-type {\n",
              "        vertical-align: middle;\n",
              "    }\n",
              "\n",
              "    .dataframe tbody tr th {\n",
              "        vertical-align: top;\n",
              "    }\n",
              "\n",
              "    .dataframe thead th {\n",
              "        text-align: right;\n",
              "    }\n",
              "</style>\n",
              "<table border=\"1\" class=\"dataframe\">\n",
              "  <thead>\n",
              "    <tr style=\"text-align: right;\">\n",
              "      <th></th>\n",
              "      <th>e1_Energy</th>\n",
              "      <th>px1</th>\n",
              "      <th>py1</th>\n",
              "      <th>pz1</th>\n",
              "      <th>pt1</th>\n",
              "      <th>eta1</th>\n",
              "      <th>phi1</th>\n",
              "      <th>Q1</th>\n",
              "      <th>e2_Energy</th>\n",
              "      <th>px2</th>\n",
              "      <th>py2</th>\n",
              "      <th>pz2</th>\n",
              "      <th>eta2</th>\n",
              "      <th>phi2</th>\n",
              "      <th>Q2</th>\n",
              "      <th>InvariantMass</th>\n",
              "    </tr>\n",
              "  </thead>\n",
              "  <tbody>\n",
              "    <tr>\n",
              "      <th>count</th>\n",
              "      <td>6.394500e+04</td>\n",
              "      <td>6.394500e+04</td>\n",
              "      <td>6.394500e+04</td>\n",
              "      <td>6.394500e+04</td>\n",
              "      <td>6.394500e+04</td>\n",
              "      <td>6.394500e+04</td>\n",
              "      <td>6.394500e+04</td>\n",
              "      <td>6.394500e+04</td>\n",
              "      <td>6.394500e+04</td>\n",
              "      <td>6.394500e+04</td>\n",
              "      <td>6.394500e+04</td>\n",
              "      <td>6.394500e+04</td>\n",
              "      <td>6.394500e+04</td>\n",
              "      <td>6.394500e+04</td>\n",
              "      <td>6.394500e+04</td>\n",
              "      <td>6.394500e+04</td>\n",
              "    </tr>\n",
              "    <tr>\n",
              "      <th>mean</th>\n",
              "      <td>-1.091177e-16</td>\n",
              "      <td>3.666887e-18</td>\n",
              "      <td>-2.033456e-17</td>\n",
              "      <td>1.155625e-17</td>\n",
              "      <td>6.422609e-17</td>\n",
              "      <td>2.655715e-17</td>\n",
              "      <td>1.466755e-17</td>\n",
              "      <td>-8.756082e-17</td>\n",
              "      <td>9.089436e-17</td>\n",
              "      <td>-4.000241e-18</td>\n",
              "      <td>2.666827e-18</td>\n",
              "      <td>-7.444892e-18</td>\n",
              "      <td>-7.556010e-18</td>\n",
              "      <td>-2.077903e-17</td>\n",
              "      <td>2.122350e-17</td>\n",
              "      <td>-1.097844e-16</td>\n",
              "    </tr>\n",
              "    <tr>\n",
              "      <th>std</th>\n",
              "      <td>1.000008e+00</td>\n",
              "      <td>1.000008e+00</td>\n",
              "      <td>1.000008e+00</td>\n",
              "      <td>1.000008e+00</td>\n",
              "      <td>1.000008e+00</td>\n",
              "      <td>1.000008e+00</td>\n",
              "      <td>1.000008e+00</td>\n",
              "      <td>1.000008e+00</td>\n",
              "      <td>1.000008e+00</td>\n",
              "      <td>1.000008e+00</td>\n",
              "      <td>1.000008e+00</td>\n",
              "      <td>1.000008e+00</td>\n",
              "      <td>1.000008e+00</td>\n",
              "      <td>1.000008e+00</td>\n",
              "      <td>1.000008e+00</td>\n",
              "      <td>1.000008e+00</td>\n",
              "    </tr>\n",
              "    <tr>\n",
              "      <th>min</th>\n",
              "      <td>-8.753653e-01</td>\n",
              "      <td>-1.879425e+01</td>\n",
              "      <td>-9.415991e+00</td>\n",
              "      <td>-1.630594e+01</td>\n",
              "      <td>-1.147012e+00</td>\n",
              "      <td>-2.802855e+00</td>\n",
              "      <td>-1.760520e+00</td>\n",
              "      <td>-9.969240e-01</td>\n",
              "      <td>-9.285619e-01</td>\n",
              "      <td>-1.049907e+01</td>\n",
              "      <td>-1.106122e+01</td>\n",
              "      <td>-9.613994e+00</td>\n",
              "      <td>-1.809918e+00</td>\n",
              "      <td>-1.735698e+00</td>\n",
              "      <td>-9.942149e-01</td>\n",
              "      <td>-1.108881e+00</td>\n",
              "    </tr>\n",
              "    <tr>\n",
              "      <th>25%</th>\n",
              "      <td>-6.789499e-01</td>\n",
              "      <td>-3.987280e-01</td>\n",
              "      <td>-4.057625e-01</td>\n",
              "      <td>-2.775740e-01</td>\n",
              "      <td>-8.596982e-01</td>\n",
              "      <td>-8.366027e-01</td>\n",
              "      <td>-8.591072e-01</td>\n",
              "      <td>-9.969240e-01</td>\n",
              "      <td>-7.021302e-01</td>\n",
              "      <td>-3.645586e-01</td>\n",
              "      <td>-3.598726e-01</td>\n",
              "      <td>-3.314841e-01</td>\n",
              "      <td>-1.046319e+00</td>\n",
              "      <td>-8.689786e-01</td>\n",
              "      <td>-9.942149e-01</td>\n",
              "      <td>-6.955812e-01</td>\n",
              "    </tr>\n",
              "    <tr>\n",
              "      <th>50%</th>\n",
              "      <td>-3.561906e-01</td>\n",
              "      <td>-1.988643e-03</td>\n",
              "      <td>-9.184434e-03</td>\n",
              "      <td>2.432041e-02</td>\n",
              "      <td>-1.154129e-01</td>\n",
              "      <td>2.226177e-03</td>\n",
              "      <td>6.233052e-03</td>\n",
              "      <td>-9.969240e-01</td>\n",
              "      <td>-4.009248e-01</td>\n",
              "      <td>-1.506119e-03</td>\n",
              "      <td>-4.566075e-03</td>\n",
              "      <td>1.410374e-02</td>\n",
              "      <td>-3.993871e-02</td>\n",
              "      <td>-1.267611e-03</td>\n",
              "      <td>-9.942149e-01</td>\n",
              "      <td>-3.448020e-01</td>\n",
              "    </tr>\n",
              "    <tr>\n",
              "      <th>75%</th>\n",
              "      <td>3.306498e-01</td>\n",
              "      <td>4.195096e-01</td>\n",
              "      <td>4.061305e-01</td>\n",
              "      <td>2.878007e-01</td>\n",
              "      <td>4.563910e-01</td>\n",
              "      <td>8.277716e-01</td>\n",
              "      <td>8.573210e-01</td>\n",
              "      <td>1.003086e+00</td>\n",
              "      <td>4.918604e-01</td>\n",
              "      <td>3.657559e-01</td>\n",
              "      <td>3.722421e-01</td>\n",
              "      <td>3.364039e-01</td>\n",
              "      <td>1.063406e+00</td>\n",
              "      <td>8.703783e-01</td>\n",
              "      <td>1.005819e+00</td>\n",
              "      <td>3.536151e-01</td>\n",
              "    </tr>\n",
              "    <tr>\n",
              "      <th>max</th>\n",
              "      <td>1.981233e+01</td>\n",
              "      <td>1.006905e+01</td>\n",
              "      <td>9.535753e+00</td>\n",
              "      <td>1.000905e+01</td>\n",
              "      <td>2.038272e+01</td>\n",
              "      <td>1.832600e+00</td>\n",
              "      <td>1.736647e+00</td>\n",
              "      <td>1.003086e+00</td>\n",
              "      <td>1.930446e+01</td>\n",
              "      <td>1.241357e+01</td>\n",
              "      <td>1.122614e+01</td>\n",
              "      <td>1.523592e+01</td>\n",
              "      <td>1.800641e+00</td>\n",
              "      <td>1.716477e+00</td>\n",
              "      <td>1.005819e+00</td>\n",
              "      <td>3.185548e+00</td>\n",
              "    </tr>\n",
              "  </tbody>\n",
              "</table>\n",
              "</div>\n",
              "      <button class=\"colab-df-convert\" onclick=\"convertToInteractive('df-98879f1a-ac86-425e-a12f-87a9d2e75ac3')\"\n",
              "              title=\"Convert this dataframe to an interactive table.\"\n",
              "              style=\"display:none;\">\n",
              "        \n",
              "  <svg xmlns=\"http://www.w3.org/2000/svg\" height=\"24px\"viewBox=\"0 0 24 24\"\n",
              "       width=\"24px\">\n",
              "    <path d=\"M0 0h24v24H0V0z\" fill=\"none\"/>\n",
              "    <path d=\"M18.56 5.44l.94 2.06.94-2.06 2.06-.94-2.06-.94-.94-2.06-.94 2.06-2.06.94zm-11 1L8.5 8.5l.94-2.06 2.06-.94-2.06-.94L8.5 2.5l-.94 2.06-2.06.94zm10 10l.94 2.06.94-2.06 2.06-.94-2.06-.94-.94-2.06-.94 2.06-2.06.94z\"/><path d=\"M17.41 7.96l-1.37-1.37c-.4-.4-.92-.59-1.43-.59-.52 0-1.04.2-1.43.59L10.3 9.45l-7.72 7.72c-.78.78-.78 2.05 0 2.83L4 21.41c.39.39.9.59 1.41.59.51 0 1.02-.2 1.41-.59l7.78-7.78 2.81-2.81c.8-.78.8-2.07 0-2.86zM5.41 20L4 18.59l7.72-7.72 1.47 1.35L5.41 20z\"/>\n",
              "  </svg>\n",
              "      </button>\n",
              "      \n",
              "  <style>\n",
              "    .colab-df-container {\n",
              "      display:flex;\n",
              "      flex-wrap:wrap;\n",
              "      gap: 12px;\n",
              "    }\n",
              "\n",
              "    .colab-df-convert {\n",
              "      background-color: #E8F0FE;\n",
              "      border: none;\n",
              "      border-radius: 50%;\n",
              "      cursor: pointer;\n",
              "      display: none;\n",
              "      fill: #1967D2;\n",
              "      height: 32px;\n",
              "      padding: 0 0 0 0;\n",
              "      width: 32px;\n",
              "    }\n",
              "\n",
              "    .colab-df-convert:hover {\n",
              "      background-color: #E2EBFA;\n",
              "      box-shadow: 0px 1px 2px rgba(60, 64, 67, 0.3), 0px 1px 3px 1px rgba(60, 64, 67, 0.15);\n",
              "      fill: #174EA6;\n",
              "    }\n",
              "\n",
              "    [theme=dark] .colab-df-convert {\n",
              "      background-color: #3B4455;\n",
              "      fill: #D2E3FC;\n",
              "    }\n",
              "\n",
              "    [theme=dark] .colab-df-convert:hover {\n",
              "      background-color: #434B5C;\n",
              "      box-shadow: 0px 1px 3px 1px rgba(0, 0, 0, 0.15);\n",
              "      filter: drop-shadow(0px 1px 2px rgba(0, 0, 0, 0.3));\n",
              "      fill: #FFFFFF;\n",
              "    }\n",
              "  </style>\n",
              "\n",
              "      <script>\n",
              "        const buttonEl =\n",
              "          document.querySelector('#df-98879f1a-ac86-425e-a12f-87a9d2e75ac3 button.colab-df-convert');\n",
              "        buttonEl.style.display =\n",
              "          google.colab.kernel.accessAllowed ? 'block' : 'none';\n",
              "\n",
              "        async function convertToInteractive(key) {\n",
              "          const element = document.querySelector('#df-98879f1a-ac86-425e-a12f-87a9d2e75ac3');\n",
              "          const dataTable =\n",
              "            await google.colab.kernel.invokeFunction('convertToInteractive',\n",
              "                                                     [key], {});\n",
              "          if (!dataTable) return;\n",
              "\n",
              "          const docLinkHtml = 'Like what you see? Visit the ' +\n",
              "            '<a target=\"_blank\" href=https://colab.research.google.com/notebooks/data_table.ipynb>data table notebook</a>'\n",
              "            + ' to learn more about interactive tables.';\n",
              "          element.innerHTML = '';\n",
              "          dataTable['output_type'] = 'display_data';\n",
              "          await google.colab.output.renderOutput(dataTable, element);\n",
              "          const docLink = document.createElement('div');\n",
              "          docLink.innerHTML = docLinkHtml;\n",
              "          element.appendChild(docLink);\n",
              "        }\n",
              "      </script>\n",
              "    </div>\n",
              "  </div>\n",
              "  "
            ]
          },
          "metadata": {},
          "execution_count": 21
        }
      ]
    },
    {
      "cell_type": "code",
      "source": [
        "from tensorflow.keras import layers"
      ],
      "metadata": {
        "id": "iaHieDoGFtK4"
      },
      "execution_count": 22,
      "outputs": []
    },
    {
      "cell_type": "code",
      "source": [
        "NN_regressor_model = keras.Sequential([\n",
        "               \n",
        "                layers.Dense(400, activation= 'relu'),\n",
        "                layers.Dense(200, activation= 'relu'),\n",
        "                layers.Dense(1, activation= 'linear')\n",
        "])"
      ],
      "metadata": {
        "id": "ykkp2oAPF4T3"
      },
      "execution_count": 23,
      "outputs": []
    },
    {
      "cell_type": "code",
      "source": [
        "#compile the model\n",
        "NN_regressor_model.compile(optimizer = 'rmsprop',\n",
        "                           loss='mse',\n",
        "                           metrics=['mse'])"
      ],
      "metadata": {
        "id": "nRVPByhBGTUQ"
      },
      "execution_count": 24,
      "outputs": []
    },
    {
      "cell_type": "code",
      "source": [
        "model_history = NN_regressor_model.fit(x_train, y_train,\n",
        "                                       epochs=10, \n",
        "                                       batch_size=1000,\n",
        "                                       validation_data = (x_val, y_val))"
      ],
      "metadata": {
        "colab": {
          "base_uri": "https://localhost:8080/"
        },
        "id": "ZDboc7ipGsVE",
        "outputId": "96274dea-752f-447e-bcc0-e1f5785772ff"
      },
      "execution_count": 25,
      "outputs": [
        {
          "output_type": "stream",
          "name": "stdout",
          "text": [
            "Epoch 1/10\n",
            "64/64 [==============================] - 3s 22ms/step - loss: 67.4679 - mse: 67.4679 - val_loss: 13.7303 - val_mse: 13.7303\n",
            "Epoch 2/10\n",
            "64/64 [==============================] - 1s 19ms/step - loss: 4.9161 - mse: 4.9161 - val_loss: 1.7261 - val_mse: 1.7261\n",
            "Epoch 3/10\n",
            "64/64 [==============================] - 1s 19ms/step - loss: 1.4507 - mse: 1.4507 - val_loss: 0.9023 - val_mse: 0.9023\n",
            "Epoch 4/10\n",
            "64/64 [==============================] - 1s 20ms/step - loss: 1.0187 - mse: 1.0187 - val_loss: 0.7269 - val_mse: 0.7269\n",
            "Epoch 5/10\n",
            "64/64 [==============================] - 1s 19ms/step - loss: 0.7783 - mse: 0.7783 - val_loss: 0.6299 - val_mse: 0.6299\n",
            "Epoch 6/10\n",
            "64/64 [==============================] - 1s 17ms/step - loss: 0.6603 - mse: 0.6603 - val_loss: 0.3311 - val_mse: 0.3311\n",
            "Epoch 7/10\n",
            "64/64 [==============================] - 1s 18ms/step - loss: 0.5681 - mse: 0.5681 - val_loss: 0.7646 - val_mse: 0.7646\n",
            "Epoch 8/10\n",
            "64/64 [==============================] - 1s 19ms/step - loss: 0.5361 - mse: 0.5361 - val_loss: 0.5657 - val_mse: 0.5657\n",
            "Epoch 9/10\n",
            "64/64 [==============================] - 1s 17ms/step - loss: 0.4845 - mse: 0.4845 - val_loss: 0.4652 - val_mse: 0.4652\n",
            "Epoch 10/10\n",
            "64/64 [==============================] - 1s 18ms/step - loss: 0.4474 - mse: 0.4474 - val_loss: 0.2872 - val_mse: 0.2872\n"
          ]
        }
      ]
    },
    {
      "cell_type": "code",
      "source": [
        "plt.plot(model_history.history[\"loss\"], label='loss')\n",
        "plt.plot(model_history.history[\"val_loss\"], label=\"val_loss\")\n",
        "plt.legend()\n",
        "plt.show()"
      ],
      "metadata": {
        "colab": {
          "base_uri": "https://localhost:8080/",
          "height": 267
        },
        "id": "uzOGMtfSHQB6",
        "outputId": "abf4b200-239d-4dd0-99a7-fae2627bbb35"
      },
      "execution_count": 26,
      "outputs": [
        {
          "output_type": "display_data",
          "data": {
            "text/plain": [
              "<Figure size 432x288 with 1 Axes>"
            ],
            "image/png": "[encoded data removed]"
          },
          "metadata": {
            "needs_background": "light"
          }
        }
      ]
    },
    {
      "cell_type": "code",
      "source": [
        "plt.plot(model_history.history[\"mse\"], label='Mse')\n",
        "plt.plot(model_history.history[\"val_mse\"], label='Val_Mse')\n",
        "plt.legend()\n",
        "plt.show()"
      ],
      "metadata": {
        "colab": {
          "base_uri": "https://localhost:8080/",
          "height": 267
        },
        "id": "HSmx3j3kHh04",
        "outputId": "bfe09f3c-c544-4b1b-e637-60df84e605e4"
      },
      "execution_count": 27,
      "outputs": [
        {
          "output_type": "display_data",
          "data": {
            "text/plain": [
              "<Figure size 432x288 with 1 Axes>"
            ],
            "image/png": "[encoded data removed]"
          },
          "metadata": {
            "needs_background": "light"
          }
        }
      ]
    },
    {
      "cell_type": "code",
      "source": [
        "min(model_history.history['mse'])"
      ],
      "metadata": {
        "colab": {
          "base_uri": "https://localhost:8080/"
        },
        "id": "F9CQsfUsImIb",
        "outputId": "fdd07519-7ddf-4461-f163-d7fee31ff8b4"
      },
      "execution_count": 28,
      "outputs": [
        {
          "output_type": "execute_result",
          "data": {
            "text/plain": [
              "0.4473952651023865"
            ]
          },
          "metadata": {},
          "execution_count": 28
        }
      ]
    },
    {
      "cell_type": "markdown",
      "source": [
        "This nueral network was built to over fit with 30 epochs, of 2000 batch size. The architecture was 3 hidden layers of 1000, 400, and 200 nodes respectively. This produced a minimum mean squared error of 1.2. The existing architecture returns a mean squared error of 0.43. \n",
        "\n",
        "\n"
      ],
      "metadata": {
        "id": "VmjGdLLdUAlM"
      }
    },
    {
      "cell_type": "code",
      "source": [
        "test_loss, test_MAE = NN_regressor_model.evaluate(x_test, y_test)\n",
        "print(f\"test_MAE: {test_MAE}\")"
      ],
      "metadata": {
        "colab": {
          "base_uri": "https://localhost:8080/"
        },
        "id": "zt7-VRamT81K",
        "outputId": "ca8ebaac-ded0-4aef-d664-005b67ed96b2"
      },
      "execution_count": 29,
      "outputs": [
        {
          "output_type": "stream",
          "name": "stdout",
          "text": [
            "625/625 [==============================] - 1s 2ms/step - loss: 0.2759 - mse: 0.2759\n",
            "test_MAE: 0.2758896052837372\n"
          ]
        }
      ]
    },
    {
      "cell_type": "code",
      "source": [
        ""
      ],
      "metadata": {
        "id": "ifqk9XegAllk"
      },
      "execution_count": 29,
      "outputs": []
    },
    {
      "cell_type": "code",
      "source": [
        "from tensorflow.keras.utils import plot_model\n",
        "plot_model(NN_regressor_model, show_shapes=True)"
      ],
      "metadata": {
        "colab": {
          "base_uri": "https://localhost:8080/",
          "height": 422
        },
        "id": "RNxtri8LXkTT",
        "outputId": "f801300b-4941-410e-d300-e926353ec857"
      },
      "execution_count": 30,
      "outputs": [
        {
          "output_type": "execute_result",
          "data": {
            "text/plain": [
              "<IPython.core.display.Image object>"
            ],
            "image/png": "[encoded data removed]"
          },
          "metadata": {},
          "execution_count": 30
        }
      ]
    },
    {
      "cell_type": "code",
      "source": [
        "predictions = NN_regressor_model.predict(x_test)\n",
        "\n",
        "plt.scatter(predictions,x_test[\"e2_Energy\"] )\n",
        "plt.scatter(y_test,x_test[\"e2_Energy\"], color=\"orange\" )\n",
        "\n",
        "plt.legend(labels=[\"Predicted pt2\",\"observed pt2\"])"
      ],
      "metadata": {
        "colab": {
          "base_uri": "https://localhost:8080/",
          "height": 282
        },
        "id": "qRFjzGVcYEUq",
        "outputId": "f3201cc6-e221-4454-f403-3dc8a9f87e02"
      },
      "execution_count": 31,
      "outputs": [
        {
          "output_type": "execute_result",
          "data": {
            "text/plain": [
              "<matplotlib.legend.Legend at 0x7fbf9358e050>"
            ]
          },
          "metadata": {},
          "execution_count": 31
        },
        {
          "output_type": "display_data",
          "data": {
            "text/plain": [
              "<Figure size 432x288 with 1 Axes>"
            ],
            "image/png": "[encoded data removed]"
          },
          "metadata": {
            "needs_background": "light"
          }
        }
      ]
    },
    {
      "cell_type": "markdown",
      "source": [
        "Below we will calculate the coefficient of determination for our neural network."
      ],
      "metadata": {
        "id": "YTJxsxWmFXpt"
      }
    },
    {
      "cell_type": "code",
      "source": [
        "predictions = predictions.flatten() #reshape data from 2d to 1d \n",
        "predictions.shape"
      ],
      "metadata": {
        "colab": {
          "base_uri": "https://localhost:8080/"
        },
        "id": "3rqwVKybB1_H",
        "outputId": "d56c9f73-e2b3-45f4-8b32-44ef948d9818"
      },
      "execution_count": 48,
      "outputs": [
        {
          "output_type": "execute_result",
          "data": {
            "text/plain": [
              "(19983,)"
            ]
          },
          "metadata": {},
          "execution_count": 48
        }
      ]
    },
    {
      "cell_type": "code",
      "source": [
        "y_test.shape"
      ],
      "metadata": {
        "colab": {
          "base_uri": "https://localhost:8080/"
        },
        "id": "EcbfD9ORC1kC",
        "outputId": "750d0a26-592b-4a87-c240-55bcfadb791b"
      },
      "execution_count": 39,
      "outputs": [
        {
          "output_type": "execute_result",
          "data": {
            "text/plain": [
              "(19983,)"
            ]
          },
          "metadata": {},
          "execution_count": 39
        }
      ]
    },
    {
      "cell_type": "code",
      "source": [
        "from keras import backend as K\n",
        "\n",
        "def coeff_determination(y_true, y_pred):\n",
        "    SS_res =  K.sum(K.square( y_true-y_pred ))\n",
        "    SS_tot = K.sum(K.square( y_true - K.mean(y_true) ) )\n",
        "    return ( 1 - SS_res/(SS_tot + K.epsilon()) )"
      ],
      "metadata": {
        "id": "oKwqHYBXBob5"
      },
      "execution_count": 35,
      "outputs": []
    },
    {
      "cell_type": "code",
      "source": [
        "print('The R^2 value for the nueral network is:')\n",
        "print(coeff_determination(K.constant(y_test), K.constant(predictions))) #Need to change np.arrays to keras tensors for the keras backend to handle it."
      ],
      "metadata": {
        "colab": {
          "base_uri": "https://localhost:8080/"
        },
        "id": "RoERwd7rClaW",
        "outputId": "e62f13a2-b24e-43b2-bb37-ad8459872cf9"
      },
      "execution_count": 52,
      "outputs": [
        {
          "output_type": "stream",
          "name": "stdout",
          "text": [
            "The R^2 value for the nueral network is:\n",
            "tf.Tensor(0.9982062, shape=(), dtype=float32)\n"
          ]
        }
      ]
    },
    {
      "cell_type": "markdown",
      "source": [
        "## <font color='darkorange'>Comparing Models\n"
      ],
      "metadata": {
        "id": "_Rvu58RwZRox"
      }
    },
    {
      "cell_type": "markdown",
      "source": [
        "The linear regression model capable of predicting trends but could not accurately recreate the transvers momentum of the second electron. After training we found a mean squared error of 59.4 for our testing dataset. This correlated to a coefficient of determination (R-squared) of 0.638. \n",
        "\n",
        "Using a nueral network of two hidden layers, 400 and 200 nodes respectively, we aquired a miniumum testing mean squared error of 0.45. Plotting the predictions shows how accurate this model became when generalized to our testing data. We use the keras backend .square method to find a coefficient of determination (R-squared) of 0.998. This is incredibly high and usually would be a concern when building a model. This could raise concerns about overfitting, however it is determined by comparing predictions on data the model has never seen. I believe the high R-squared value is due to there being mathematical laws governing the outcomes of the experiment. With enough correct data it would appear that model has been trained to mirror the outcome of the laws of particle physics. \n",
        "\n",
        "For this application there is a stron case for using the less explainable neural network model. The predicitve abilities far outpace those of the linear regression model. It would be suspected that the linear model fails due to no single variable being directly correlated to the transverse momentum outcome. Unlike the linear model the neural net is capabale of analyzing the impact of multiple variable inter-connected influence on the transverse momentum. The puzzle can be put together quite accurately with all the pieces, but fails when try to compare one variable to the outcome at a time. \n",
        "\n",
        "Due to the nature of the problem's audience it would also be encouraged to us the neural net model. Unlike models that are built for reporting profits to company CEOs, or healthcare issues to the general public, this model would be analyzed by mathematicians, physicists, and computer programmers. "
      ],
      "metadata": {
        "id": "zkwxsYOjG5gf"
      }
    }
  ]
}